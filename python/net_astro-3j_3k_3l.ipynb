{
 "cells": [
  {
   "cell_type": "markdown",
   "metadata": {},
   "source": [
    "# Figs. 3J, 3K, 3L\n",
    "## ROI-based analyses\n",
    "\n",
    "For \"Network-level encoding of local neurotransmitters in cortical astrocytes\" (Cahill et al. 2024)"
   ]
  },
  {
   "cell_type": "markdown",
   "metadata": {},
   "source": [
    "---"
   ]
  },
  {
   "cell_type": "markdown",
   "metadata": {},
   "source": [
    "## Setup"
   ]
  },
  {
   "cell_type": "markdown",
   "metadata": {},
   "source": [
    "#### Imports"
   ]
  },
  {
   "cell_type": "code",
   "execution_count": 1,
   "metadata": {},
   "outputs": [],
   "source": [
    "import numpy as np\n",
    "import pandas as pd\n",
    "\n",
    "import matplotlib.pyplot as plt\n",
    "from matplotlib.patches import (\n",
    "    Rectangle,\n",
    ")\n",
    "\n",
    "from pathlib import Path\n",
    "\n",
    "from tqdm import tqdm\n",
    "\n",
    "# Internal\n",
    "\n",
    "from uncaging import (\n",
    "    Helper,\n",
    ")\n",
    "\n",
    "import uncaging.utils as uutils\n",
    "import uncaging.events as uevents\n",
    "import uncaging.plot as uplot\n",
    "import uncaging.stats as ustats\n",
    "\n",
    "import aqua.stats as astats"
   ]
  },
  {
   "cell_type": "markdown",
   "metadata": {},
   "source": [
    "#### Parameters"
   ]
  },
  {
   "cell_type": "code",
   "execution_count": 2,
   "metadata": {},
   "outputs": [],
   "source": [
    "params_path = Path( 'config' ) / 'panels' / 'net_astro-3j_3k_3l.yaml'\n",
    "params = uutils.load_params( params_path )\n",
    "\n",
    "# Choices for `variant`:\n",
    "# * 'wt': Figs. 3j, 3k, 3l\n",
    "# * 'cx43': Corresponding versions for Cx43fl dataset\n",
    "variant = 'wt'\n",
    "\n",
    "params.update( params['variants'][variant] )"
   ]
  },
  {
   "cell_type": "markdown",
   "metadata": {},
   "source": [
    "#### Initial setup"
   ]
  },
  {
   "cell_type": "code",
   "execution_count": 3,
   "metadata": {},
   "outputs": [],
   "source": [
    "helper = Helper( config_path = params['helper_configs'],\n",
    "                 hive_root = params['hive_root'],\n",
    "                 output_to = params['output_parent'] )\n",
    "\n",
    "# For reproducible results with randomness\n",
    "np.random.seed( params['random_seed'] )\n",
    "\n",
    "# Output saving\n",
    "notebook_stem = params['notebook_stem']\n",
    "analysis = params['analysis']\n",
    "\n",
    "save_figure = helper.figure_saver( notebook_stem, analysis )\n",
    "save_data = helper.data_saver( notebook_stem, analysis )\n",
    "save_csv = helper.csv_saver( notebook_stem, analysis )"
   ]
  },
  {
   "cell_type": "markdown",
   "metadata": {},
   "source": [
    "---"
   ]
  },
  {
   "cell_type": "markdown",
   "metadata": {},
   "source": [
    "## Load data"
   ]
  },
  {
   "cell_type": "code",
   "execution_count": 4,
   "metadata": {},
   "outputs": [
    {
     "name": "stderr",
     "output_type": "stream",
     "text": [
      "Loading 20200814_CytoGp35m_S2_RuBiGlu4_10stims-024Cycle00001_Ch1_cell-events.mat...: 100%|██████████| 56/56 [00:02<00:00, 24.05it/s] \n",
      "Loading 20210629_CytoGp34f_S3_NoRuBi6_10stim-036Cycle00001_Ch1_cell-events.mat...: 100%|██████████| 48/48 [00:01<00:00, 42.33it/s]\n",
      "Loading 20200814_CytoGp35m_S2_RuBiGlu4_10stims-024Cycle00001_Ch1_cell-events.mat...: 100%|██████████| 56/56 [00:01<00:00, 30.72it/s] \n",
      "Grid decorators: 100%|██████████| 28/28 [00:23<00:00,  1.20it/s]\n",
      "Grid decorators: 100%|██████████| 48/48 [00:30<00:00,  1.56it/s]\n",
      "Grid decorators: 100%|██████████| 28/28 [00:24<00:00,  1.12it/s]\n"
     ]
    },
    {
     "name": "stdout",
     "output_type": "stream",
     "text": [
      "\n",
      "Experiment GABA\n",
      "    Excluded cells: 154\n",
      "    Included cells: 164\n",
      "\n",
      "\n",
      "Experiment Control-Laser\n",
      "    Excluded cells: 716\n",
      "    Included cells: 99\n",
      "\n",
      "\n",
      "Experiment Glu\n",
      "    Excluded cells: 177\n",
      "    Included cells: 138\n",
      "\n"
     ]
    }
   ],
   "source": [
    "grid_decorator = ('grid', params['grid_scale'], params['grid_extent'])\n",
    "\n",
    "events_analyze = helper.load_analysis_events(\n",
    "    analysis,\n",
    "    extra_decorators = [\n",
    "        grid_decorator,\n",
    "    ],\n",
    "    verbose = True\n",
    ")"
   ]
  },
  {
   "cell_type": "markdown",
   "metadata": {},
   "source": [
    "---"
   ]
  },
  {
   "cell_type": "markdown",
   "metadata": {},
   "source": [
    "## Analysis"
   ]
  },
  {
   "cell_type": "markdown",
   "metadata": {},
   "source": [
    "#### Additional params for `responders`"
   ]
  },
  {
   "cell_type": "code",
   "execution_count": 5,
   "metadata": {},
   "outputs": [],
   "source": [
    "grid_number_str = f'{params[\"grid_scale\"]:0d}'\n",
    "\n",
    "grid_key = f'grid_global_{grid_number_str}'\n",
    "grid_key_coreg = f'grid_global_{grid_number_str}_coreg'\n",
    "grid_x_key = f'grid_x_center_um_{grid_number_str}'\n",
    "grid_y_key = f'grid_y_center_um_{grid_number_str}'\n",
    "\n",
    "# Additional metadata to coregister for the responder analysis\n",
    "# (These are used downstream for characterization)\n",
    "params['responders']['keep_keys'] = [\n",
    "    'condition',\n",
    "    'cell_global_coreg',\n",
    "    'dataset_id_all',\n",
    "    'fov_coreg',\n",
    "    f'grid_dataset_{grid_number_str}',\n",
    "    grid_key,\n",
    "    grid_key_coreg,\n",
    "    grid_x_key,\n",
    "    grid_y_key,\n",
    "]"
   ]
  },
  {
   "cell_type": "markdown",
   "metadata": {},
   "source": [
    "#### Subselect events for consideration"
   ]
  },
  {
   "cell_type": "code",
   "execution_count": 6,
   "metadata": {},
   "outputs": [],
   "source": [
    "comparison_key = params['comparison_key']\n",
    "comparison = params['comparison']\n",
    "\n",
    "# In case the analysis should be performed with other subsets\n",
    "# (e.g., propagative only or static only)\n",
    "events_considered = events_analyze\n",
    "\n",
    "# Only consider neighbor cells\n",
    "filter_events_neighbor = events_considered['is_uncage'] == False\n",
    "# Only consider data from the conditions being analyzed\n",
    "filter_events_comparison = events_considered[comparison_key].isin( comparison )\n",
    "\n",
    "filter_events_panel = filter_events_neighbor & filter_events_comparison\n",
    "\n",
    "events_panel = events_considered.copy()[filter_events_panel]"
   ]
  },
  {
   "cell_type": "markdown",
   "metadata": {},
   "source": [
    "#### Characterize $n$"
   ]
  },
  {
   "cell_type": "code",
   "execution_count": 7,
   "metadata": {},
   "outputs": [
    {
     "name": "stdout",
     "output_type": "stream",
     "text": [
      "Mice:            n = 4\n",
      "Slices:          n = 7\n",
      "Datasets:        n = 55\n",
      "Cell-recordings: n = 262\n",
      "Cells:           n = 174\n",
      "ROI-recordings:  n = 1403\n",
      "ROIs:            n = 1403\n",
      "Events:          n = 17885\n",
      "Slices per mouse:\n",
      "    Low:  1\n",
      "    High: 2\n",
      "Datasets per mouse:\n",
      "    Low:  8\n",
      "    High: 16\n",
      "Datasets per slice:\n",
      "    Low:  7\n",
      "    High: 8\n",
      "Cells per dataset:\n",
      "    Low:  1\n",
      "    High: 13\n",
      "ROIs per dataset:\n",
      "    Low:  5\n",
      "    High: 105\n",
      "Events per cell-recording:\n",
      "    Low:  10\n",
      "    High: 266\n",
      "Events per ROI-recording:\n",
      "    Low:  1\n",
      "    High: 83\n",
      "\n",
      "** GABA:\n",
      "Datasets:        n = 28\n",
      "Cell-recordings: n = 142\n",
      "ROI-recordings:  n = 1132\n",
      "Events:          n = 9775\n",
      "Cells per dataset:\n",
      "    Low:  2\n",
      "    High: 13\n",
      "ROIs per dataset:\n",
      "    Low:  15\n",
      "    High: 105\n",
      "\n",
      "** Glu:\n",
      "Datasets:        n = 27\n",
      "Cell-recordings: n = 120\n",
      "ROI-recordings:  n = 954\n",
      "Events:          n = 8110\n",
      "Cells per dataset:\n",
      "    Low:  1\n",
      "    High: 7\n",
      "ROIs per dataset:\n",
      "    Low:  5\n",
      "    High: 67\n"
     ]
    }
   ],
   "source": [
    "uevents.summarize_n(\n",
    "    events_panel,\n",
    "    grid_number = grid_number_str\n",
    ")"
   ]
  },
  {
   "cell_type": "markdown",
   "metadata": {},
   "source": [
    "#### Compute responses"
   ]
  },
  {
   "cell_type": "code",
   "execution_count": 8,
   "metadata": {},
   "outputs": [],
   "source": [
    "dfs_responders = dict()\n",
    "\n",
    "for condition in comparison:\n",
    "    \n",
    "    filter_responder_condition = events_panel[comparison_key] == condition\n",
    "    events_condition = events_panel[filter_responder_condition]\n",
    "    \n",
    "    df_responders = uevents.responders(\n",
    "        events_condition,\n",
    "        grid_key,\n",
    "        **params['responders']\n",
    "    )\n",
    "    dfs_responders[condition] = df_responders"
   ]
  },
  {
   "cell_type": "markdown",
   "metadata": {},
   "source": [
    "#### Compute fov-level derived statistics"
   ]
  },
  {
   "cell_type": "code",
   "execution_count": 9,
   "metadata": {},
   "outputs": [],
   "source": [
    "group_key = 'fov_coreg'\n",
    "\n",
    "condition_a = comparison[0]\n",
    "condition_b = comparison[1]\n",
    "\n",
    "# Determine all of the overall aggregation group ids\n",
    "\n",
    "groups = None\n",
    "for condition in comparison:\n",
    "    condition_groups = set( dfs_responders[condition][group_key].unique() )\n",
    "    if groups is None:\n",
    "        groups = condition_groups\n",
    "    else:\n",
    "        groups = groups & condition_groups\n",
    "groups = list( groups )\n",
    "\n",
    "# Determine the activity and condition overlap stats for each aggregation group\n",
    "\n",
    "df_roi_active = pd.DataFrame()\n",
    "df_overlap = pd.DataFrame()\n",
    "for group in groups:\n",
    "    \n",
    "    overlap_row = dict()\n",
    "    overlap_row[group_key] = group\n",
    "    \n",
    "    df_responders_a = dfs_responders[condition_a].copy()\n",
    "    df_responders_b = dfs_responders[condition_b].copy()\n",
    "    \n",
    "    filter_fov_a = df_responders_a[group_key] == group\n",
    "    df_a = df_responders_a[filter_fov_a].copy()\n",
    "    filter_fov_b = df_responders_b[group_key] == group\n",
    "    df_b = df_responders_b[filter_fov_b].copy()\n",
    "    \n",
    "    df_a['pre_active'] = (df_a['rate_pre'] > 0.).astype( int )\n",
    "    df_b['pre_active'] = (df_b['rate_pre'] > 0.).astype( int )\n",
    "    \n",
    "    pre_overlap, pre_either, _ = uutils.overlap( df_a, df_b,\n",
    "                                                 key = 'pre_active' )\n",
    "    post_overlap, post_either, _ = uutils.overlap( df_a, df_b,\n",
    "                                                   key = 'ratio_active' )\n",
    "    \n",
    "    overlap_row['pre_overlap'] = pre_overlap\n",
    "    overlap_row['pre_either'] = pre_either\n",
    "    overlap_row['post_overlap'] = post_overlap\n",
    "    overlap_row['post_either'] = post_either\n",
    "    \n",
    "    overlap_row['pre_jaccard'] = pre_overlap / pre_either\n",
    "    overlap_row['post_jaccard'] = post_overlap / post_either\n",
    "\n",
    "    overlap_row_df = pd.DataFrame( overlap_row, index = [group] )\n",
    "    df_overlap = pd.concat( [df_overlap, overlap_row_df],\n",
    "                            ignore_index = True )\n",
    "    \n",
    "    for condition, df_responders in dfs_responders.items():\n",
    "        \n",
    "        filter_group_responders = df_responders[group_key] == group\n",
    "        df_group = df_responders[filter_group_responders]\n",
    "        filter_group_events = events_panel[group_key] == group\n",
    "        events_group = events_panel[filter_group_events]\n",
    "\n",
    "        for i_row, row in df_group.iterrows():\n",
    "            \n",
    "            cur_roi_desc = dict()\n",
    "            \n",
    "            x = row[grid_x_key]\n",
    "            y = row[grid_y_key]\n",
    "            \n",
    "            cur_roi_desc['center_x'] = x\n",
    "            cur_roi_desc['center_y'] = y\n",
    "            cur_roi_desc['pre_active'] = row['rate_pre'] > 0.\n",
    "            cur_roi_desc['post_active'] = row['ratio_active'] == 1\n",
    "            cur_roi_desc[comparison_key] = condition\n",
    "            \n",
    "            cur_roi_desc_df = pd.DataFrame( cur_roi_desc,\n",
    "                                            index = [i_row] )\n",
    "            df_roi_active = pd.concat( [df_roi_active, cur_roi_desc_df],\n",
    "                                       ignore_index = True )"
   ]
  },
  {
   "cell_type": "markdown",
   "metadata": {},
   "source": [
    "### 3K: Plot fov-level results"
   ]
  },
  {
   "cell_type": "code",
   "execution_count": 10,
   "metadata": {},
   "outputs": [
    {
     "name": "stderr",
     "output_type": "stream",
     "text": [
      "100%|██████████| 27/27 [00:04<00:00,  6.49it/s]\n"
     ]
    }
   ],
   "source": [
    "if 'fovs' not in params['output_names']:\n",
    "    print( 'Output not in this variant.' )\n",
    "\n",
    "else:\n",
    "\n",
    "    plot_params = params['plots']['fovs']\n",
    "\n",
    "    grid_scale = params['grid_scale']\n",
    "\n",
    "    pre_active_linewidth = 1.\n",
    "    pre_active_alpha = 0.2\n",
    "    post_active_linewidth = 2.\n",
    "    post_active_alpha = 0.4\n",
    "\n",
    "    fov_extent = 250.\n",
    "\n",
    "    for group in tqdm( groups ):\n",
    "\n",
    "        fig, axs = plt.subplots(\n",
    "            1, 2,\n",
    "            figsize = plot_params['figsize'],\n",
    "            sharex = True,\n",
    "            sharey = True\n",
    "        )\n",
    "        \n",
    "        # Add dot for the uncaging site\n",
    "        for ax in axs:\n",
    "            ax.plot(\n",
    "                0, 0,\n",
    "                '.',\n",
    "                **plot_params['uncage_site']\n",
    "            )\n",
    "        \n",
    "        for condition, df_responders in dfs_responders.items():\n",
    "            \n",
    "            color_cur = helper.condition_colors[condition]\n",
    "            \n",
    "            filter_fov = (df_responders['fov_coreg'] == group)\n",
    "            df_group = df_responders[filter_fov]\n",
    "\n",
    "            filter_events = (events_panel['fov_coreg'] == group)\n",
    "            events_cur = events_panel[filter_events]\n",
    "\n",
    "            if 'events' in plot_params:\n",
    "            \n",
    "                # Add dots for each individual event centroid\n",
    "                for i_row, row in events_cur.iterrows():\n",
    "                    x = row['mark_centroidRelXUM']\n",
    "                    y = row['mark_centroidRelYUM']\n",
    "\n",
    "                    color = 'k'\n",
    "\n",
    "                    for ax in axs:\n",
    "                        ax.plot(\n",
    "                            x, y,\n",
    "                            '.',\n",
    "                            **plot_params['events']\n",
    "                        )\n",
    "\n",
    "            for i_row, row in df_group.iterrows():\n",
    "                \n",
    "                x = row[grid_x_key]\n",
    "                y = row[grid_y_key]\n",
    "                \n",
    "                if row['rate_pre'] > 0.:\n",
    "                    # Add patch for baseline-active ROI\n",
    "                    axs[0].add_patch(\n",
    "                        Rectangle(\n",
    "                            (x - (grid_scale/2.), y - (grid_scale/2.)),\n",
    "                            grid_scale, grid_scale,\n",
    "                            facecolor = color_cur,\n",
    "                            edgecolor = color_cur,\n",
    "                            **plot_params['pre_active_rois']\n",
    "                        )\n",
    "                    )\n",
    "\n",
    "                if row['ratio_active'] == 1:\n",
    "                    # Add patch for post-uncaging-active ROI\n",
    "                    axs[1].add_patch(\n",
    "                        Rectangle(\n",
    "                            (x - (grid_scale/2.), y - (grid_scale/2.)),\n",
    "                            grid_scale, grid_scale,\n",
    "                            facecolor = color_cur,\n",
    "                            edgecolor = color_cur,\n",
    "                            **plot_params['post_active_rois']\n",
    "                        )\n",
    "                    )\n",
    "        \n",
    "        axs[0].set_xlim( -fov_extent, fov_extent )\n",
    "        axs[0].set_ylim( -fov_extent, fov_extent )\n",
    "        \n",
    "        save_figure( params['output_names']['fovs'] + f'-{group}' )\n",
    "        \n",
    "        plt.close()"
   ]
  },
  {
   "cell_type": "markdown",
   "metadata": {},
   "source": [
    "### 3J: Distance distributions"
   ]
  },
  {
   "cell_type": "code",
   "execution_count": 11,
   "metadata": {},
   "outputs": [],
   "source": [
    "# Add postprocessed feature to aggregate data for distance from the uncaging\n",
    "# site to the center of each ROI\n",
    "roi_xs = df_roi_active['center_x']\n",
    "roi_ys = df_roi_active['center_y']\n",
    "df_roi_active['center_dist'] = np.sqrt( roi_xs * roi_xs + roi_ys * roi_ys )"
   ]
  },
  {
   "cell_type": "code",
   "execution_count": 12,
   "metadata": {},
   "outputs": [
    {
     "name": "stdout",
     "output_type": "stream",
     "text": [
      "GABA\n",
      "n = 195\n",
      "Glu\n",
      "n = 171\n"
     ]
    },
    {
     "data": {
      "image/png": "[encoded data removed]",
      "text/plain": [
       "<Figure size 600x200 with 2 Axes>"
      ]
     },
     "metadata": {},
     "output_type": "display_data"
    }
   ],
   "source": [
    "if 'distance_distribution' not in params['output_names']:\n",
    "    print( 'Output not in this variant.' )\n",
    "\n",
    "else:\n",
    "\n",
    "    plot_params = params['plots']['distance_distribution']\n",
    "\n",
    "    fig, axs = plt.subplots(\n",
    "        1, 2,\n",
    "        figsize = plot_params['figsize'],\n",
    "        sharex = True,\n",
    "        sharey = True\n",
    "    )\n",
    "\n",
    "    hist_bins = np.arange( 0, plot_params['extent'] + 1, plot_params['bin_width'] )\n",
    "\n",
    "    for condition, df_condition in df_roi_active.groupby( comparison_key ):\n",
    "        \n",
    "        color = helper.condition_colors[condition]\n",
    "        \n",
    "        filter_pre = df_condition['pre_active'] > 0\n",
    "        df_pre = df_condition[filter_pre]\n",
    "        \n",
    "        axs[0].hist(\n",
    "            df_pre['center_dist'],\n",
    "            bins = hist_bins,\n",
    "            density = True,\n",
    "            color = color,\n",
    "            **plot_params['hists']\n",
    "        )\n",
    "        \n",
    "        filter_post = df_condition['post_active'] > 0\n",
    "        df_post = df_condition[filter_post]\n",
    "        \n",
    "        axs[1].hist(\n",
    "            df_post['center_dist'],\n",
    "            bins = hist_bins,\n",
    "            density = True,\n",
    "            color = color,\n",
    "            **plot_params['hists']\n",
    "        )\n",
    "        \n",
    "        print( condition )\n",
    "        print( f'n = {df_post.shape[0]}' )\n",
    "\n",
    "    axs[0].set_title( 'Baseline activity' )\n",
    "    axs[0].set_xlabel( 'Distance from uncaging (µm)' )\n",
    "    axs[0].set_ylabel( 'Probability density' )\n",
    "\n",
    "    axs[1].set_title( 'Activity change due to uncaging' )\n",
    "    axs[1].set_xlabel( 'Distance from uncaging (µm)' )\n",
    "\n",
    "    save_figure( params['output_names']['distance_distribution'] )\n",
    "\n",
    "    plt.show()"
   ]
  },
  {
   "cell_type": "code",
   "execution_count": 13,
   "metadata": {},
   "outputs": [
    {
     "name": "stdout",
     "output_type": "stream",
     "text": [
      "GABA\n",
      "============\n",
      "Pre mean:  117.540\n",
      "Pre std:   47.553\n",
      "Post mean: 119.898\n",
      "Post std:  46.131\n",
      "\n",
      "Glu\n",
      "============\n",
      "Pre mean:  111.779\n",
      "Pre std:   48.395\n",
      "Post mean: 109.304\n",
      "Post std:  49.417\n",
      "\n"
     ]
    }
   ],
   "source": [
    "for condition, df_condition in df_roi_active.groupby( comparison_key ):\n",
    "    \n",
    "    filter_pre = df_condition['pre_active'] > 0\n",
    "    df_pre = df_condition[filter_pre]\n",
    "    \n",
    "    filter_post = df_condition['post_active'] > 0\n",
    "    df_post = df_condition[filter_post]\n",
    "    \n",
    "    print( f'{condition}' )\n",
    "    print( '============' )\n",
    "    print( f\"Pre mean:  {np.mean( df_pre['center_dist'] ):3.3f}\" )\n",
    "    print( f\"Pre std:   {np.std( df_pre['center_dist'] ):3.3f}\" )\n",
    "    print( f\"Post mean: {np.mean( df_post['center_dist'] ):3.3f}\" )\n",
    "    print( f\"Post std:  {np.std( df_post['center_dist'] ):3.3f}\" )\n",
    "    print()"
   ]
  },
  {
   "cell_type": "markdown",
   "metadata": {},
   "source": [
    "### 3L: Overlap"
   ]
  },
  {
   "cell_type": "code",
   "execution_count": 14,
   "metadata": {},
   "outputs": [],
   "source": [
    "overlap_params = params['overlap']"
   ]
  },
  {
   "cell_type": "markdown",
   "metadata": {},
   "source": [
    "#### Visualize bootstrap distributions for validation"
   ]
  },
  {
   "cell_type": "code",
   "execution_count": 15,
   "metadata": {},
   "outputs": [],
   "source": [
    "center_stat = np.nanmean\n",
    "\n",
    "n_boot = overlap_params['n_boot']\n",
    "\n",
    "boot_pre = astats.boot_stat( np.array( df_overlap['pre_jaccard'] ),\n",
    "                             center_stat,\n",
    "                             n = overlap_params['n_boot'] )\n",
    "pre_mean = center_stat( df_overlap['pre_jaccard'] )\n",
    "pre_std = np.nanstd( boot_pre )\n",
    "\n",
    "boot_post = astats.boot_stat( np.array( df_overlap['post_jaccard'] ),\n",
    "                              center_stat,\n",
    "                              n = overlap_params['n_boot'] )\n",
    "post_mean = center_stat( df_overlap['post_jaccard'] )\n",
    "post_std = np.nanstd( boot_post )"
   ]
  },
  {
   "cell_type": "code",
   "execution_count": 16,
   "metadata": {},
   "outputs": [
    {
     "data": {
      "image/png": "[encoded data removed]",
      "text/plain": [
       "<Figure size 400x200 with 1 Axes>"
      ]
     },
     "metadata": {},
     "output_type": "display_data"
    }
   ],
   "source": [
    "# bins = np.arange( 0.2, 0.6, 0.01 )\n",
    "# bins = np.arange( 0.05, 0.4, 0.01 )\n",
    "bins = np.arange( 0.05, 0.5, 0.01 )\n",
    "\n",
    "fig, ax = plt.subplots( figsize = (4, 2) )\n",
    "\n",
    "uplot.plot_boot( ax, boot_pre, pre_mean,\n",
    "                 bins = bins )\n",
    "\n",
    "plt.title( 'Any baseline activity' )\n",
    "plt.xlabel( 'GABA-Glu ROI Jaccard index' )\n",
    "\n",
    "plt.show()"
   ]
  },
  {
   "cell_type": "code",
   "execution_count": 17,
   "metadata": {},
   "outputs": [
    {
     "data": {
      "image/png": "[encoded data removed]",
      "text/plain": [
       "<Figure size 400x200 with 1 Axes>"
      ]
     },
     "metadata": {},
     "output_type": "display_data"
    }
   ],
   "source": [
    "bins = np.arange( 0.0, 0.4, 0.01 )\n",
    "\n",
    "fig, ax = plt.subplots( figsize = (4, 2) )\n",
    "\n",
    "uplot.plot_boot( ax, boot_post, post_mean,\n",
    "                 bins = bins )\n",
    "\n",
    "plt.title( 'Responders' )\n",
    "plt.xlabel( 'GABA-Glu ROI Jaccard index' )\n",
    "\n",
    "plt.show()"
   ]
  },
  {
   "cell_type": "markdown",
   "metadata": {},
   "source": [
    "#### Permutation $p$-values"
   ]
  },
  {
   "cell_type": "markdown",
   "metadata": {},
   "source": [
    "Here we use custom permutation testing, where surrogate data are generated by randomly selecting ROIs to have \"activity\" from amongst those which showed any pre-uncaging activity.\n",
    "\n",
    "(Note that there are many suitable null hypotheses for \"no overlap\", which would imply different strategies for permutation sampling, which would lead to different interpretations of resulting $p$-values. This is the choice that was used in the manuscript; for alternative strategies, see the parameter `.yaml` file.)"
   ]
  },
  {
   "cell_type": "code",
   "execution_count": 18,
   "metadata": {},
   "outputs": [
    {
     "name": "stderr",
     "output_type": "stream",
     "text": [
      "100%|██████████| 10000/10000 [03:15<00:00, 51.21it/s]\n"
     ]
    }
   ],
   "source": [
    "group_key = 'fov_coreg'\n",
    "\n",
    "n_perm = overlap_params['n_perm']\n",
    "n_strategy = overlap_params['perm_n_strategy']\n",
    "choice_strategy = overlap_params['perm_choice_strategy']\n",
    "\n",
    "key_grid_local = f'grid_dataset_{grid_scale:0d}'\n",
    "\n",
    "condition_a = params['comparison'][0]\n",
    "condition_b = params['comparison'][1]\n",
    "\n",
    "#\n",
    "\n",
    "df_a = dfs_responders[condition_a].copy()\n",
    "df_b = dfs_responders[condition_b].copy()\n",
    "\n",
    "df_a['pre_active'] = df_a['rate_pre'] > 0.\n",
    "df_b['pre_active'] = df_b['rate_pre'] > 0.\n",
    "\n",
    "groups = list( set( df_a[group_key].unique() ) | set( df_b[group_key].unique() ) )\n",
    "n_groups = len( groups )\n",
    "\n",
    "jaccard_perm = np.zeros( (n_perm, n_groups) )\n",
    "for i_perm in tqdm( range( n_perm ) ):\n",
    "    \n",
    "    for i_fov, group in enumerate( groups ):\n",
    "\n",
    "        filter_group_a = df_a[group_key] == group\n",
    "        filter_pre_a = df_a['pre_active']\n",
    "        filter_group_b = df_b[group_key] == group\n",
    "        filter_pre_b = df_b['pre_active']\n",
    "\n",
    "        df_a_cur = df_a[filter_group_a & filter_pre_a]\n",
    "        df_b_cur = df_b[filter_group_b & filter_pre_b]\n",
    "        \n",
    "        grids_a = df_a_cur[key_grid_local].unique()\n",
    "        grids_b = df_b_cur[key_grid_local].unique()\n",
    "        grids_union = list( set( grids_a ) | set( grids_b ) )\n",
    "        \n",
    "        if n_strategy == 'any':\n",
    "            n_a = len( grids_a )\n",
    "            n_b = len( grids_b )\n",
    "        else:\n",
    "            n_a = np.sum( df_a_cur[n_strategy] )\n",
    "            n_b = np.sum( df_b_cur[n_strategy] )\n",
    "\n",
    "        if n_a + n_b == 0:\n",
    "            cur_overlap = np.nan\n",
    "            \n",
    "        else:\n",
    "            if choice_strategy == 'individual':\n",
    "                grids_a_perm = np.random.choice( grids_a, size = (n_a,), replace = False )\n",
    "                grids_b_perm = np.random.choice( grids_b, size = (n_b,), replace = False )\n",
    "            elif choice_strategy == 'union':\n",
    "                grids_a_perm = np.random.choice( grids_union, size = (n_a,), replace = False )\n",
    "                grids_b_perm = np.random.choice( grids_union, size = (n_b,), replace = False )\n",
    "\n",
    "            grids_intersection_perm = list( set( grids_a_perm ) & set( grids_b_perm ) )\n",
    "            grids_union_perm = list( set( grids_a_perm ) | set( grids_b_perm ) )\n",
    "\n",
    "            cur_overlap = len( grids_intersection_perm ) / len( grids_union_perm ) \n",
    "        \n",
    "        jaccard_perm[i_perm, i_fov] = cur_overlap"
   ]
  },
  {
   "cell_type": "code",
   "execution_count": 19,
   "metadata": {},
   "outputs": [],
   "source": [
    "# Slow, but keeps same form as original `center_stat` for compatibility\n",
    "post_mean_perm = np.array( [ center_stat( jaccard_perm[i, :] )\n",
    "                             for i in range( jaccard_perm.shape[0] ) ] )"
   ]
  },
  {
   "cell_type": "code",
   "execution_count": 20,
   "metadata": {},
   "outputs": [
    {
     "data": {
      "image/png": "[encoded data removed]",
      "text/plain": [
       "<Figure size 400x400 with 1 Axes>"
      ]
     },
     "metadata": {},
     "output_type": "display_data"
    }
   ],
   "source": [
    "hist_alpha = 0.5\n",
    "value_linewidth = 3.\n",
    "\n",
    "#\n",
    "\n",
    "plt.figure( figsize = (4, 4) )\n",
    "plt.hist( post_mean_perm,\n",
    "          density = True,\n",
    "          color = 'k',\n",
    "          alpha = hist_alpha,\n",
    "          bins = np.arange( 0, 0.2, 0.001 ),\n",
    "          label = 'Random' )\n",
    "yl = plt.ylim()\n",
    "plt.plot( [post_mean, post_mean], yl, 'k-',\n",
    "          linewidth = value_linewidth,\n",
    "          label = 'Observed' )\n",
    "plt.ylim( yl )\n",
    "plt.xlim( 0, 0.2 )\n",
    "\n",
    "plt.legend()\n",
    "\n",
    "plt.xlabel( 'Glu/GABA responder ROI fraction of overlap' )\n",
    "plt.ylabel( 'Probability density' )\n",
    "\n",
    "save_figure( 'post-overlap-perm' )\n",
    "\n",
    "plt.show()"
   ]
  },
  {
   "cell_type": "code",
   "execution_count": 21,
   "metadata": {},
   "outputs": [
    {
     "name": "stdout",
     "output_type": "stream",
     "text": [
      "Jaccard index: 0.08262 +/- 0.01744\n",
      "p-value:       0.46605339466053397\n"
     ]
    }
   ],
   "source": [
    "p_perm = ustats.perm_p( np.sum( post_mean_perm >= post_mean ),\n",
    "                        n_perm )\n",
    "\n",
    "print( f'Jaccard index: {post_mean:0.5f} +/- {post_std:0.5f}' )\n",
    "print( f'p-value:       {p_perm}' )"
   ]
  }
 ],
 "metadata": {
  "kernelspec": {
   "display_name": "Python 3",
   "language": "python",
   "name": "python3"
  },
  "language_info": {
   "codemirror_mode": {
    "name": "ipython",
    "version": 3
   },
   "file_extension": ".py",
   "mimetype": "text/x-python",
   "name": "python",
   "nbconvert_exporter": "python",
   "pygments_lexer": "ipython3",
   "version": "3.8.18"
  }
 },
 "nbformat": 4,
 "nbformat_minor": 2
}
