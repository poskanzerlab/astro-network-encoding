{
 "cells": [
  {
   "cell_type": "markdown",
   "metadata": {},
   "source": [
    "# Figure 4I\n",
    "## NT decoding\n",
    "\n",
    "For \"Network-level encoding of local neurotransmitters in cortical astrocytes\" (Cahill et al. 2024)"
   ]
  },
  {
   "cell_type": "markdown",
   "metadata": {},
   "source": [
    "---"
   ]
  },
  {
   "cell_type": "markdown",
   "metadata": {},
   "source": [
    "## Setup"
   ]
  },
  {
   "cell_type": "markdown",
   "metadata": {},
   "source": [
    "#### Imports"
   ]
  },
  {
   "cell_type": "code",
   "execution_count": 1,
   "metadata": {},
   "outputs": [],
   "source": [
    "from pathlib import Path\n",
    "\n",
    "import numpy as np\n",
    "import matplotlib.pyplot as plt\n",
    "\n",
    "from tqdm import tqdm\n",
    "\n",
    "# Internal\n",
    "\n",
    "from uncaging import (\n",
    "    Helper,\n",
    ")\n",
    "\n",
    "import uncaging.utils as uutils\n",
    "import uncaging.events as uevents\n",
    "import uncaging.plot as uplot\n",
    "import uncaging.stats as ustats"
   ]
  },
  {
   "cell_type": "markdown",
   "metadata": {},
   "source": [
    "#### Parameters"
   ]
  },
  {
   "cell_type": "code",
   "execution_count": 2,
   "metadata": {},
   "outputs": [],
   "source": [
    "params_path = Path( 'config' ) / 'panels' / 'net_astro-4i.yaml'\n",
    "params = uutils.load_params( params_path )"
   ]
  },
  {
   "cell_type": "markdown",
   "metadata": {},
   "source": [
    "These could be put in the params `.yaml` file if you'd like, but they're the most likely to be modulated so for simplicity let's have them here:"
   ]
  },
  {
   "cell_type": "code",
   "execution_count": 3,
   "metadata": {},
   "outputs": [],
   "source": [
    "# Choices for `analysis`:\n",
    "# * 'wt' - wild-type dataset\n",
    "# * 'cx43' - connexin-43 conditional knock out dataset\n",
    "params['analysis'] = 'wt'"
   ]
  },
  {
   "cell_type": "markdown",
   "metadata": {},
   "source": [
    "#### Initial setup"
   ]
  },
  {
   "cell_type": "code",
   "execution_count": 4,
   "metadata": {},
   "outputs": [],
   "source": [
    "helper = Helper(\n",
    "    config_path = params['helper_configs'],\n",
    "    hive_root = params['hive_root'],\n",
    "    output_to = params['output_parent'],\n",
    ")\n",
    "\n",
    "# For reproducible results with randomness\n",
    "np.random.seed( params['random_seed'] )\n",
    "\n",
    "# Output saving\n",
    "notebook_stem = params['notebook_stem']\n",
    "analysis = params['analysis']\n",
    "\n",
    "save_figure = helper.figure_saver( notebook_stem, analysis )\n",
    "save_data = helper.data_saver( notebook_stem, analysis )\n",
    "save_csv = helper.csv_saver( notebook_stem, analysis )"
   ]
  },
  {
   "cell_type": "markdown",
   "metadata": {},
   "source": [
    "---"
   ]
  },
  {
   "cell_type": "markdown",
   "metadata": {},
   "source": [
    "## Load data"
   ]
  },
  {
   "cell_type": "code",
   "execution_count": 5,
   "metadata": {},
   "outputs": [
    {
     "name": "stderr",
     "output_type": "stream",
     "text": [
      "Loading 20200814_CytoGp35m_S2_RuBiGlu4_10stims-024Cycle00001_Ch1_cell-events.mat...: 100%|██████████| 56/56 [00:01<00:00, 31.19it/s] \n",
      "Loading 20200814_CytoGp35m_S2_RuBiGlu4_10stims-024Cycle00001_Ch1_cell-events.mat...: 100%|██████████| 56/56 [00:02<00:00, 24.27it/s] \n",
      "Loading 20210629_CytoGp34f_S3_NoRuBi6_10stim-036Cycle00001_Ch1_cell-events.mat...: 100%|██████████| 48/48 [00:01<00:00, 32.98it/s]\n"
     ]
    },
    {
     "name": "stdout",
     "output_type": "stream",
     "text": [
      "\n",
      "Experiment Glu\n",
      "    Excluded cells: 177\n",
      "    Included cells: 138\n",
      "\n",
      "\n",
      "Experiment GABA\n",
      "    Excluded cells: 154\n",
      "    Included cells: 164\n",
      "\n",
      "\n",
      "Experiment Control-Laser\n",
      "    Excluded cells: 716\n",
      "    Included cells: 99\n",
      "\n"
     ]
    }
   ],
   "source": [
    "events_analyze = helper.load_analysis_events(\n",
    "    analysis,\n",
    "    extra_decorators = [],\n",
    "    verbose = True\n",
    ")"
   ]
  },
  {
   "cell_type": "code",
   "execution_count": 6,
   "metadata": {},
   "outputs": [],
   "source": [
    "events_analyze, events_prop, events_no_prop = uevents.split_events_prop(\n",
    "    events_analyze,\n",
    "    threshold = params['prop_threshold'],\n",
    ")"
   ]
  },
  {
   "cell_type": "markdown",
   "metadata": {},
   "source": [
    "---"
   ]
  },
  {
   "cell_type": "markdown",
   "metadata": {},
   "source": [
    "## Analysis"
   ]
  },
  {
   "cell_type": "markdown",
   "metadata": {},
   "source": [
    "### 4I: NT decoding"
   ]
  },
  {
   "cell_type": "code",
   "execution_count": 7,
   "metadata": {},
   "outputs": [],
   "source": [
    "events_subset = events_prop.copy()\n",
    "\n",
    "filter_events_condition = events_subset['condition'].isin( params['comparison'] )\n",
    "filter_events_neighbor = events_subset['is_uncage'] == False\n",
    "\n",
    "filter_events_panel = filter_events_condition & filter_events_neighbor\n",
    "events_panel = events_subset.copy()[filter_events_panel]"
   ]
  },
  {
   "cell_type": "code",
   "execution_count": 8,
   "metadata": {},
   "outputs": [
    {
     "name": "stdout",
     "output_type": "stream",
     "text": [
      "Mice:            n = 4\n",
      "Slices:          n = 7\n",
      "Datasets:        n = 55\n",
      "Cell-recordings: n = 250\n",
      "Cells:           n = 167\n",
      "Events:          n = 2470\n",
      "Slices per mouse:\n",
      "    Low:  1\n",
      "    High: 2\n",
      "Datasets per mouse:\n",
      "    Low:  8\n",
      "    High: 16\n",
      "Datasets per slice:\n",
      "    Low:  7\n",
      "    High: 8\n",
      "Cells per dataset:\n",
      "    Low:  1\n",
      "    High: 13\n",
      "Events per cell-recording:\n",
      "    Low:  1\n",
      "    High: 52\n",
      "\n",
      "** GABA:\n",
      "Datasets:        n = 28\n",
      "Cell-recordings: n = 135\n",
      "Events:          n = 1358\n",
      "Cells per dataset:\n",
      "    Low:  2\n",
      "    High: 13\n",
      "\n",
      "** Glu:\n",
      "Datasets:        n = 27\n",
      "Cell-recordings: n = 115\n",
      "Events:          n = 1112\n",
      "Cells per dataset:\n",
      "    Low:  1\n",
      "    High: 7\n"
     ]
    }
   ],
   "source": [
    "uevents.summarize_n( events_panel )"
   ]
  },
  {
   "cell_type": "markdown",
   "metadata": {},
   "source": [
    "#### Feature extraction"
   ]
  },
  {
   "cell_type": "code",
   "execution_count": 9,
   "metadata": {},
   "outputs": [],
   "source": [
    "windows = [\n",
    "    params['rate_windows']['baseline'],\n",
    "    params['rate_windows']['post'],\n",
    "]\n",
    "\n",
    "point_rates = uevents.group_rates(\n",
    "    events_panel, params['rate_point_key'],\n",
    "    keep_keys = ['condition'],\n",
    "    windows = windows,\n",
    ")\n",
    "\n",
    "point_rates['rel'] = np.array( [ x / y if y > 0 else np.nan\n",
    "                                 for x, y in zip( point_rates['rate_2'], point_rates['rate_1'] ) ] )\n",
    "point_rates['diff'] = point_rates['rate_2'] - point_rates['rate_1']"
   ]
  },
  {
   "cell_type": "code",
   "execution_count": 10,
   "metadata": {},
   "outputs": [],
   "source": [
    "features = np.array( point_rates['rel'] )\n",
    "labels = np.array( point_rates['condition'] == params['comparison'][1] ).astype( int )\n",
    "\n",
    "label_conditions = { k: params['comparison'][k]\n",
    "                     for k in [0, 1] }"
   ]
  },
  {
   "cell_type": "code",
   "execution_count": 11,
   "metadata": {},
   "outputs": [],
   "source": [
    "filter_valid = ~np.isnan( features )\n",
    "\n",
    "features = features[filter_valid].copy()\n",
    "labels = labels[filter_valid].copy()"
   ]
  },
  {
   "cell_type": "code",
   "execution_count": 12,
   "metadata": {},
   "outputs": [],
   "source": [
    "from scipy.stats import gaussian_kde\n",
    "\n",
    "kdes = { k: gaussian_kde( features[labels == k ] )\n",
    "         for k in [0, 1] }"
   ]
  },
  {
   "cell_type": "code",
   "execution_count": 13,
   "metadata": {},
   "outputs": [
    {
     "data": {
      "image/png": "[encoded data removed]",
      "text/plain": [
       "<Figure size 500x200 with 1 Axes>"
      ]
     },
     "metadata": {},
     "output_type": "display_data"
    }
   ],
   "source": [
    "xs = np.arange( 0, np.max( features ) + 1., 0.05 )\n",
    "hist_bins = np.arange( -0.2, 7.0, 0.2 )\n",
    "\n",
    "plt.figure( figsize = (5, 2) )\n",
    "\n",
    "for label, kde in kdes.items():\n",
    "    data = features[labels == label]\n",
    "    color = helper.condition_colors[label_conditions[label]]\n",
    "    plt.hist( data,\n",
    "              color = color,\n",
    "              alpha = 0.4,\n",
    "              bins = hist_bins,\n",
    "              density = True )\n",
    "    plt.plot( xs, kde.pdf( xs ),\n",
    "              color = color,\n",
    "              alpha = 0.8,\n",
    "              label = label_conditions[label] )\n",
    "\n",
    "plt.xlabel( 'Relative post-uncaging prop. rate' )\n",
    "plt.ylabel( 'Probability density' )\n",
    "\n",
    "plt.legend()\n",
    "\n",
    "plt.show()"
   ]
  },
  {
   "cell_type": "markdown",
   "metadata": {},
   "source": [
    "#### Decoder"
   ]
  },
  {
   "cell_type": "code",
   "execution_count": 14,
   "metadata": {},
   "outputs": [],
   "source": [
    "def decode_threshold( X,\n",
    "                      threshold = 0. ):\n",
    "    return np.array( X >= threshold ).astype( int )"
   ]
  },
  {
   "cell_type": "markdown",
   "metadata": {},
   "source": [
    "#### ROC Analysis"
   ]
  },
  {
   "cell_type": "code",
   "execution_count": 15,
   "metadata": {},
   "outputs": [],
   "source": [
    "def roc_threshold( X, y, decoder,\n",
    "                   thresholds = None ):\n",
    "    \n",
    "    if thresholds is None:\n",
    "        thresholds = np.arange( 0, 1, 0.01 )\n",
    "        \n",
    "    tprs = np.zeros( (thresholds.shape[0],) )\n",
    "    fprs = np.zeros( (thresholds.shape[0],) )\n",
    "    \n",
    "    for i, threshold in enumerate( thresholds[::-1] ):\n",
    "        y_hat = decoder( X, threshold = threshold )\n",
    "        \n",
    "        tp = np.sum( (y_hat == 1) & (y == 1) )\n",
    "        fp = np.sum( (y_hat == 1) & (y == 0) )\n",
    "        tn = np.sum( (y_hat == 0) & (y == 0) )\n",
    "        fn = np.sum( (y_hat == 0) & (y == 1) )\n",
    "        \n",
    "        tprs[i] = tp / (tp + fn)\n",
    "        fprs[i] = fp / (fp + tn)\n",
    "    \n",
    "    return tprs, fprs\n",
    "\n",
    "def roc_auc( tprs, fprs ):\n",
    "#     idx = np.argsort( fprs )\n",
    "    return np.trapz( tprs, x = fprs )"
   ]
  },
  {
   "cell_type": "code",
   "execution_count": 16,
   "metadata": {},
   "outputs": [],
   "source": [
    "feature_min = np.min( features )\n",
    "feature_max = np.max( features )\n",
    "feature_diff = feature_max - feature_min\n",
    "\n",
    "thresh_min = feature_min - (0.1 * feature_diff)\n",
    "thresh_max = feature_max + (0.1 * feature_diff)\n",
    "n_thresh = 1000\n",
    "\n",
    "thresholds = np.linspace( thresh_min, thresh_max, n_thresh )"
   ]
  },
  {
   "cell_type": "code",
   "execution_count": 17,
   "metadata": {},
   "outputs": [],
   "source": [
    "roc_tprs, roc_fprs = roc_threshold( features, labels, decode_threshold,\n",
    "                                    thresholds = thresholds )"
   ]
  },
  {
   "cell_type": "code",
   "execution_count": 18,
   "metadata": {},
   "outputs": [
    {
     "data": {
      "image/png": "[encoded data removed]",
      "text/plain": [
       "<Figure size 300x300 with 1 Axes>"
      ]
     },
     "metadata": {},
     "output_type": "display_data"
    }
   ],
   "source": [
    "plt.figure( figsize = (3, 3) )\n",
    "\n",
    "# idx_sort = np.argsort( roc_fprs )\n",
    "plt.plot( roc_fprs, roc_tprs, 'k-', markersize = 1. )\n",
    "\n",
    "plt.plot( [0, 1], [0, 1], 'k-', linewidth = 1, alpha = 0.5 )\n",
    "\n",
    "plt.ylabel( 'True positive rate' )\n",
    "plt.xlabel( 'False positive rate' )\n",
    "\n",
    "save_figure( 'decode-nt-prop-rel-roc' )\n",
    "\n",
    "plt.show()"
   ]
  },
  {
   "cell_type": "code",
   "execution_count": 19,
   "metadata": {},
   "outputs": [
    {
     "name": "stdout",
     "output_type": "stream",
     "text": [
      "AUC: 0.7218406593406592\n"
     ]
    }
   ],
   "source": [
    "auc_true = roc_auc( roc_tprs, roc_fprs )\n",
    "print( f'AUC: {auc_true}' )"
   ]
  },
  {
   "cell_type": "markdown",
   "metadata": {},
   "source": [
    "#### Bootstrap"
   ]
  },
  {
   "cell_type": "code",
   "execution_count": 20,
   "metadata": {},
   "outputs": [
    {
     "name": "stderr",
     "output_type": "stream",
     "text": [
      "  0%|          | 0/10000 [00:00<?, ?it/s]"
     ]
    },
    {
     "name": "stderr",
     "output_type": "stream",
     "text": [
      "100%|██████████| 10000/10000 [05:23<00:00, 30.95it/s]\n"
     ]
    }
   ],
   "source": [
    "auc_boot = np.zeros( (params['n_boot'],) )\n",
    "for i_boot in tqdm( range( params['n_boot'] ) ):\n",
    "\n",
    "    # Take bootstrap sample\n",
    "    idx_boot = np.random.randint( features.shape[0], size = (features.shape[0],) )\n",
    "    features_boot = features[idx_boot]\n",
    "    labels_boot = labels[idx_boot]\n",
    "\n",
    "    roc_tprs, roc_fprs = roc_threshold( features_boot, labels_boot, decode_threshold,\n",
    "                                        thresholds = thresholds )\n",
    "    auc_boot[i_boot] = roc_auc( roc_tprs, roc_fprs )\n",
    "\n",
    "auc_low, auc_high = np.quantile( auc_boot, [0.025, 0.975] )"
   ]
  },
  {
   "cell_type": "code",
   "execution_count": 21,
   "metadata": {},
   "outputs": [
    {
     "name": "stdout",
     "output_type": "stream",
     "text": [
      "AUC: 0.7218 +/- 0.0764\n"
     ]
    }
   ],
   "source": [
    "auc_se = np.std( auc_boot )\n",
    "print( f'AUC: {auc_true:0.4f} +/- {auc_se:0.4f}' )"
   ]
  },
  {
   "cell_type": "markdown",
   "metadata": {},
   "source": [
    "For bootstrap plots:\n",
    "* The top line is the statistic +/- 1 bootstrap SE.\n",
    "* The bottom line is the bootstrap $(0.025, 0.5, 0.975)$ quantiles."
   ]
  },
  {
   "cell_type": "code",
   "execution_count": 22,
   "metadata": {},
   "outputs": [
    {
     "data": {
      "image/png": "[encoded data removed]",
      "text/plain": [
       "<Figure size 400x300 with 1 Axes>"
      ]
     },
     "metadata": {},
     "output_type": "display_data"
    }
   ],
   "source": [
    "bins_boot = np.arange( 0.2, 1.01, 0.01 )\n",
    "\n",
    "fig, ax = plt.subplots( figsize = (4, 3) )\n",
    "\n",
    "uplot.plot_boot(\n",
    "    ax, auc_boot, auc_true,\n",
    "    color = 'g',\n",
    "    bins = bins_boot,\n",
    ")\n",
    "\n",
    "plt.xlabel( 'Area under the ROC curve' )\n",
    "plt.ylabel( 'Probability density' )\n",
    "\n",
    "plt.show()"
   ]
  },
  {
   "cell_type": "markdown",
   "metadata": {},
   "source": [
    "#### Permutation testing"
   ]
  },
  {
   "cell_type": "code",
   "execution_count": 23,
   "metadata": {},
   "outputs": [
    {
     "name": "stderr",
     "output_type": "stream",
     "text": [
      "100%|██████████| 10000/10000 [06:04<00:00, 27.46it/s]\n"
     ]
    }
   ],
   "source": [
    "auc_perm = np.zeros( (params['n_perm'],) )\n",
    "for i_perm in tqdm( range( params['n_perm'] ) ):\n",
    "    labels_perm = np.random.permutation( labels )\n",
    "    roc_tprs_perm, roc_fprs_perm = roc_threshold( features, labels_perm, decode_threshold,\n",
    "                                                  thresholds = thresholds )\n",
    "    auc_perm[i_perm] = roc_auc( roc_tprs_perm, roc_fprs_perm )"
   ]
  },
  {
   "cell_type": "code",
   "execution_count": 24,
   "metadata": {},
   "outputs": [],
   "source": [
    "p_perm = ustats.perm_p(\n",
    "    np.sum( auc_perm >= auc_true ),\n",
    "    auc_perm.shape[0],\n",
    ")"
   ]
  },
  {
   "cell_type": "code",
   "execution_count": 25,
   "metadata": {},
   "outputs": [
    {
     "name": "stdout",
     "output_type": "stream",
     "text": [
      "AUC: 0.7218 +/- 0.0764\n",
      "    p = 0.0018998100189981002\n"
     ]
    }
   ],
   "source": [
    "print( f'AUC: {auc_true:0.4f} +/- {auc_se:0.4f}' )\n",
    "print( f'    p = {p_perm}' )"
   ]
  },
  {
   "cell_type": "code",
   "execution_count": 26,
   "metadata": {},
   "outputs": [
    {
     "data": {
      "image/png": "[encoded data removed]",
      "text/plain": [
       "<Figure size 400x300 with 1 Axes>"
      ]
     },
     "metadata": {},
     "output_type": "display_data"
    }
   ],
   "source": [
    "bins_perm = np.arange( 0., 1.01, 0.01 )\n",
    "\n",
    "fig, ax = plt.subplots( figsize = (4, 3) )\n",
    "\n",
    "uplot.plot_perm(\n",
    "    ax, auc_perm, auc_true,\n",
    "    color = 'k',\n",
    "    bins = bins_perm,\n",
    "    null = 0.5,\n",
    ")\n",
    "\n",
    "plt.legend()\n",
    "\n",
    "plt.xlabel( 'Area under the ROC curve' )\n",
    "plt.ylabel( 'Probability density' )\n",
    "\n",
    "save_figure( 'decode-nt-prop-rel-auc-perm-hist' )\n",
    "\n",
    "plt.show()"
   ]
  }
 ],
 "metadata": {
  "kernelspec": {
   "display_name": "Python 3",
   "language": "python",
   "name": "python3"
  },
  "language_info": {
   "codemirror_mode": {
    "name": "ipython",
    "version": 3
   },
   "file_extension": ".py",
   "mimetype": "text/x-python",
   "name": "python",
   "nbconvert_exporter": "python",
   "pygments_lexer": "ipython3",
   "version": "3.8.18"
  }
 },
 "nbformat": 4,
 "nbformat_minor": 2
}
