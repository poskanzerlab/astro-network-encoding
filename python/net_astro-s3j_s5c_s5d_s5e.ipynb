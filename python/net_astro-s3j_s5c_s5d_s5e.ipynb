{
 "cells": [
  {
   "cell_type": "markdown",
   "metadata": {},
   "source": [
    "# Figurs S3J, S5C, S5D, S5E\n",
    "## Distribution characteristics\n",
    "\n",
    "For \"Network-level encoding of local neurotransmitters in cortical astrocytes\" (Cahill et al. 2024)"
   ]
  },
  {
   "cell_type": "markdown",
   "metadata": {},
   "source": [
    "---"
   ]
  },
  {
   "cell_type": "markdown",
   "metadata": {},
   "source": [
    "## Setup"
   ]
  },
  {
   "cell_type": "markdown",
   "metadata": {},
   "source": [
    "#### Imports"
   ]
  },
  {
   "cell_type": "code",
   "execution_count": 1,
   "metadata": {},
   "outputs": [],
   "source": [
    "# Others\n",
    "\n",
    "from pathlib import Path\n",
    "\n",
    "import numpy as np\n",
    "import matplotlib.pyplot as plt\n",
    "\n",
    "# Internal\n",
    "\n",
    "from uncaging import (\n",
    "    Helper,\n",
    ")\n",
    "\n",
    "import uncaging.utils as uutils\n",
    "import uncaging.events as uevents"
   ]
  },
  {
   "cell_type": "markdown",
   "metadata": {},
   "source": [
    "#### Parameters"
   ]
  },
  {
   "cell_type": "code",
   "execution_count": 2,
   "metadata": {},
   "outputs": [],
   "source": [
    "params_path = Path( 'config' ) / 'panels' / 'net_astro-s3j_s5c_s5d_s5e.yaml'\n",
    "params = uutils.load_params( params_path )\n",
    "\n",
    "# Choices for `variant`:\n",
    "# * 'wt' - Figs. S3J, S5C, S5D, S5E\n",
    "variant = 'wt'\n",
    "\n",
    "params.update( params['variants'][variant] )"
   ]
  },
  {
   "cell_type": "markdown",
   "metadata": {},
   "source": [
    "Here we bake in a few defaults:"
   ]
  },
  {
   "cell_type": "code",
   "execution_count": 3,
   "metadata": {},
   "outputs": [],
   "source": [
    "condition_key = params['comparison_key']\n",
    "conditions = params['comparison']\n",
    "\n",
    "group_key = params['group_key']\n",
    "group_key_coreg = params['group_key_coreg']\n",
    "group_key_grid = params['group_key_grid'].format( scale = params['grid_scale'] )\n",
    "group_key_coreg_grid = params['group_key_coreg_grid'].format( scale = params['grid_scale'] )\n",
    "\n",
    "keep_keys_merge_cell = [\n",
    "    group_key_coreg,\n",
    "    'condition',\n",
    "    'dataset_id_all'\n",
    "]\n",
    "keep_keys_merge_grid = [\n",
    "    group_key_coreg_grid,\n",
    "    'condition',\n",
    "    'dataset_id_all'\n",
    "]\n",
    "\n",
    "# TODO Do we need all of these?\n",
    "keep_keys_responders = [\n",
    "    'dataset_id',\n",
    "    'dataset_id_all',\n",
    "    'condition',\n",
    "    'mouse',\n",
    "    'fov',\n",
    "    'fov_coreg',\n",
    "    'slice_all',\n",
    "    group_key,\n",
    "    group_key_coreg,\n",
    "]\n",
    "\n",
    "\n",
    "# Cache defaults\n",
    "\n",
    "if 'responders' not in params:\n",
    "    params['responders'] = dict()\n",
    "params['responders']['window_pre'] = params['window_pre']\n",
    "params['responders']['window_post'] = params['window_post']\n",
    "params['responders']['keep_keys'] = keep_keys_responders\n",
    "\n",
    "if 'features' not in params:\n",
    "    params['features'] = dict()\n",
    "params['features']['window'] = params['window_pre']\n",
    "params['features']['feature_keys'] = None\n",
    "params['features']['keep_keys'] = keep_keys_merge_cell\n",
    "\n",
    "if 'rates' not in params:\n",
    "    params['rates'] = dict()\n",
    "params['rates']['window'] = params['window_pre']\n",
    "params['rates']['keep_keys'] = keep_keys_merge_cell"
   ]
  },
  {
   "cell_type": "markdown",
   "metadata": {},
   "source": [
    "#### Initial setup"
   ]
  },
  {
   "cell_type": "code",
   "execution_count": 4,
   "metadata": {},
   "outputs": [],
   "source": [
    "helper = Helper( config_path = params['helper_configs'],\n",
    "                 hive_root = params['hive_root'],\n",
    "                 output_to = params['output_parent'] )\n",
    "\n",
    "# For reproducible results with randomness\n",
    "np.random.seed( params['random_seed'] )\n",
    "\n",
    "# Output saving\n",
    "notebook_stem = params['notebook_stem']\n",
    "analysis = params['analysis']\n",
    "\n",
    "save_figure = helper.figure_saver( notebook_stem, analysis )\n",
    "save_data = helper.data_saver( notebook_stem, analysis )\n",
    "save_csv = helper.csv_saver( notebook_stem, analysis )"
   ]
  },
  {
   "cell_type": "markdown",
   "metadata": {},
   "source": [
    "---"
   ]
  },
  {
   "cell_type": "markdown",
   "metadata": {},
   "source": [
    "## Load data"
   ]
  },
  {
   "cell_type": "code",
   "execution_count": 5,
   "metadata": {},
   "outputs": [
    {
     "name": "stderr",
     "output_type": "stream",
     "text": [
      "Loading 20200810_CytoGp31m_S1_RuBiGABA1_10stim-009Cycle00001_Ch1_cell-events.mat...:   2%|▏         | 1/56 [00:00<00:06,  8.35it/s]"
     ]
    },
    {
     "name": "stderr",
     "output_type": "stream",
     "text": [
      "Loading 20200814_CytoGp35m_S2_RuBiGlu4_10stims-024Cycle00001_Ch1_cell-events.mat...: 100%|██████████| 56/56 [00:04<00:00, 11.55it/s] \n",
      "Loading 20210629_CytoGp34f_S3_NoRuBi6_10stim-036Cycle00001_Ch1_cell-events.mat...: 100%|██████████| 48/48 [00:02<00:00, 16.16it/s]\n",
      "Loading 20200814_CytoGp35m_S2_RuBiGlu4_10stims-024Cycle00001_Ch1_cell-events.mat...: 100%|██████████| 56/56 [00:03<00:00, 17.31it/s] \n",
      "Grid decorators: 100%|██████████| 28/28 [00:40<00:00,  1.45s/it]\n",
      "Grid decorators: 100%|██████████| 48/48 [00:55<00:00,  1.16s/it]\n",
      "Grid decorators: 100%|██████████| 28/28 [00:37<00:00,  1.35s/it]\n"
     ]
    },
    {
     "name": "stdout",
     "output_type": "stream",
     "text": [
      "\n",
      "Experiment GABA\n",
      "    Excluded cells: 154\n",
      "    Included cells: 164\n",
      "\n",
      "\n",
      "Experiment Control-Laser\n",
      "    Excluded cells: 716\n",
      "    Included cells: 99\n",
      "\n",
      "\n",
      "Experiment Glu\n",
      "    Excluded cells: 177\n",
      "    Included cells: 138\n",
      "\n"
     ]
    }
   ],
   "source": [
    "grid_decorator = ('grid', params['grid_scale'], params['grid_extent'])\n",
    "extra_decorators = [grid_decorator] if params['add_grid_decorator'] else []\n",
    "\n",
    "events_analyze = helper.load_analysis_events(\n",
    "    analysis,\n",
    "    extra_decorators = extra_decorators,\n",
    "    verbose = True\n",
    ")"
   ]
  },
  {
   "cell_type": "code",
   "execution_count": 6,
   "metadata": {},
   "outputs": [],
   "source": [
    "events_analyze, events_prop, events_no_prop = uevents.split_events_prop(\n",
    "    events_analyze,\n",
    "    threshold = params['prop_threshold'],\n",
    ")"
   ]
  },
  {
   "cell_type": "markdown",
   "metadata": {},
   "source": [
    "---"
   ]
  },
  {
   "cell_type": "markdown",
   "metadata": {},
   "source": [
    "## Analysis"
   ]
  },
  {
   "cell_type": "markdown",
   "metadata": {},
   "source": [
    "### Fig. S3J"
   ]
  },
  {
   "cell_type": "markdown",
   "metadata": {},
   "source": [
    "#### Result: Histogram of post/pre relative uncaging responses (grid ROIs)\n",
    "\n",
    "For the grid ROIs in the main figures, all events were used to determine responses (as there are fewer total events in individual grid ROIs than there are in cells.)"
   ]
  },
  {
   "cell_type": "code",
   "execution_count": 7,
   "metadata": {},
   "outputs": [
    {
     "data": {
      "image/png": "[encoded data removed]",
      "text/plain": [
       "<Figure size 400x200 with 1 Axes>"
      ]
     },
     "metadata": {},
     "output_type": "display_data"
    },
    {
     "data": {
      "image/png": "[encoded data removed]",
      "text/plain": [
       "<Figure size 400x200 with 1 Axes>"
      ]
     },
     "metadata": {},
     "output_type": "display_data"
    }
   ],
   "source": [
    "if 'relative_rates_grids' in params['output_names']:\n",
    "\n",
    "    plot_params = params['plots']['relative_rates']\n",
    "\n",
    "    # TODO Automate\n",
    "    hist_bins = np.arange( 0, 7.1, 0.5 )\n",
    "\n",
    "    for condition in conditions:\n",
    "        \n",
    "        color = helper.condition_colors[condition]\n",
    "\n",
    "        #\n",
    "        \n",
    "        events_subset = events_analyze\n",
    "        filter_condition = events_subset['condition'] == condition\n",
    "        filter_neighbor = events_subset['is_uncage'] == False\n",
    "        filter_cur = filter_condition & filter_neighbor\n",
    "        events_cur = events_subset[filter_cur]\n",
    "        responders_cur = uevents.responders(\n",
    "            events_cur,\n",
    "            # 'cell_global_all',\n",
    "            group_key_grid,\n",
    "            # Ratio is `nan` for those with 0 pre-uncaging events\n",
    "            min_pre = 1,\n",
    "            **params['responders']\n",
    "        )\n",
    "        \n",
    "        #\n",
    "        \n",
    "        plt.figure( figsize = (4, 2) )\n",
    "        \n",
    "        plt.hist(\n",
    "            responders_cur['ratio_post_pre'],\n",
    "            bins = hist_bins,\n",
    "            density = True,\n",
    "            color = 'C0',\n",
    "            **plot_params['hists']\n",
    "        )\n",
    "        \n",
    "        # TODO Automate\n",
    "        yl = (0, 0.65)\n",
    "        plt.ylim( yl )\n",
    "\n",
    "        plt.plot(\n",
    "            params['responders']['ratio_threshold'] * np.array( [1, 1] ), yl,\n",
    "            'k-',\n",
    "            **plot_params['split']\n",
    "        )\n",
    "        \n",
    "        plt.xticks( np.arange( 0, hist_bins[-1] + 1, 1. ) )\n",
    "\n",
    "        plt.title( f'{condition}' )\n",
    "        \n",
    "        plt.xlabel( 'Relative event rate (post- / pre-uncaging)' )\n",
    "        plt.ylabel( 'Probability density' )\n",
    "        \n",
    "        save_figure( params['output_names']['relative_rates_grids'] + f'-{condition}' )\n",
    "        \n",
    "        plt.show()"
   ]
  },
  {
   "cell_type": "markdown",
   "metadata": {},
   "source": [
    "### Fig. S5C"
   ]
  },
  {
   "cell_type": "markdown",
   "metadata": {},
   "source": [
    "#### Result: Scatterplots of post & pre event rates"
   ]
  },
  {
   "cell_type": "markdown",
   "metadata": {},
   "source": [
    "TODO: Reduce code duplication here."
   ]
  },
  {
   "cell_type": "code",
   "execution_count": 8,
   "metadata": {},
   "outputs": [
    {
     "name": "stderr",
     "output_type": "stream",
     "text": [
      "/Users/max/git/poskanzer-uncaging-pub-prep/python/uncaging/events.py:428: RuntimeWarning: invalid value encountered in scalar divide\n",
      "  cur_row['ratio_post_pre'] = rate_post / rate_pre\n",
      "/Users/max/git/poskanzer-uncaging-pub-prep/python/uncaging/events.py:428: RuntimeWarning: divide by zero encountered in scalar divide\n",
      "  cur_row['ratio_post_pre'] = rate_post / rate_pre\n"
     ]
    },
    {
     "data": {
      "image/png": "[encoded data removed]",
      "text/plain": [
       "<Figure size 300x300 with 1 Axes>"
      ]
     },
     "metadata": {},
     "output_type": "display_data"
    },
    {
     "data": {
      "image/png": "[encoded data removed]",
      "text/plain": [
       "<Figure size 300x300 with 1 Axes>"
      ]
     },
     "metadata": {},
     "output_type": "display_data"
    },
    {
     "name": "stderr",
     "output_type": "stream",
     "text": [
      "/Users/max/git/poskanzer-uncaging-pub-prep/python/uncaging/events.py:428: RuntimeWarning: divide by zero encountered in scalar divide\n",
      "  cur_row['ratio_post_pre'] = rate_post / rate_pre\n",
      "/Users/max/git/poskanzer-uncaging-pub-prep/python/uncaging/events.py:428: RuntimeWarning: invalid value encountered in scalar divide\n",
      "  cur_row['ratio_post_pre'] = rate_post / rate_pre\n"
     ]
    },
    {
     "data": {
      "image/png": "[encoded data removed]",
      "text/plain": [
       "<Figure size 300x300 with 1 Axes>"
      ]
     },
     "metadata": {},
     "output_type": "display_data"
    },
    {
     "data": {
      "image/png": "[encoded data removed]",
      "text/plain": [
       "<Figure size 300x300 with 1 Axes>"
      ]
     },
     "metadata": {},
     "output_type": "display_data"
    }
   ],
   "source": [
    "if 'rates' in params['output_names']:\n",
    "\n",
    "    plot_params = params['plots']['rates']\n",
    "\n",
    "    for condition in conditions:\n",
    "        \n",
    "        color = helper.condition_colors[condition]\n",
    "\n",
    "        #\n",
    "        \n",
    "        events_subset = events_prop\n",
    "\n",
    "        filter_condition = events_subset['condition'] == condition\n",
    "        filter_neighbor = events_subset['is_uncage'] == False\n",
    "        filter_cur = filter_condition & filter_neighbor\n",
    "\n",
    "        events_cur = events_subset[filter_cur]\n",
    "\n",
    "        responders_prop_cur = uevents.responders(\n",
    "            events_cur,\n",
    "            group_key,\n",
    "            # Scatterplots also include those with no baseline events\n",
    "            min_pre = 0,\n",
    "            **params['responders']\n",
    "        )\n",
    "        \n",
    "        events_subset = events_no_prop\n",
    "\n",
    "        filter_condition = events_subset['condition'] == condition\n",
    "        filter_neighbor = events_subset['is_uncage'] == False\n",
    "        filter_cur = filter_condition & filter_neighbor\n",
    "\n",
    "        events_cur = events_subset[filter_cur]\n",
    "\n",
    "        responders_static_cur = uevents.responders(\n",
    "            events_cur,\n",
    "            group_key,\n",
    "            # Scatterplots also include those with no baseline events\n",
    "            min_pre = 0,\n",
    "            **params['responders']\n",
    "        )\n",
    "        \n",
    "        #\n",
    "        \n",
    "        plt.figure( figsize = plot_params['figsize'] )\n",
    "        \n",
    "        # TODO Automate\n",
    "        xl = plot_params['xl_prop']\n",
    "        yl = xl\n",
    "\n",
    "        plt.xlim( xl )\n",
    "        plt.ylim( yl )\n",
    "        \n",
    "        if 'unity_line' in plot_params:\n",
    "            plt.plot(\n",
    "                xl, xl,\n",
    "                'k-',\n",
    "                **plot_params['unity_line']\n",
    "            )\n",
    "        if 'threshold_lines' in plot_params:\n",
    "            plt.plot(\n",
    "                # TODO Parameterize\n",
    "                [0.003, 0.003], yl,\n",
    "                'k-',\n",
    "                **plot_params['threshold_liens']\n",
    "            )\n",
    "            plt.plot(\n",
    "                xl, params['ratio_threshold'] * np.array( [xl[0], xl[1]] ),\n",
    "                'k-',\n",
    "                **plot_params['threshold_liens']\n",
    "            )\n",
    "\n",
    "        if 'dots_responders' in plot_params:\n",
    "            filter_responders = (\n",
    "                (responders_prop_cur['rate_pre'] > 0.)\n",
    "                & (responders_prop_cur['ratio_active'] == 1)\n",
    "            )\n",
    "\n",
    "            plt.plot(\n",
    "                responders_prop_cur[~filter_responders]['rate_pre'],\n",
    "                responders_prop_cur[~filter_responders]['rate_post'],\n",
    "                'k.',\n",
    "                **plot_params['dots']\n",
    "            )\n",
    "            plt.plot(\n",
    "                responders_prop_cur[filter_responders]['rate_pre'],\n",
    "                responders_prop_cur[filter_responders]['rate_post'],\n",
    "                f'{color}.',\n",
    "                **plot_params['dots_responders']\n",
    "            )\n",
    "        else:\n",
    "            plt.plot(\n",
    "                responders_prop_cur['rate_pre'],\n",
    "                responders_prop_cur['rate_post'],\n",
    "                f'{color}.',\n",
    "                **plot_params['dots']\n",
    "            )\n",
    "        \n",
    "        plt.title( f'{condition} - Prop.' )\n",
    "        plt.xlabel( 'Rate (pre)' )\n",
    "        plt.ylabel( 'Rate (post)' )\n",
    "        \n",
    "        save_figure( params['output_names']['rates'] + f'-prop-{condition}' )\n",
    "        \n",
    "        plt.show()\n",
    "\n",
    "        #\n",
    "        \n",
    "        plt.figure( figsize = plot_params['figsize'] )\n",
    "        \n",
    "        # TODO Automate\n",
    "        xl = plot_params['xl_static']\n",
    "        yl = xl\n",
    "\n",
    "        plt.xlim( xl )\n",
    "        plt.ylim( yl )\n",
    "        \n",
    "        if 'unity_line' in plot_params:\n",
    "            plt.plot(\n",
    "                xl, xl,\n",
    "                'k-',\n",
    "                **plot_params['unity_line']\n",
    "            )\n",
    "        if 'threshold_lines' in plot_params:\n",
    "            plt.plot(\n",
    "                # TODO Parameterize\n",
    "                [0.003, 0.003], yl,\n",
    "                'k-',\n",
    "                **plot_params['threshold_liens']\n",
    "            )\n",
    "            plt.plot(\n",
    "                xl, params['ratio_threshold'] * np.array( [xl[0], xl[1]] ),\n",
    "                'k-',\n",
    "                **plot_params['threshold_liens']\n",
    "            )\n",
    "\n",
    "        if 'dots_responders' in plot_params:\n",
    "            filter_responders = (\n",
    "                (responders_static_cur['rate_pre'] > 0.)\n",
    "                & (responders_static_cur['ratio_active'] == 1)\n",
    "            )\n",
    "\n",
    "            plt.plot(\n",
    "                responders_static_cur[~filter_responders]['rate_pre'],\n",
    "                responders_static_cur[~filter_responders]['rate_post'],\n",
    "                'k.',\n",
    "                **plot_params['rates']['dots']\n",
    "            )\n",
    "            plt.plot(\n",
    "                responders_static_cur[filter_responders]['rate_pre'],\n",
    "                responders_static_cur[filter_responders]['rate_post'],\n",
    "                f'{color}.',\n",
    "                **plot_params['dots_responders']\n",
    "            )\n",
    "        else:\n",
    "            plt.plot(\n",
    "                responders_static_cur['rate_pre'],\n",
    "                responders_static_cur['rate_post'],\n",
    "                f'{color}.',\n",
    "                **plot_params['dots']\n",
    "            )\n",
    "        \n",
    "        plt.title( f'{condition} - Static' )\n",
    "        plt.xlabel( 'Rate (pre)' )\n",
    "        plt.ylabel( 'Rate (post)' )\n",
    "        \n",
    "        save_figure( params['output_names']['rates'] + f'-static-{condition}' )\n",
    "        \n",
    "        plt.show()"
   ]
  },
  {
   "cell_type": "markdown",
   "metadata": {},
   "source": [
    "***\n",
    "\n",
    "### Figs. S3J, S5D"
   ]
  },
  {
   "cell_type": "markdown",
   "metadata": {},
   "source": [
    "#### Result: Histograms of post/pre relative uncaging responses"
   ]
  },
  {
   "cell_type": "code",
   "execution_count": 9,
   "metadata": {},
   "outputs": [],
   "source": [
    "if 'relative_rates' in params['output_names']:\n",
    "\n",
    "    plot_params = params['plots']['relative_rates']\n",
    "\n",
    "    # TODO Automate\n",
    "    hist_bins = np.arange( 0, 6.1, 0.25 )\n",
    "\n",
    "    for condition in conditions:\n",
    "        \n",
    "        color = helper.condition_colors[condition]\n",
    "\n",
    "        #\n",
    "        \n",
    "        events_subset = events_prop\n",
    "        filter_condition = events_subset['condition'] == condition\n",
    "        filter_neighbor = events_subset['is_uncage'] == False\n",
    "        filter_cur = filter_condition & filter_neighbor\n",
    "        events_cur = events_subset[filter_cur]\n",
    "        responders_prop_cur = uevents.responders(\n",
    "            events_cur,\n",
    "            group_key,\n",
    "            # Ratio is `nan` for those with 0 pre-uncaging events\n",
    "            min_pre = 1,\n",
    "            **params['responders']\n",
    "        )\n",
    "        \n",
    "        events_subset = events_no_prop\n",
    "        filter_condition = events_subset['condition'] == condition\n",
    "        filter_neighbor = events_subset['is_uncage'] == False\n",
    "        filter_cur = filter_condition & filter_neighbor\n",
    "        events_cur = events_subset[filter_cur]\n",
    "        responders_no_prop_cur = uevents.responders(\n",
    "            events_cur,\n",
    "            group_key,\n",
    "            # Ratio is `nan` for those with 0 pre-uncaging events\n",
    "            min_pre = 1,\n",
    "            **params['responders']\n",
    "        )\n",
    "        \n",
    "        #\n",
    "        \n",
    "        plt.figure( figsize = (4, 2) )\n",
    "        \n",
    "        plt.hist(\n",
    "            responders_no_prop_cur['ratio_post_pre'],\n",
    "            bins = hist_bins,\n",
    "            density = True,\n",
    "            color = 'C0',\n",
    "            label = 'Static',\n",
    "            **plot_params['hists']\n",
    "        )\n",
    "        plt.hist(\n",
    "            responders_prop_cur['ratio_post_pre'],\n",
    "            bins = hist_bins,\n",
    "            density = True,\n",
    "            color = 'C1',\n",
    "            label = 'Prop.',\n",
    "            **plot_params['hists']\n",
    "        )\n",
    "        \n",
    "        # TODO Automate\n",
    "        yl = (0, 1.25)\n",
    "        plt.ylim( yl )\n",
    "\n",
    "        plt.plot(\n",
    "            params['responders']['ratio_threshold'] * np.array( [1, 1] ), yl,\n",
    "            'k-',\n",
    "            **plot_params['split']\n",
    "        )\n",
    "        \n",
    "        plt.title( f'{condition}' )\n",
    "        plt.legend()\n",
    "        \n",
    "        plt.xlabel( 'Relative event rate (post- / pre-uncaging)' )\n",
    "        plt.ylabel( 'Probability density' )\n",
    "        \n",
    "        save_figure( f'event-ratio-histogram-cells-{condition}' )\n",
    "        \n",
    "        plt.show()"
   ]
  },
  {
   "cell_type": "markdown",
   "metadata": {},
   "source": [
    "***\n",
    "\n",
    "### Fig. S5E"
   ]
  },
  {
   "cell_type": "markdown",
   "metadata": {},
   "source": [
    "#### Setup"
   ]
  },
  {
   "cell_type": "code",
   "execution_count": 10,
   "metadata": {},
   "outputs": [],
   "source": [
    "cell_key = params['group_key']\n",
    "\n",
    "events_considered_features = events_analyze.copy()\n",
    "events_considered_response = events_prop.copy()\n",
    "events_considered_static = events_no_prop.copy()"
   ]
  },
  {
   "cell_type": "code",
   "execution_count": 11,
   "metadata": {},
   "outputs": [],
   "source": [
    "filter_events_condition_features = events_considered_features[condition_key].isin( conditions )\n",
    "filter_events_neighbor_features = events_considered_features['is_uncage'] == False\n",
    "filter_events_panel_features = filter_events_condition_features & filter_events_neighbor_features\n",
    "\n",
    "events_panel_features = events_considered_features[filter_events_panel_features]\n",
    "\n",
    "filter_events_condition_response = events_considered_response[condition_key].isin( conditions )\n",
    "filter_events_neighbor_response = events_considered_response['is_uncage'] == False\n",
    "filter_events_panel_response = filter_events_condition_response & filter_events_neighbor_response\n",
    "\n",
    "events_panel_response = events_considered_response[filter_events_panel_response]\n",
    "\n",
    "filter_events_condition_static = events_considered_static[condition_key].isin( conditions )\n",
    "filter_events_neighbor_static = events_considered_static['is_uncage'] == False\n",
    "filter_events_panel_static = filter_events_condition_static & filter_events_neighbor_static\n",
    "\n",
    "events_panel_static = events_considered_static[filter_events_panel_static]\n",
    "\n",
    "#\n",
    "\n",
    "events_panel_kinds = {\n",
    "    'predict': events_panel_features,\n",
    "    'response': events_panel_response,\n",
    "    'static': events_panel_static,\n",
    "}"
   ]
  },
  {
   "cell_type": "markdown",
   "metadata": {},
   "source": [
    "### Run"
   ]
  },
  {
   "cell_type": "code",
   "execution_count": 12,
   "metadata": {},
   "outputs": [
    {
     "name": "stderr",
     "output_type": "stream",
     "text": [
      "/Users/max/git/poskanzer-uncaging-pub-prep/python/uncaging/events.py:504: RuntimeWarning: Mean of empty slice\n",
      "  val = np.nanmean( df_group_window[k] )\n"
     ]
    }
   ],
   "source": [
    "results_features = uevents.features(\n",
    "    events_panel_features,\n",
    "    group_key,\n",
    "    **params['features']\n",
    ")\n",
    "\n",
    "results_rates = uevents.rates(\n",
    "    events_panel_kinds,\n",
    "    group_key,\n",
    "    **params['rates']\n",
    ")"
   ]
  },
  {
   "cell_type": "code",
   "execution_count": 13,
   "metadata": {},
   "outputs": [],
   "source": [
    "# Filter only those with baseline response-type (propagative) events\n",
    "\n",
    "filter_use = results_rates['rate_response'] > 0.\n",
    "groups_use = results_rates[filter_use][cell_key]\n",
    "\n",
    "filter_groups_features = results_rates[cell_key].isin( groups_use )\n",
    "filter_groups_rates = results_rates[cell_key].isin( groups_use )\n",
    "\n",
    "results_features = results_features[filter_groups_features]\n",
    "results_rates = results_rates[filter_groups_rates]"
   ]
  },
  {
   "cell_type": "markdown",
   "metadata": {},
   "source": [
    "#### Result: Histogram of baseline propagative fraction"
   ]
  },
  {
   "cell_type": "code",
   "execution_count": 14,
   "metadata": {},
   "outputs": [
    {
     "data": {
      "image/png": "[encoded data removed]",
      "text/plain": [
       "<Figure size 500x300 with 1 Axes>"
      ]
     },
     "metadata": {},
     "output_type": "display_data"
    }
   ],
   "source": [
    "cur_params = params['plots']['baseline_prop_fraction']\n",
    "\n",
    "prediction_key = 'mark_propTotal_bin'\n",
    "hist_bins = np.arange( 0, 0.81, 0.04 )\n",
    "\n",
    "plt.figure( figsize = cur_params['figsize'] )\n",
    "\n",
    "for condition in conditions:\n",
    "    \n",
    "    color = helper.condition_colors[condition]\n",
    "    \n",
    "    filter_condition = results_features['condition'] == condition\n",
    "    results_condition = results_features[filter_condition]\n",
    "\n",
    "    plt.hist(\n",
    "        results_condition[prediction_key],\n",
    "        density = True,\n",
    "        bins = hist_bins,\n",
    "        color = color,\n",
    "        label = condition,\n",
    "        **cur_params['hists']\n",
    "    )\n",
    "    \n",
    "yl = plt.ylim()\n",
    "    \n",
    "for condition in conditions:\n",
    "    \n",
    "    color = helper.condition_colors[condition]\n",
    "    \n",
    "    filter_condition = results_features['condition'] == condition\n",
    "    results_condition = results_features[filter_condition]\n",
    "    \n",
    "    cur_threshold = np.quantile( results_condition[prediction_key], params['quantile_split'] )\n",
    "    \n",
    "    plt.plot(\n",
    "        [cur_threshold, cur_threshold], yl,\n",
    "        f'{color}-',\n",
    "        **cur_params['split']\n",
    "    )\n",
    "\n",
    "plt.ylim( yl )\n",
    "    \n",
    "plt.xlabel( 'Fraction of propagative events at baseline' )\n",
    "plt.ylabel( 'Probability density' )\n",
    "\n",
    "plt.legend()\n",
    "\n",
    "save_figure( params['output_names']['baseline_prop_fraction'] )\n",
    "\n",
    "plt.show()"
   ]
  },
  {
   "cell_type": "markdown",
   "metadata": {},
   "source": [
    "### Result: Histogram of baseline overall event rate"
   ]
  },
  {
   "cell_type": "code",
   "execution_count": 15,
   "metadata": {},
   "outputs": [
    {
     "data": {
      "image/png": "[encoded data removed]",
      "text/plain": [
       "<Figure size 500x300 with 1 Axes>"
      ]
     },
     "metadata": {},
     "output_type": "display_data"
    }
   ],
   "source": [
    "cur_params = params['plots']['relative_rates']\n",
    "\n",
    "prediction_key = 'rate_predict'\n",
    "hist_bins = np.arange( 0.5 / 60, 75.5 / 60, 3 / 60 )\n",
    "\n",
    "plt.figure( figsize = (5, 3) )\n",
    "\n",
    "for condition in conditions:\n",
    "    \n",
    "    color = helper.condition_colors[condition]\n",
    "    \n",
    "    filter_condition = results_rates['condition'] == condition\n",
    "    results_condition = results_rates[filter_condition]\n",
    "\n",
    "    plt.hist( results_condition[prediction_key],\n",
    "              density = True,\n",
    "              bins = hist_bins,\n",
    "              color = color,\n",
    "              label = condition,\n",
    "              **cur_params['hists'] )\n",
    "    \n",
    "yl = plt.ylim()\n",
    "    \n",
    "for condition in conditions:\n",
    "    \n",
    "    color = helper.condition_colors[condition]\n",
    "    \n",
    "    filter_condition = results_rates['condition'] == condition\n",
    "    results_condition = results_rates[filter_condition]\n",
    "    \n",
    "    cur_threshold = np.quantile( results_condition[prediction_key], params['quantile_split'] )\n",
    "    \n",
    "    plt.plot(\n",
    "        [cur_threshold, cur_threshold], yl,\n",
    "        f'{color}-',\n",
    "        **cur_params['split']\n",
    "    )\n",
    "\n",
    "plt.ylim( yl )\n",
    "    \n",
    "plt.xlabel( 'Overall event rate at baseline' )\n",
    "plt.ylabel( 'Probability density' )\n",
    "\n",
    "plt.legend()\n",
    "\n",
    "save_figure( params['output_names']['baseline_rate_overall'] )\n",
    "\n",
    "plt.show()"
   ]
  }
 ],
 "metadata": {
  "kernelspec": {
   "display_name": "Python 3",
   "language": "python",
   "name": "python3"
  },
  "language_info": {
   "codemirror_mode": {
    "name": "ipython",
    "version": 3
   },
   "file_extension": ".py",
   "mimetype": "text/x-python",
   "name": "python",
   "nbconvert_exporter": "python",
   "pygments_lexer": "ipython3",
   "version": "3.8.18"
  }
 },
 "nbformat": 4,
 "nbformat_minor": 2
}
