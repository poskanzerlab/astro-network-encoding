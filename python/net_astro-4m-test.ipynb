{
 "cells": [
  {
   "cell_type": "markdown",
   "metadata": {},
   "source": [
    "# Figure 4M\n",
    "## Response prediction\n",
    "\n",
    "For \"Network-level encoding of local neurotransmitters in cortical astrocytes\" (Cahill et al. 2024)"
   ]
  },
  {
   "cell_type": "markdown",
   "metadata": {},
   "source": [
    "---"
   ]
  },
  {
   "cell_type": "markdown",
   "metadata": {},
   "source": [
    "## Setup"
   ]
  },
  {
   "cell_type": "markdown",
   "metadata": {},
   "source": [
    "#### Imports"
   ]
  },
  {
   "cell_type": "code",
   "execution_count": 1,
   "metadata": {},
   "outputs": [],
   "source": [
    "# Typing\n",
    "\n",
    "from typing import (\n",
    "    Optional,\n",
    "    Union,\n",
    "    Any,\n",
    ")\n",
    "from matplotlib.pyplot import (\n",
    "    Axes,\n",
    ")\n",
    "from numpy.typing import(\n",
    "    ArrayLike,\n",
    "    NDArray,\n",
    ")\n",
    "from pandas import (\n",
    "    DataFrame,\n",
    ")\n",
    "\n",
    "# Others\n",
    "\n",
    "import numpy as np\n",
    "import pandas as pd\n",
    "\n",
    "import scipy.stats\n",
    "import statsmodels.stats.multitest as multitest\n",
    "\n",
    "import matplotlib.pyplot as plt\n",
    "from matplotlib.patches import (\n",
    "    Rectangle,\n",
    ")\n",
    "import matplotlib_venn as venn\n",
    "\n",
    "import time\n",
    "import os\n",
    "from pathlib import Path\n",
    "import yaml\n",
    "\n",
    "from itertools import combinations\n",
    "\n",
    "## TODO Replace with published `aqua` module\n",
    "# import sys\n",
    "# sys.path.insert( 1, 'aqua-py/src/' )\n",
    "from uncaging import (\n",
    "    Helper,\n",
    ")\n",
    "\n",
    "import uncaging.utils as uutils\n",
    "import uncaging.events as uevents\n",
    "import uncaging.plot as uplot\n",
    "import uncaging.stats as ustats\n",
    "\n",
    "import aqua.stats as astats\n",
    "\n",
    "from tqdm import tqdm"
   ]
  },
  {
   "cell_type": "markdown",
   "metadata": {},
   "source": [
    "#### Parameters"
   ]
  },
  {
   "cell_type": "code",
   "execution_count": 2,
   "metadata": {},
   "outputs": [],
   "source": [
    "params_path = Path( 'config' ) / 'panels' / 'net_astro-4m.yaml'\n",
    "params = uutils.load_params( params_path )\n",
    "\n",
    "# Choices for `variant`:\n",
    "# * 'wt' - Fig. 4M\n",
    "variant = 'wt'\n",
    "\n",
    "params.update( params['variants'][variant] )"
   ]
  },
  {
   "cell_type": "markdown",
   "metadata": {},
   "source": [
    "#### Initial setup"
   ]
  },
  {
   "cell_type": "code",
   "execution_count": 3,
   "metadata": {},
   "outputs": [],
   "source": [
    "helper = Helper( config_path = params['helper_configs'],\n",
    "                 hive_root = params['hive_root'],\n",
    "                 output_to = params['output_parent'] )\n",
    "\n",
    "# For reproducible results with randomness\n",
    "np.random.seed( params['random_seed'] )\n",
    "\n",
    "# Output saving\n",
    "notebook_stem = params['notebook_stem']\n",
    "analysis = params['analysis']\n",
    "\n",
    "save_figure = helper.figure_saver( notebook_stem, analysis )\n",
    "save_data = helper.data_saver( notebook_stem, analysis )\n",
    "save_csv = helper.csv_saver( notebook_stem, analysis )"
   ]
  },
  {
   "cell_type": "markdown",
   "metadata": {},
   "source": [
    "---"
   ]
  },
  {
   "cell_type": "markdown",
   "metadata": {},
   "source": [
    "## Load data"
   ]
  },
  {
   "cell_type": "code",
   "execution_count": 4,
   "metadata": {},
   "outputs": [
    {
     "name": "stderr",
     "output_type": "stream",
     "text": [
      "Loading 20200814_CytoGp35m_S2_RuBiGlu4_10stims-024Cycle00001_Ch1_cell-events.mat...: 100%|██████████| 56/56 [00:02<00:00, 25.54it/s] \n",
      "Loading 20210629_CytoGp34f_S3_NoRuBi6_10stim-036Cycle00001_Ch1_cell-events.mat...: 100%|██████████| 48/48 [00:01<00:00, 42.64it/s]\n",
      "Loading 20200814_CytoGp35m_S2_RuBiGlu4_10stims-024Cycle00001_Ch1_cell-events.mat...: 100%|██████████| 56/56 [00:01<00:00, 32.18it/s] \n"
     ]
    },
    {
     "name": "stdout",
     "output_type": "stream",
     "text": [
      "\n",
      "Experiment Glu\n",
      "    Excluded cells: 177\n",
      "    Included cells: 138\n",
      "\n",
      "\n",
      "Experiment Control-Laser\n",
      "    Excluded cells: 716\n",
      "    Included cells: 99\n",
      "\n",
      "\n",
      "Experiment GABA\n",
      "    Excluded cells: 154\n",
      "    Included cells: 164\n",
      "\n"
     ]
    }
   ],
   "source": [
    "events_analyze = helper.load_analysis_events(\n",
    "    analysis,\n",
    "    extra_decorators = [],\n",
    "    verbose = True\n",
    ")"
   ]
  },
  {
   "cell_type": "code",
   "execution_count": 5,
   "metadata": {},
   "outputs": [],
   "source": [
    "events_analyze, events_prop, events_no_prop = uevents.split_events_prop(\n",
    "    events_analyze,\n",
    "    threshold = params['prop_threshold'],\n",
    ")"
   ]
  },
  {
   "cell_type": "markdown",
   "metadata": {},
   "source": [
    "---"
   ]
  },
  {
   "cell_type": "markdown",
   "metadata": {},
   "source": [
    "## Analysis"
   ]
  },
  {
   "cell_type": "markdown",
   "metadata": {},
   "source": [
    "### Setup"
   ]
  },
  {
   "cell_type": "code",
   "execution_count": 6,
   "metadata": {},
   "outputs": [],
   "source": [
    "# These are keys we might need for downstream coregistration\n",
    "keep_keys = [\n",
    "    'cell_global_coreg',\n",
    "    'condition',\n",
    "    'dataset_id_all',\n",
    "]\n",
    "\n",
    "params['responders']['keep_keys'] = keep_keys\n",
    "params['features']['keep_keys'] = keep_keys\n",
    "params['rates']['keep_keys'] = keep_keys\n",
    "\n",
    "if 'group_key' not in params['prediction']:\n",
    "    if 'group_key' in params:\n",
    "        params['prediction']['group_key'] = params['group_key']\n",
    "    else:\n",
    "        raise Exception( 'No way to infer prediction group key' )"
   ]
  },
  {
   "cell_type": "markdown",
   "metadata": {},
   "source": [
    "# TODO: These have duplication with 4H"
   ]
  },
  {
   "cell_type": "markdown",
   "metadata": {},
   "source": [
    "#### Statistic functions"
   ]
  },
  {
   "cell_type": "code",
   "execution_count": 7,
   "metadata": {},
   "outputs": [],
   "source": [
    "def stat_ratio_active( df: DataFrame ) -> float:\n",
    "    \"\"\"\n",
    "    TODO\n",
    "    \"\"\"\n",
    "    return np.sum( df['ratio_active'] ) / df.shape[0]\n",
    "\n",
    "def stat_ratio_active_diff_paired(\n",
    "        df1: DataFrame,\n",
    "        df2: DataFrame,\n",
    "        pair_key: str = 'dataset_id'\n",
    "    ) -> float:\n",
    "    \"\"\"\n",
    "    TODO\n",
    "    \"\"\"\n",
    "\n",
    "    groups_1 = df1[pair_key].unique()\n",
    "    groups_2 = df2[pair_key].unique()\n",
    "    groups = list( set( groups_1 ) | set( groups_2 ) )\n",
    "    \n",
    "    x = []\n",
    "    y = []\n",
    "    \n",
    "    for i, group in enumerate( groups ):\n",
    "        df1_group = df1[df1[pair_key] == group]\n",
    "        df2_group = df2[df2[pair_key] == group]\n",
    "        \n",
    "        if df1_group.shape[0] == 0 or df2_group.shape[0] == 0:\n",
    "            continue\n",
    "        \n",
    "        x.append( stat_ratio_active( df1_group ) )\n",
    "        y.append( stat_ratio_active( df2_group ) )\n",
    "    \n",
    "    x = np.array( x )\n",
    "    y = np.array( y )\n",
    "    \n",
    "    return np.mean( y - x )\n",
    "\n",
    "def similarity_jaccard(\n",
    "        x: ArrayLike,\n",
    "        y: ArrayLike\n",
    "    ) -> float:\n",
    "    \"\"\"\n",
    "    TODO\n",
    "    \"\"\"\n",
    "    return np.sum( (x == 1) & (y == 1) ) / np.sum( (x == 1) | (y == 1) )"
   ]
  },
  {
   "cell_type": "code",
   "execution_count": 8,
   "metadata": {},
   "outputs": [],
   "source": [
    "def split_data(\n",
    "        df: DataFrame,\n",
    "        key: str,\n",
    "        midpoint: Optional[float]\n",
    "    ) -> 'tuple[DataFrame, DataFrame]':\n",
    "    \"\"\"\n",
    "    TODO\n",
    "    \"\"\"\n",
    "\n",
    "    if midpoint is None:\n",
    "        filter_high = df[key] > 0\n",
    "        return df[~filter_high], df[filter_high]\n",
    "    \n",
    "    filter_low = df[key] < midpoint\n",
    "    return df[filter_low], df[~filter_low]\n",
    "\n",
    "def response_frac_stat( df: DataFrame ) -> float:\n",
    "    \"\"\"TODO\"\"\"\n",
    "    return np.sum( df['ratio_active'] ) / df.shape[0]\n",
    "\n",
    "def response_frac_stat_agg(\n",
    "        df: DataFrame,\n",
    "        aggregate_key: Optional[str] = None,\n",
    "        return_aggregates: bool = False,\n",
    "    ) -> Union[float, 'tuple[float, DataFrame]']:\n",
    "    \"\"\"TODO\"\"\"\n",
    "    \n",
    "    if aggregate_key is None:\n",
    "        ret = response_frac_stat( df )\n",
    "        if return_aggregates:\n",
    "            return ret, None\n",
    "        return ret\n",
    "\n",
    "    df_agg_data = []\n",
    "    for k, df_cur in df.groupby( aggregate_key ):\n",
    "        df_agg_data.append( {\n",
    "            aggregate_key: k,\n",
    "            'n': df_cur.shape[0],\n",
    "            'stat': response_frac_stat( df_cur ),\n",
    "        } )\n",
    "    df_agg = pd.DataFrame( df_agg_data )\n",
    "    ret = np.mean( df_agg['stat'] )\n",
    "\n",
    "    if return_aggregates:\n",
    "        return ret, df_agg\n",
    "\n",
    "    return ret\n",
    "\n",
    "def response_frac_diff_stat(\n",
    "        df: DataFrame,\n",
    "        key: str,\n",
    "        aggregate_key: Optional[str] = None,\n",
    "        midpoint: Optional[float] = None,\n",
    "    ) -> float:\n",
    "    \"\"\"TODO\"\"\"\n",
    "\n",
    "    df_low, df_high = split_data( df, key, midpoint )\n",
    "\n",
    "    if aggregate_key is None:\n",
    "        return response_frac_stat( df_low ) - response_frac_stat( df_high )\n",
    "\n",
    "    # Aggregate key is specified\n",
    "    df_agg_low_data = []\n",
    "    for k, df_cur in df_low.groupby( aggregate_key ):\n",
    "        df_agg_low_data.append( {\n",
    "            aggregate_key: k,\n",
    "            'n': df_cur.shape[0],\n",
    "            'stat': response_frac_stat( df_cur ),\n",
    "        } )\n",
    "    df_agg_high_data = []\n",
    "    for k, df_cur in df_high.groupby( aggregate_key ):\n",
    "        df_agg_high_data.append( {\n",
    "            aggregate_key: k,\n",
    "            'n': df_cur.shape[0],\n",
    "            'stat': response_frac_stat( df_cur ),\n",
    "        } )\n",
    "    \n",
    "    df_agg_low = pd.DataFrame( df_agg_low_data, index = None )\n",
    "    df_agg_high = pd.DataFrame( df_agg_high_data, index = None )\n",
    "\n",
    "    df_agg = pd.merge( \n",
    "        df_agg_low, df_agg_high,\n",
    "        on = aggregate_key,\n",
    "        how = 'outer',\n",
    "        suffixes = ['_low', '_high'],\n",
    "    )\n",
    "    return np.nanmean( df_agg['stat_low'] ) - np.nanmean( df_agg['stat_high'] )\n",
    "    # return np.nanmean( df_agg['stat_low'] - df_agg['stat_high'] )"
   ]
  },
  {
   "cell_type": "markdown",
   "metadata": {},
   "source": [
    "#### Main analysis"
   ]
  },
  {
   "cell_type": "code",
   "execution_count": 9,
   "metadata": {},
   "outputs": [],
   "source": [
    "PredictionResult = 'dict[str, Any]'\n",
    "\n",
    "def analyze_prediction(\n",
    "        responses: DataFrame,\n",
    "        features: DataFrame,\n",
    "        prediction_key: str,\n",
    "        group_key: str = 'cell_global',\n",
    "        aggregate_key: Optional[str] = None,\n",
    "        condition_key: str = 'condition',\n",
    "        conditions: list = ['GABA', 'Glu'],\n",
    "        quantile_split: float = 0.5,\n",
    "        n_boot: int = 200,\n",
    "        hierarchy_boot: 'list[str]' = ['dataset_id_all', 'cell_global_all'],\n",
    "        n_perm: int = 1000,\n",
    "        verbose: bool = True\n",
    "    ) -> PredictionResult:\n",
    "    \"\"\"\n",
    "    TODO\n",
    "    \"\"\"\n",
    "    \n",
    "    ret = dict()\n",
    "    \n",
    "    for i_condition, condition in enumerate( conditions ):\n",
    "        \n",
    "        cur_ret = dict()\n",
    "        \n",
    "        filter_condition_features = features[condition_key] == condition\n",
    "        filter_condition_responses = responses[condition_key] == condition\n",
    "        \n",
    "        data_combined = pd.merge(\n",
    "            features[filter_condition_features], responses[filter_condition_responses],\n",
    "            suffixes = [None, '__copy_responses'],\n",
    "            on = group_key\n",
    "        )\n",
    "\n",
    "        if quantile_split is None:\n",
    "            split_point = None\n",
    "        else:\n",
    "            features_split = data_combined[prediction_key]\n",
    "            split_point = np.nanquantile( features_split, quantile_split )\n",
    "            if verbose:\n",
    "                print( f'{condition}: {split_point}' )\n",
    "        \n",
    "        stat = lambda df: response_frac_stat_agg(\n",
    "            df,\n",
    "            aggregate_key = aggregate_key,\n",
    "        )\n",
    "        stat_diff = lambda df: response_frac_diff_stat(\n",
    "            df,\n",
    "            prediction_key,\n",
    "            aggregate_key = aggregate_key,\n",
    "            midpoint = split_point,\n",
    "        )\n",
    "\n",
    "        # Stat values\n",
    "        data_low, data_high = split_data(\n",
    "            data_combined,\n",
    "            prediction_key,\n",
    "            split_point,\n",
    "        )\n",
    "\n",
    "        cur_ret['data_low'] = data_low\n",
    "        cur_ret['data_high'] = data_high\n",
    "        \n",
    "        cur_ret['fraction_low'] = stat( data_low )\n",
    "        cur_ret['fraction_high'] = stat( data_high )\n",
    "        \n",
    "        cur_ret['fraction_diff'] = stat_diff( data_combined )\n",
    "\n",
    "        # Bootstrapping\n",
    "        fraction_low_boot = ustats.bootstrap_stat_hierarchical(\n",
    "            stat,\n",
    "            data_low,\n",
    "            hierarchy_boot,\n",
    "            n = n_boot,\n",
    "            verbose = verbose,\n",
    "        )\n",
    "        fraction_high_boot = ustats.bootstrap_stat_hierarchical(\n",
    "            stat,\n",
    "            data_high, \n",
    "            hierarchy_boot,\n",
    "            n = n_boot,\n",
    "            verbose = verbose,\n",
    "        )\n",
    "        cur_ret['fraction_low_boot'] = fraction_low_boot\n",
    "        cur_ret['fraction_high_boot'] = fraction_high_boot\n",
    "        \n",
    "        # Permutation testing\n",
    "        fraction_diff_perm = np.zeros( (n_perm,) )\n",
    "        \n",
    "        it = range( n_perm )\n",
    "        if verbose:\n",
    "            it = tqdm( it )\n",
    "        for i_perm in it:\n",
    "            data_combined_perm = data_combined.copy()\n",
    "            data_combined_perm[prediction_key] = np.random.permutation( data_combined_perm[prediction_key] )\n",
    "            fraction_diff_perm[i_perm] = stat_diff( data_combined_perm )\n",
    "            \n",
    "        cur_ret['fraction_diff_perm'] = fraction_diff_perm\n",
    "            \n",
    "        p_perm = ustats.perm_p(\n",
    "            np.sum( np.abs( fraction_diff_perm ) >= np.abs( cur_ret['fraction_diff'] ) ),\n",
    "            n_perm\n",
    "        )\n",
    "        cur_ret['p_perm'] = p_perm\n",
    "        \n",
    "        ret[condition] = cur_ret\n",
    "    \n",
    "    return ret"
   ]
  },
  {
   "cell_type": "markdown",
   "metadata": {},
   "source": [
    "#### Plotting"
   ]
  },
  {
   "cell_type": "code",
   "execution_count": 10,
   "metadata": {},
   "outputs": [],
   "source": [
    "def plot_prediction(\n",
    "        ax: Axes,\n",
    "        results: PredictionResult,\n",
    "        order: list,\n",
    "        quantile: float = 0.05,\n",
    "        bar_width: float = 0.4,\n",
    "        error_linewidth: float = 2,\n",
    "        significance_offset: float = 0.05\n",
    "    ):\n",
    "    \"\"\"\n",
    "    TODO\n",
    "    \"\"\"\n",
    "    \n",
    "    xticks = []\n",
    "    xticklabels = []\n",
    "    \n",
    "    total_occupied = 2. * bar_width\n",
    "    total_unoccupied = 1. - total_occupied\n",
    "    spacing = total_unoccupied / 2.\n",
    "    center_offset = (spacing / 2.) + (bar_width / 2.)\n",
    "    \n",
    "    for i_condition, condition in enumerate( order ):\n",
    "        \n",
    "        result = results[condition]\n",
    "        \n",
    "        #\n",
    "        \n",
    "        if quantile is None:\n",
    "            std_low = np.std( result['fraction_low_boot'] )\n",
    "            fraction_low_low = result['fraction_low'] - std_low\n",
    "            fraction_low_high = result['fraction_low'] + std_low\n",
    "            \n",
    "            std_high = np.std( result['fraction_high_boot'] )\n",
    "            fraction_high_low = result['fraction_high'] - std_high\n",
    "            fraction_high_high = result['fraction_high'] + std_high\n",
    "            \n",
    "        else:\n",
    "            fraction_low_low = np.quantile( result['fraction_low_boot'], quantile/2. )\n",
    "            fraction_low_high = np.quantile( result['fraction_low_boot'], 1. - (quantile/2.) )\n",
    "            \n",
    "            fraction_high_low = np.quantile( result['fraction_high_boot'], quantile/2. )\n",
    "            fraction_high_high = np.quantile( result['fraction_high_boot'], 1. - (quantile/2.) )\n",
    "        \n",
    "        #\n",
    "        \n",
    "        x_cur = i_condition - center_offset\n",
    "        \n",
    "        ax.bar( x_cur, result['fraction_low'],\n",
    "                width = bar_width,\n",
    "                color = helper.condition_colors[condition],\n",
    "                alpha = 0.5 )\n",
    "        ax.plot( [x_cur, x_cur], [fraction_low_low, fraction_low_high], 'k-',\n",
    "                 linewidth = error_linewidth )\n",
    "        \n",
    "        xticks.append( x_cur )\n",
    "        xticklabels.append( 'Low' )\n",
    "        \n",
    "        #\n",
    "        \n",
    "        x_cur = i_condition\n",
    "        \n",
    "        ax.text( x_cur,\n",
    "                 significance_offset + np.maximum( fraction_low_high,\n",
    "                                                   fraction_high_high ),\n",
    "                 uutils.p_text( result['p_perm'] ),\n",
    "                 horizontalalignment = 'center',\n",
    "                 verticalalignment = 'baseline',\n",
    "                 color = helper.condition_colors[condition] )\n",
    "        \n",
    "        #\n",
    "        \n",
    "        x_cur = i_condition + center_offset\n",
    "        \n",
    "        ax.bar( x_cur, result['fraction_high'],\n",
    "                width = bar_width,\n",
    "                color = helper.condition_colors[condition],\n",
    "                alpha = 1. )\n",
    "        ax.plot( [x_cur, x_cur], [fraction_high_low, fraction_high_high], 'k-',\n",
    "                 linewidth = 2 )\n",
    "        \n",
    "        xticks.append( x_cur )\n",
    "        xticklabels.append( 'High' )\n",
    "    \n",
    "    #\n",
    "    \n",
    "    ax.set_xticks( xticks )\n",
    "    ax.set_xticklabels( xticklabels, rotation = 90 )\n",
    "    \n",
    "    ax.set_ylabel( 'Fraction responders' )\n",
    "    ax.set_xlabel( 'Baseline event rate' )\n",
    "#     ax.set_xlabel( 'Baseline propagation' )\n",
    "    \n",
    "    ax.set_ylim( 0, 1 )"
   ]
  },
  {
   "cell_type": "markdown",
   "metadata": {},
   "source": [
    "### Run"
   ]
  },
  {
   "cell_type": "code",
   "execution_count": 11,
   "metadata": {},
   "outputs": [],
   "source": [
    "conditions = params['comparison']"
   ]
  },
  {
   "cell_type": "code",
   "execution_count": 12,
   "metadata": {},
   "outputs": [],
   "source": [
    "events_considered_features = events_analyze.copy()\n",
    "events_considered_response = events_prop.copy()\n",
    "\n",
    "filter_events_condition_features = events_considered_features['condition'].isin( conditions )\n",
    "filter_events_neighbor_features = events_considered_features['is_uncage'] == False\n",
    "filter_events_panel_features = filter_events_condition_features & filter_events_neighbor_features\n",
    "\n",
    "events_panel_features = events_considered_features[filter_events_panel_features]\n",
    "\n",
    "filter_events_condition_response = events_considered_response['condition'].isin( conditions )\n",
    "filter_events_neighbor_response = events_considered_response['is_uncage'] == False\n",
    "filter_events_panel_response = filter_events_condition_response & filter_events_neighbor_response\n",
    "\n",
    "events_panel_response = events_considered_response[filter_events_panel_response]"
   ]
  },
  {
   "cell_type": "markdown",
   "metadata": {},
   "source": [
    "#### Characterize $n$"
   ]
  },
  {
   "cell_type": "code",
   "execution_count": 13,
   "metadata": {},
   "outputs": [
    {
     "name": "stdout",
     "output_type": "stream",
     "text": [
      "**** FEATURE EVENTS: ****\n",
      "\n",
      "Mice:            n = 4\n",
      "Slices:          n = 7\n",
      "Datasets:        n = 55\n",
      "Cell-recordings: n = 262\n",
      "Cells:           n = 174\n",
      "Events:          n = 17885\n",
      "Slices per mouse:\n",
      "    Low:  1\n",
      "    High: 2\n",
      "Datasets per mouse:\n",
      "    Low:  8\n",
      "    High: 16\n",
      "Datasets per slice:\n",
      "    Low:  7\n",
      "    High: 8\n",
      "Cells per dataset:\n",
      "    Low:  1\n",
      "    High: 13\n",
      "Events per cell-recording:\n",
      "    Low:  10\n",
      "    High: 266\n",
      "\n",
      "** GABA:\n",
      "Datasets:        n = 28\n",
      "Cell-recordings: n = 142\n",
      "Events:          n = 9775\n",
      "Cells per dataset:\n",
      "    Low:  2\n",
      "    High: 13\n",
      "\n",
      "** Glu:\n",
      "Datasets:        n = 27\n",
      "Cell-recordings: n = 120\n",
      "Events:          n = 8110\n",
      "Cells per dataset:\n",
      "    Low:  1\n",
      "    High: 7\n"
     ]
    }
   ],
   "source": [
    "print( '**** FEATURE EVENTS: ****' )\n",
    "print()\n",
    "uevents.summarize_n( events_panel_features )"
   ]
  },
  {
   "cell_type": "code",
   "execution_count": 14,
   "metadata": {},
   "outputs": [
    {
     "name": "stdout",
     "output_type": "stream",
     "text": [
      "**** RESPONSE EVENTS: ****\n",
      "Mice:            n = 4\n",
      "Slices:          n = 7\n",
      "Datasets:        n = 55\n",
      "Cell-recordings: n = 250\n",
      "Cells:           n = 167\n",
      "Events:          n = 2470\n",
      "Slices per mouse:\n",
      "    Low:  1\n",
      "    High: 2\n",
      "Datasets per mouse:\n",
      "    Low:  8\n",
      "    High: 16\n",
      "Datasets per slice:\n",
      "    Low:  7\n",
      "    High: 8\n",
      "Cells per dataset:\n",
      "    Low:  1\n",
      "    High: 13\n",
      "Events per cell-recording:\n",
      "    Low:  1\n",
      "    High: 52\n",
      "\n",
      "** GABA:\n",
      "Datasets:        n = 28\n",
      "Cell-recordings: n = 135\n",
      "Events:          n = 1358\n",
      "Cells per dataset:\n",
      "    Low:  2\n",
      "    High: 13\n",
      "\n",
      "** Glu:\n",
      "Datasets:        n = 27\n",
      "Cell-recordings: n = 115\n",
      "Events:          n = 1112\n",
      "Cells per dataset:\n",
      "    Low:  1\n",
      "    High: 7\n"
     ]
    }
   ],
   "source": [
    "print( '**** RESPONSE EVENTS: ****' )\n",
    "uevents.summarize_n( events_panel_response )"
   ]
  },
  {
   "cell_type": "markdown",
   "metadata": {},
   "source": [
    "### Compute statistics"
   ]
  },
  {
   "cell_type": "code",
   "execution_count": 15,
   "metadata": {},
   "outputs": [
    {
     "name": "stderr",
     "output_type": "stream",
     "text": [
      "/Users/max/git/poskanzer-uncaging-pub-prep/python/uncaging/events.py:504: RuntimeWarning: Mean of empty slice\n",
      "  val = np.nanmean( df_group_window[k] )\n"
     ]
    }
   ],
   "source": [
    "results_responses = uevents.responders(\n",
    "    events_panel_response,\n",
    "    params['group_key'],\n",
    "    **params['responders'],\n",
    ")\n",
    "results_features = uevents.features(\n",
    "    events_panel_features,\n",
    "    params['group_key'],\n",
    "    **params['features'],\n",
    ")\n",
    "\n",
    "results_rates = uevents.rates(\n",
    "    {\n",
    "        'all': events_analyze,\n",
    "        'prop': events_prop,\n",
    "    },\n",
    "    params['group_key'],\n",
    "    **params['rates']\n",
    ")"
   ]
  },
  {
   "cell_type": "code",
   "execution_count": 16,
   "metadata": {},
   "outputs": [],
   "source": [
    "p_tables = dict()"
   ]
  },
  {
   "cell_type": "markdown",
   "metadata": {},
   "source": [
    "***\n",
    "\n",
    "### Result: Stratify by propagative fraction"
   ]
  },
  {
   "cell_type": "code",
   "execution_count": 17,
   "metadata": {},
   "outputs": [
    {
     "name": "stdout",
     "output_type": "stream",
     "text": [
      "GABA: 0.16666666666666666\n"
     ]
    },
    {
     "name": "stderr",
     "output_type": "stream",
     "text": [
      "100%|██████████| 300/300 [00:08<00:00, 33.45it/s]\n",
      "100%|██████████| 300/300 [00:10<00:00, 28.27it/s]\n",
      "100%|██████████| 300/300 [00:00<00:00, 1225.24it/s]\n"
     ]
    },
    {
     "name": "stdout",
     "output_type": "stream",
     "text": [
      "Glu: 0.1464285714285714\n"
     ]
    },
    {
     "name": "stderr",
     "output_type": "stream",
     "text": [
      "100%|██████████| 300/300 [00:09<00:00, 32.86it/s]\n",
      "100%|██████████| 300/300 [00:07<00:00, 41.83it/s]\n",
      "100%|██████████| 300/300 [00:00<00:00, 1576.72it/s]\n"
     ]
    }
   ],
   "source": [
    "results = analyze_prediction(\n",
    "    results_responses,\n",
    "    results_features,\n",
    "    params['prediction_mark'],\n",
    "    **params['prediction']\n",
    ")\n",
    "\n",
    "p_table_data = []\n",
    "for condition, result in results.items():\n",
    "    p_table_entry = dict()\n",
    "    p_table_entry['condition'] = condition\n",
    "    p_table_entry['pvalue'] = result['p_perm']\n",
    "    p_table_data.append( p_table_entry )\n",
    "p_tables['prop_fraction'] = pd.DataFrame( p_table_data )"
   ]
  },
  {
   "cell_type": "markdown",
   "metadata": {},
   "source": [
    "##### Validation: Bootstrap distributions"
   ]
  },
  {
   "cell_type": "code",
   "execution_count": 18,
   "metadata": {},
   "outputs": [
    {
     "name": "stdout",
     "output_type": "stream",
     "text": [
      "GABA\n"
     ]
    },
    {
     "data": {
      "image/png": "[encoded data removed]",
      "text/plain": [
       "<Figure size 400x300 with 1 Axes>"
      ]
     },
     "metadata": {},
     "output_type": "display_data"
    },
    {
     "name": "stdout",
     "output_type": "stream",
     "text": [
      "Glu\n"
     ]
    },
    {
     "data": {
      "image/png": "[encoded data removed]",
      "text/plain": [
       "<Figure size 400x300 with 1 Axes>"
      ]
     },
     "metadata": {},
     "output_type": "display_data"
    }
   ],
   "source": [
    "if 'prop_fraction_boot' in params['output_names']:\n",
    "\n",
    "    boot_bins = 30\n",
    "\n",
    "    for condition in params['comparison']:\n",
    "\n",
    "        print( condition )\n",
    "        \n",
    "        result = results[condition]\n",
    "        \n",
    "        fig, ax = plt.subplots( figsize = (4, 3) )\n",
    "        \n",
    "        uplot.plot_boot(\n",
    "            ax,\n",
    "            result['fraction_low_boot'],\n",
    "            result['fraction_low'],\n",
    "            color = 'C0',\n",
    "            bins = boot_bins,\n",
    "            label = 'Low baseline prop. fraction'\n",
    "        )\n",
    "        \n",
    "        uplot.plot_boot(\n",
    "            ax,\n",
    "            result['fraction_high_boot'],\n",
    "            result['fraction_high'],\n",
    "            color = 'C1',\n",
    "            bins = boot_bins,\n",
    "            label = 'High baseline prop. fraction'\n",
    "        )\n",
    "        \n",
    "        plt.legend()\n",
    "        plt.title( f'{condition} - Hierarchical bootstrap' )\n",
    "        plt.xlabel( 'Fraction responding post-uncaging' )\n",
    "        \n",
    "        save_figure( params['output_names']['prop_fraction_boot'].format( condition = condition ) )\n",
    "\n",
    "        plt.show()"
   ]
  },
  {
   "cell_type": "markdown",
   "metadata": {},
   "source": [
    "##### Validation: Permutation distributions"
   ]
  },
  {
   "cell_type": "code",
   "execution_count": 19,
   "metadata": {},
   "outputs": [
    {
     "name": "stdout",
     "output_type": "stream",
     "text": [
      "GABA\n"
     ]
    },
    {
     "data": {
      "image/png": "[encoded data removed]",
      "text/plain": [
       "<Figure size 400x300 with 1 Axes>"
      ]
     },
     "metadata": {},
     "output_type": "display_data"
    },
    {
     "name": "stdout",
     "output_type": "stream",
     "text": [
      "Glu\n"
     ]
    },
    {
     "data": {
      "image/png": "[encoded data removed]",
      "text/plain": [
       "<Figure size 400x300 with 1 Axes>"
      ]
     },
     "metadata": {},
     "output_type": "display_data"
    }
   ],
   "source": [
    "if 'prop_fraction_perm' in params['output_names']:\n",
    "\n",
    "    perm_bins = np.arange( 0, 0.41, 0.04 )\n",
    "\n",
    "    for condition in params['comparison']:\n",
    "\n",
    "        print( condition )\n",
    "        \n",
    "        result = results[condition]\n",
    "        \n",
    "        fig, ax = plt.subplots( figsize = (4, 3) )\n",
    "        \n",
    "        uplot.plot_perm(\n",
    "            ax,\n",
    "            np.abs( result['fraction_diff_perm'] ),\n",
    "            np.abs( result['fraction_diff'] ),\n",
    "            color = helper.condition_colors[condition],\n",
    "            bins = perm_bins\n",
    "        )\n",
    "        \n",
    "        plt.legend()\n",
    "        plt.title( f'{condition} - Permutations' )\n",
    "        plt.xlabel( 'Fraction responders, $\\|high - low\\|$' )\n",
    "        \n",
    "        save_figure( params['output_names']['prop_fraction_perm'].format(\n",
    "            condition = condition,\n",
    "        ) )\n",
    "\n",
    "        plt.show()"
   ]
  },
  {
   "cell_type": "markdown",
   "metadata": {},
   "source": [
    "#### Plot"
   ]
  },
  {
   "cell_type": "code",
   "execution_count": 20,
   "metadata": {},
   "outputs": [
    {
     "data": {
      "image/png": "[encoded data removed]",
      "text/plain": [
       "<Figure size 200x300 with 1 Axes>"
      ]
     },
     "metadata": {},
     "output_type": "display_data"
    },
    {
     "name": "stdout",
     "output_type": "stream",
     "text": [
      "p-values:\n",
      "    GABA    : 0.0033222591362126247\n",
      "    Glu     : 0.0033222591362126247\n"
     ]
    }
   ],
   "source": [
    "if 'prop_fraction' in params['output_names']:\n",
    "\n",
    "    fig, ax = plt.subplots( figsize = (2, 3) )\n",
    "\n",
    "    plot_prediction(\n",
    "        ax,\n",
    "        results,\n",
    "        params['comparison'],\n",
    "        **params['response_prediction_plot']\n",
    "    )\n",
    "\n",
    "    save_figure( params['output_names']['prop_fraction'] )\n",
    "\n",
    "    plt.show()\n",
    "\n",
    "    print( 'p-values:' )\n",
    "    for condition, result in results.items():\n",
    "        print( f'    {condition:8s}: {result[\"p_perm\"]}' )"
   ]
  },
  {
   "cell_type": "code",
   "execution_count": 21,
   "metadata": {},
   "outputs": [],
   "source": [
    "# Cache actual results for simulations later\n",
    "results_actual_prop_frac = results.copy()"
   ]
  },
  {
   "cell_type": "markdown",
   "metadata": {},
   "source": [
    "***\n",
    "\n",
    "### Result: Stratify by overall baseline rate"
   ]
  },
  {
   "cell_type": "code",
   "execution_count": 22,
   "metadata": {},
   "outputs": [
    {
     "name": "stdout",
     "output_type": "stream",
     "text": [
      "GABA: 0.23333333333333334\n"
     ]
    },
    {
     "name": "stderr",
     "output_type": "stream",
     "text": [
      "100%|██████████| 300/300 [00:08<00:00, 35.94it/s]\n",
      "100%|██████████| 300/300 [00:09<00:00, 30.02it/s]\n",
      "100%|██████████| 300/300 [00:00<00:00, 1640.50it/s]\n"
     ]
    },
    {
     "name": "stdout",
     "output_type": "stream",
     "text": [
      "Glu: 0.25\n"
     ]
    },
    {
     "name": "stderr",
     "output_type": "stream",
     "text": [
      "100%|██████████| 300/300 [00:06<00:00, 44.98it/s]\n",
      "100%|██████████| 300/300 [00:07<00:00, 38.62it/s]\n",
      "100%|██████████| 300/300 [00:00<00:00, 1531.07it/s]\n"
     ]
    }
   ],
   "source": [
    "results = analyze_prediction(\n",
    "    results_responses,\n",
    "    results_rates,\n",
    "    'rate_all',\n",
    "    **params['prediction']\n",
    ")\n",
    "\n",
    "p_table_data = []\n",
    "for condition, result in results.items():\n",
    "    p_table_entry = dict()\n",
    "    p_table_entry['condition'] = condition\n",
    "    p_table_entry['pvalue'] = result['p_perm']\n",
    "    p_table_data.append( p_table_entry )\n",
    "p_tables['overall_rate'] = pd.DataFrame( p_table_data )"
   ]
  },
  {
   "cell_type": "markdown",
   "metadata": {},
   "source": [
    "#### Validation: Bootstrap distributions"
   ]
  },
  {
   "cell_type": "code",
   "execution_count": 23,
   "metadata": {},
   "outputs": [
    {
     "name": "stdout",
     "output_type": "stream",
     "text": [
      "GABA\n"
     ]
    },
    {
     "data": {
      "image/png": "[encoded data removed]",
      "text/plain": [
       "<Figure size 400x300 with 1 Axes>"
      ]
     },
     "metadata": {},
     "output_type": "display_data"
    },
    {
     "name": "stdout",
     "output_type": "stream",
     "text": [
      "Glu\n"
     ]
    },
    {
     "data": {
      "image/png": "[encoded data removed]",
      "text/plain": [
       "<Figure size 400x300 with 1 Axes>"
      ]
     },
     "metadata": {},
     "output_type": "display_data"
    }
   ],
   "source": [
    "if 'overall_rate_boot' in params['output_names']:\n",
    "\n",
    "    boot_bins = 30\n",
    "\n",
    "    for condition in params['comparison']:\n",
    "\n",
    "        print( condition )\n",
    "        \n",
    "        result = results[condition]\n",
    "        \n",
    "        fig, ax = plt.subplots( figsize = (4, 3) )\n",
    "        \n",
    "        uplot.plot_boot(\n",
    "            ax,\n",
    "            result['fraction_low_boot'],\n",
    "            result['fraction_low'],\n",
    "            color = 'C0',\n",
    "            bins = boot_bins,\n",
    "            label = 'Low baseline overall rate'\n",
    "        )\n",
    "        \n",
    "        uplot.plot_boot(\n",
    "            ax,\n",
    "            result['fraction_high_boot'],\n",
    "            result['fraction_high'],\n",
    "            color = 'C1',\n",
    "            bins = boot_bins,\n",
    "            label = 'High baseline overall rate'\n",
    "        )\n",
    "        \n",
    "        plt.legend()\n",
    "        plt.title( f'{condition} - Hierarchical bootstrap' )\n",
    "        plt.xlabel( 'Fraction responders' )\n",
    "        \n",
    "        save_figure( params['output_names']['overall_rate_boot'].format(\n",
    "            condition = condition,\n",
    "        ) )\n",
    "\n",
    "        plt.show()"
   ]
  },
  {
   "cell_type": "markdown",
   "metadata": {},
   "source": [
    "#### Validation: Permutation distributions"
   ]
  },
  {
   "cell_type": "code",
   "execution_count": 24,
   "metadata": {},
   "outputs": [
    {
     "name": "stdout",
     "output_type": "stream",
     "text": [
      "GABA\n"
     ]
    },
    {
     "data": {
      "image/png": "[encoded data removed]",
      "text/plain": [
       "<Figure size 400x300 with 1 Axes>"
      ]
     },
     "metadata": {},
     "output_type": "display_data"
    },
    {
     "name": "stdout",
     "output_type": "stream",
     "text": [
      "Glu\n"
     ]
    },
    {
     "data": {
      "image/png": "[encoded data removed]",
      "text/plain": [
       "<Figure size 400x300 with 1 Axes>"
      ]
     },
     "metadata": {},
     "output_type": "display_data"
    }
   ],
   "source": [
    "if 'overall_rate_perm' in params['output_names']:\n",
    "\n",
    "    perm_bins = np.arange( 0, 0.41, 0.04 )\n",
    "\n",
    "    for condition in params['comparison']:\n",
    "\n",
    "        print( condition )\n",
    "        \n",
    "        result = results[condition]\n",
    "        \n",
    "        fig, ax = plt.subplots( figsize = (4, 3) )\n",
    "        \n",
    "        uplot.plot_perm(\n",
    "            ax,\n",
    "            np.abs( result['fraction_diff_perm'] ),\n",
    "            np.abs( result['fraction_diff'] ),\n",
    "            color = helper.condition_colors[condition],\n",
    "            bins = perm_bins\n",
    "        )\n",
    "        \n",
    "        plt.legend()\n",
    "        plt.title( f'{condition} - Permutations' )\n",
    "        plt.xlabel( 'Fraction responders, $\\|high - low\\|$' )\n",
    "            \n",
    "        save_figure( params['output_names']['overall_rate_perm'].format(\n",
    "            condition = condition,\n",
    "        ) )\n",
    "        \n",
    "        plt.show()"
   ]
  },
  {
   "cell_type": "markdown",
   "metadata": {},
   "source": [
    "#### Plot"
   ]
  },
  {
   "cell_type": "code",
   "execution_count": 25,
   "metadata": {},
   "outputs": [
    {
     "data": {
      "image/png": "[encoded data removed]",
      "text/plain": [
       "<Figure size 200x300 with 1 Axes>"
      ]
     },
     "metadata": {},
     "output_type": "display_data"
    },
    {
     "name": "stdout",
     "output_type": "stream",
     "text": [
      "p-values:\n",
      "    GABA    : 0.23255813953488372\n",
      "    Glu     : 0.20930232558139536\n"
     ]
    }
   ],
   "source": [
    "if 'overall_rate' in params['output_names']:\n",
    "\n",
    "    fig, ax = plt.subplots( figsize = (2, 3) )\n",
    "\n",
    "    plot_prediction(\n",
    "        ax,\n",
    "        results,\n",
    "        params['comparison'],\n",
    "        **params['response_prediction_plot']\n",
    "    )\n",
    "\n",
    "    save_figure( params['output_names']['overall_rate'] )\n",
    "\n",
    "    plt.show()\n",
    "\n",
    "    print( 'p-values:' )\n",
    "    for condition, result in results.items():\n",
    "        print( f'    {condition:8s}: {result[\"p_perm\"]}' )"
   ]
  },
  {
   "cell_type": "code",
   "execution_count": 26,
   "metadata": {},
   "outputs": [],
   "source": [
    "results_actual_overall = results.copy()"
   ]
  },
  {
   "cell_type": "markdown",
   "metadata": {},
   "source": [
    "***\n",
    "\n",
    "### Save all results from unperturbed data"
   ]
  },
  {
   "cell_type": "code",
   "execution_count": 27,
   "metadata": {},
   "outputs": [],
   "source": [
    "save_dict = {\n",
    "    'events_considered_features': events_considered_features,\n",
    "    'events_considered_response': events_considered_response,\n",
    "    'params': params,\n",
    "    'results': results,\n",
    "}\n",
    "\n",
    "save_data( params['output_names']['save_data'], **save_dict )\n",
    "\n",
    "for k, table in p_tables.items():\n",
    "    save_csv(\n",
    "        params['output_names']['save_data'].format(\n",
    "            condition = k,\n",
    "        ),\n",
    "        table\n",
    "    )"
   ]
  },
  {
   "cell_type": "markdown",
   "metadata": {},
   "source": [
    "***"
   ]
  },
  {
   "cell_type": "markdown",
   "metadata": {},
   "source": [
    "### Validation analysis: Poisson null simulations"
   ]
  },
  {
   "cell_type": "code",
   "execution_count": 28,
   "metadata": {},
   "outputs": [],
   "source": [
    "def _pois_hom(\n",
    "        r: float,\n",
    "        window: uevents.Window\n",
    "    ) -> NDArray:\n",
    "    \"\"\"\n",
    "    TODO\n",
    "    \"\"\"\n",
    "\n",
    "    if r == 0:\n",
    "        return np.array( [] )\n",
    "\n",
    "    ret = []\n",
    "    t_cur = window[0]\n",
    "    while True:\n",
    "        if t_cur >= window[1]:\n",
    "            return np.array( ret )\n",
    "\n",
    "        u = np.random.uniform()\n",
    "        y = (-np.log( 1 - u )) / r\n",
    "        t_cur += y\n",
    "        ret.append( t_cur )\n",
    "\n",
    "    # TODO Not reached\n",
    "    return None"
   ]
  },
  {
   "cell_type": "code",
   "execution_count": 29,
   "metadata": {},
   "outputs": [],
   "source": [
    "def surrogate_data_like(\n",
    "        dfs: 'dict[str, DataFrame]',\n",
    "        group_key: str,\n",
    "        rate_windows: 'Optional[list[uevents.Window]]' = None,\n",
    "        prop_model: str = 'independent',\n",
    "        response_model: Optional[str] = None,\n",
    "        t_key: str = 'start_time_rel',\n",
    "        prop_key: str = 'mark_propTotal_bin',\n",
    "        keep_keys: 'list[str]' = [],\n",
    "    ) -> 'tuple[DataFrame, dict[str, DataFrame]]':\n",
    "    \n",
    "    if rate_windows is None:\n",
    "        rate_windows = [\n",
    "            (-60, 120),\n",
    "        ]\n",
    "\n",
    "    copy_keys = list( set(\n",
    "        keep_keys\n",
    "        + [\n",
    "            params['group_key'],\n",
    "            'is_uncage',\n",
    "            'condition',\n",
    "        ]\n",
    "    ) )\n",
    "\n",
    "    all_keys = list( set(\n",
    "        copy_keys\n",
    "        + [\n",
    "            prop_key,\n",
    "            t_key,\n",
    "        ]\n",
    "    ) )\n",
    "\n",
    "    #\n",
    "    \n",
    "    ret_kinds = dict()\n",
    "\n",
    "    if prop_model == 'independent':\n",
    "        # Simulate each event type as an independent processes\n",
    "        \n",
    "        for kind, df in dfs.items():\n",
    "            \n",
    "            events_sim_data = dict()\n",
    "            for k in all_keys:\n",
    "                events_sim_data[k] = []\n",
    "\n",
    "            # Cache response fraction distributions\n",
    "            response_ratios = [None for _ in rate_windows[1:]]\n",
    "            if response_model == 'choose_all':\n",
    "                group_r_base = dict()\n",
    "                for group, df_group in df.groupby( group_key ):\n",
    "                    group_r_base[group] = uevents.rate_within( df_group['start_time_rel'], rate_windows[0] )\n",
    "\n",
    "                if len( rate_windows ) < 2:\n",
    "                    raise ValueError( 'Cannot compute response ratios with less than 2 windows' )\n",
    "\n",
    "                for i_window, window in enumerate( rate_windows[1:] ):\n",
    "                    response_ratios[i_window] = []\n",
    "                    for group, df_group in df.groupby( group_key ):\n",
    "                        if group_r_base[group] == 0.:\n",
    "                            # Cannot compute ratio if baseline rate is 0\n",
    "                            continue\n",
    "                        cur_rate = uevents.rate_within( df_group['start_time_rel'], window )\n",
    "                        response_ratios[i_window].append( cur_rate / group_r_base[group] )\n",
    "                    response_ratios[i_window] = np.array( response_ratios[i_window] )\n",
    "\n",
    "            # print( response_ratios )\n",
    "\n",
    "            for group, df_group in df.groupby( group_key ):\n",
    "                \n",
    "                group_headers = df_group.iloc[0]\n",
    "\n",
    "                # Cache current group's baseline rate\n",
    "                r_base = uevents.rate_within( df_group['start_time_rel'], rate_windows[0] )\n",
    "\n",
    "                for i_window, window in enumerate( rate_windows ):\n",
    "                    \n",
    "                    if response_model is None:\n",
    "                        r_cur = uevents.rate_within( df_group['start_time_rel'], window )\n",
    "                    elif response_model == 'choose_all':\n",
    "                        if i_window == 0:\n",
    "                            r_cur = r_base\n",
    "                        else:\n",
    "                            response_raito = np.random.choice( response_ratios[i_window - 1] )\n",
    "                            r_cur = r_base * response_raito\n",
    "                    ts_sim = _pois_hom( r_cur, window )\n",
    "\n",
    "                    for t in ts_sim:\n",
    "                        cur_datum = { k: None for k in events_sim_data.keys() }\n",
    "                        cur_datum[t_key] = t\n",
    "                        cur_datum[prop_key] = 1. if kind == 'prop' else 0.\n",
    "                        for k in copy_keys:\n",
    "                            cur_datum[k] = group_headers[k]\n",
    "                        \n",
    "                        # Grow current intermediates\n",
    "                        for k, v in cur_datum.items():\n",
    "                            events_sim_data[k].append( v )\n",
    "            \n",
    "            ret_kinds[kind] = pd.DataFrame( events_sim_data )\n",
    "        \n",
    "        ret_all = pd.concat(\n",
    "            ret_kinds.values(),\n",
    "            ignore_index = True\n",
    "        )\n",
    "    \n",
    "    elif prop_model == 'combined':\n",
    "\n",
    "        df_combined = pd.concat( dfs.values() )\n",
    "\n",
    "        events_sim_data = dict()\n",
    "        for k in all_keys:\n",
    "            events_sim_data[k] = []\n",
    "\n",
    "        for group, df_group in df_combined.groupby( group_key ):\n",
    "            \n",
    "            group_headers = df_group.iloc[0]\n",
    "            \n",
    "            if 'prop' in dfs:\n",
    "                filter_cur = dfs['prop'][group_key] == group\n",
    "                df_group_prop = dfs['prop'][filter_cur]\n",
    "            else:\n",
    "                df_group_prop = None\n",
    "\n",
    "            for window in rate_windows:\n",
    "\n",
    "                r_cur = uevents.rate_within( df_group['start_time_rel'], window )\n",
    "                ts_sim = _pois_hom( r_cur, window )\n",
    "\n",
    "                n_events_cur = np.sum( uevents.is_within( df_group['start_time_rel'], window ) )\n",
    "                n_prop_cur = np.sum( uevents.is_within( df_group_prop['start_time_rel'], window ) )\n",
    "\n",
    "                p_prop_cur = n_prop_cur / n_events_cur\n",
    "\n",
    "                for t in ts_sim:\n",
    "                    cur_datum = { k: None for k in events_sim_data.keys() }\n",
    "                    cur_datum[t_key] = t\n",
    "                    is_prop_cur = np.random.uniform() < p_prop_cur\n",
    "                    cur_datum[prop_key] = 1. if is_prop_cur else 0.\n",
    "                    for k in copy_keys:\n",
    "                        cur_datum[k] = group_headers[k]\n",
    "                    \n",
    "                    # Grow current intermediates\n",
    "                    for k, v in cur_datum.items():\n",
    "                        events_sim_data[k].append( v )\n",
    "        \n",
    "        ret_all = pd.DataFrame( events_sim_data )\n",
    "\n",
    "        filter_ret_prop = ret_all[prop_key] > 0.\n",
    "        ret_kinds = {\n",
    "            'prop': ret_all[filter_ret_prop].copy(),\n",
    "            'static': ret_all[~filter_ret_prop].copy(),\n",
    "        }\n",
    "\n",
    "    return ret_all, ret_kinds"
   ]
  },
  {
   "cell_type": "code",
   "execution_count": 30,
   "metadata": {},
   "outputs": [
    {
     "name": "stderr",
     "output_type": "stream",
     "text": [
      "Loading 20200814_CytoGp35m_S2_RuBiGlu4_10stims-024Cycle00001_Ch1_cell-events.mat...: 100%|██████████| 56/56 [00:02<00:00, 21.44it/s] \n",
      "Loading 20210629_CytoGp34f_S3_NoRuBi6_10stim-036Cycle00001_Ch1_cell-events.mat...: 100%|██████████| 48/48 [00:01<00:00, 39.23it/s]\n",
      "Loading 20200814_CytoGp35m_S2_RuBiGlu4_10stims-024Cycle00001_Ch1_cell-events.mat...: 100%|██████████| 56/56 [00:01<00:00, 31.43it/s] \n"
     ]
    },
    {
     "name": "stdout",
     "output_type": "stream",
     "text": [
      "\n",
      "Experiment Glu\n",
      "    Excluded cells: 177\n",
      "    Included cells: 138\n",
      "\n",
      "\n",
      "Experiment Control-Laser\n",
      "    Excluded cells: 716\n",
      "    Included cells: 99\n",
      "\n",
      "\n",
      "Experiment GABA\n",
      "    Excluded cells: 154\n",
      "    Included cells: 164\n",
      "\n"
     ]
    },
    {
     "name": "stderr",
     "output_type": "stream",
     "text": [
      "  0%|          | 1/300 [00:02<10:26,  2.09s/it]/Users/max/git/poskanzer-uncaging-pub-prep/python/uncaging/events.py:504: RuntimeWarning: Mean of empty slice\n",
      "  val = np.nanmean( df_group_window[k] )\n",
      "  1%|          | 3/300 [00:05<08:51,  1.79s/it]/Users/max/git/poskanzer-uncaging-pub-prep/python/uncaging/events.py:504: RuntimeWarning: Mean of empty slice\n",
      "  val = np.nanmean( df_group_window[k] )\n",
      "  1%|▏         | 4/300 [00:07<08:20,  1.69s/it]/Users/max/git/poskanzer-uncaging-pub-prep/python/uncaging/events.py:504: RuntimeWarning: Mean of empty slice\n",
      "  val = np.nanmean( df_group_window[k] )\n",
      "  2%|▏         | 5/300 [00:08<08:03,  1.64s/it]/Users/max/git/poskanzer-uncaging-pub-prep/python/uncaging/events.py:504: RuntimeWarning: Mean of empty slice\n",
      "  val = np.nanmean( df_group_window[k] )\n",
      "  2%|▏         | 6/300 [00:10<07:53,  1.61s/it]/Users/max/git/poskanzer-uncaging-pub-prep/python/uncaging/events.py:504: RuntimeWarning: Mean of empty slice\n",
      "  val = np.nanmean( df_group_window[k] )\n",
      "  2%|▏         | 7/300 [00:11<07:52,  1.61s/it]/Users/max/git/poskanzer-uncaging-pub-prep/python/uncaging/events.py:504: RuntimeWarning: Mean of empty slice\n",
      "  val = np.nanmean( df_group_window[k] )\n",
      "  3%|▎         | 8/300 [00:13<07:47,  1.60s/it]/Users/max/git/poskanzer-uncaging-pub-prep/python/uncaging/events.py:504: RuntimeWarning: Mean of empty slice\n",
      "  val = np.nanmean( df_group_window[k] )\n",
      "  3%|▎         | 9/300 [00:15<08:10,  1.69s/it]/Users/max/git/poskanzer-uncaging-pub-prep/python/uncaging/events.py:504: RuntimeWarning: Mean of empty slice\n",
      "  val = np.nanmean( df_group_window[k] )\n",
      "  3%|▎         | 10/300 [00:17<08:57,  1.85s/it]/Users/max/git/poskanzer-uncaging-pub-prep/python/uncaging/events.py:504: RuntimeWarning: Mean of empty slice\n",
      "  val = np.nanmean( df_group_window[k] )\n",
      "  4%|▍         | 12/300 [00:21<09:29,  1.98s/it]/Users/max/git/poskanzer-uncaging-pub-prep/python/uncaging/events.py:504: RuntimeWarning: Mean of empty slice\n",
      "  val = np.nanmean( df_group_window[k] )\n",
      "  5%|▍         | 14/300 [00:25<09:16,  1.95s/it]/Users/max/git/poskanzer-uncaging-pub-prep/python/uncaging/events.py:504: RuntimeWarning: Mean of empty slice\n",
      "  val = np.nanmean( df_group_window[k] )\n",
      "  6%|▌         | 17/300 [00:31<09:25,  2.00s/it]/Users/max/git/poskanzer-uncaging-pub-prep/python/uncaging/events.py:504: RuntimeWarning: Mean of empty slice\n",
      "  val = np.nanmean( df_group_window[k] )\n",
      "  7%|▋         | 20/300 [00:37<09:04,  1.94s/it]/Users/max/git/poskanzer-uncaging-pub-prep/python/uncaging/events.py:504: RuntimeWarning: Mean of empty slice\n",
      "  val = np.nanmean( df_group_window[k] )\n",
      "  7%|▋         | 21/300 [00:39<08:47,  1.89s/it]/Users/max/git/poskanzer-uncaging-pub-prep/python/uncaging/events.py:504: RuntimeWarning: Mean of empty slice\n",
      "  val = np.nanmean( df_group_window[k] )\n",
      "  7%|▋         | 22/300 [00:41<08:41,  1.88s/it]/Users/max/git/poskanzer-uncaging-pub-prep/python/uncaging/events.py:504: RuntimeWarning: Mean of empty slice\n",
      "  val = np.nanmean( df_group_window[k] )\n",
      "  8%|▊         | 23/300 [00:42<08:20,  1.81s/it]/Users/max/git/poskanzer-uncaging-pub-prep/python/uncaging/events.py:504: RuntimeWarning: Mean of empty slice\n",
      "  val = np.nanmean( df_group_window[k] )\n",
      "  8%|▊         | 24/300 [00:44<07:58,  1.73s/it]/Users/max/git/poskanzer-uncaging-pub-prep/python/uncaging/events.py:504: RuntimeWarning: Mean of empty slice\n",
      "  val = np.nanmean( df_group_window[k] )\n",
      "  9%|▊         | 26/300 [00:47<07:38,  1.67s/it]/Users/max/git/poskanzer-uncaging-pub-prep/python/uncaging/events.py:504: RuntimeWarning: Mean of empty slice\n",
      "  val = np.nanmean( df_group_window[k] )\n",
      "  9%|▉         | 27/300 [00:49<07:41,  1.69s/it]/Users/max/git/poskanzer-uncaging-pub-prep/python/uncaging/events.py:504: RuntimeWarning: Mean of empty slice\n",
      "  val = np.nanmean( df_group_window[k] )\n",
      "  9%|▉         | 28/300 [00:51<08:03,  1.78s/it]/Users/max/git/poskanzer-uncaging-pub-prep/python/uncaging/events.py:504: RuntimeWarning: Mean of empty slice\n",
      "  val = np.nanmean( df_group_window[k] )\n",
      " 10%|█         | 31/300 [00:56<07:50,  1.75s/it]/Users/max/git/poskanzer-uncaging-pub-prep/python/uncaging/events.py:504: RuntimeWarning: Mean of empty slice\n",
      "  val = np.nanmean( df_group_window[k] )\n",
      " 11%|█         | 33/300 [00:59<07:23,  1.66s/it]/Users/max/git/poskanzer-uncaging-pub-prep/python/uncaging/events.py:504: RuntimeWarning: Mean of empty slice\n",
      "  val = np.nanmean( df_group_window[k] )\n",
      " 11%|█▏        | 34/300 [01:01<07:37,  1.72s/it]/Users/max/git/poskanzer-uncaging-pub-prep/python/uncaging/events.py:504: RuntimeWarning: Mean of empty slice\n",
      "  val = np.nanmean( df_group_window[k] )\n",
      " 12%|█▏        | 35/300 [01:03<08:00,  1.81s/it]/Users/max/git/poskanzer-uncaging-pub-prep/python/uncaging/events.py:504: RuntimeWarning: Mean of empty slice\n",
      "  val = np.nanmean( df_group_window[k] )\n",
      " 12%|█▏        | 36/300 [01:05<07:53,  1.80s/it]/Users/max/git/poskanzer-uncaging-pub-prep/python/uncaging/events.py:504: RuntimeWarning: Mean of empty slice\n",
      "  val = np.nanmean( df_group_window[k] )\n",
      " 12%|█▏        | 37/300 [01:07<07:58,  1.82s/it]/Users/max/git/poskanzer-uncaging-pub-prep/python/uncaging/events.py:504: RuntimeWarning: Mean of empty slice\n",
      "  val = np.nanmean( df_group_window[k] )\n",
      " 13%|█▎        | 39/300 [01:10<07:43,  1.77s/it]/Users/max/git/poskanzer-uncaging-pub-prep/python/uncaging/events.py:504: RuntimeWarning: Mean of empty slice\n",
      "  val = np.nanmean( df_group_window[k] )\n",
      " 14%|█▍        | 42/300 [01:15<07:03,  1.64s/it]/Users/max/git/poskanzer-uncaging-pub-prep/python/uncaging/events.py:504: RuntimeWarning: Mean of empty slice\n",
      "  val = np.nanmean( df_group_window[k] )\n",
      " 14%|█▍        | 43/300 [01:16<07:00,  1.64s/it]/Users/max/git/poskanzer-uncaging-pub-prep/python/uncaging/events.py:504: RuntimeWarning: Mean of empty slice\n",
      "  val = np.nanmean( df_group_window[k] )\n",
      " 15%|█▍        | 44/300 [01:18<06:51,  1.61s/it]/Users/max/git/poskanzer-uncaging-pub-prep/python/uncaging/events.py:504: RuntimeWarning: Mean of empty slice\n",
      "  val = np.nanmean( df_group_window[k] )\n",
      " 15%|█▌        | 46/300 [01:21<07:09,  1.69s/it]/Users/max/git/poskanzer-uncaging-pub-prep/python/uncaging/events.py:504: RuntimeWarning: Mean of empty slice\n",
      "  val = np.nanmean( df_group_window[k] )\n",
      " 16%|█▌        | 47/300 [01:23<07:04,  1.68s/it]/Users/max/git/poskanzer-uncaging-pub-prep/python/uncaging/events.py:504: RuntimeWarning: Mean of empty slice\n",
      "  val = np.nanmean( df_group_window[k] )\n",
      " 17%|█▋        | 50/300 [01:28<06:49,  1.64s/it]/Users/max/git/poskanzer-uncaging-pub-prep/python/uncaging/events.py:504: RuntimeWarning: Mean of empty slice\n",
      "  val = np.nanmean( df_group_window[k] )\n",
      " 17%|█▋        | 51/300 [01:30<06:50,  1.65s/it]/Users/max/git/poskanzer-uncaging-pub-prep/python/uncaging/events.py:504: RuntimeWarning: Mean of empty slice\n",
      "  val = np.nanmean( df_group_window[k] )\n",
      " 18%|█▊        | 53/300 [01:33<06:44,  1.64s/it]/Users/max/git/poskanzer-uncaging-pub-prep/python/uncaging/events.py:504: RuntimeWarning: Mean of empty slice\n",
      "  val = np.nanmean( df_group_window[k] )\n",
      " 18%|█▊        | 55/300 [01:37<07:30,  1.84s/it]/Users/max/git/poskanzer-uncaging-pub-prep/python/uncaging/events.py:504: RuntimeWarning: Mean of empty slice\n",
      "  val = np.nanmean( df_group_window[k] )\n",
      " 19%|█▊        | 56/300 [01:39<08:15,  2.03s/it]/Users/max/git/poskanzer-uncaging-pub-prep/python/uncaging/events.py:504: RuntimeWarning: Mean of empty slice\n",
      "  val = np.nanmean( df_group_window[k] )\n",
      " 19%|█▉        | 57/300 [01:41<07:41,  1.90s/it]/Users/max/git/poskanzer-uncaging-pub-prep/python/uncaging/events.py:504: RuntimeWarning: Mean of empty slice\n",
      "  val = np.nanmean( df_group_window[k] )\n",
      " 20%|██        | 60/300 [01:46<06:48,  1.70s/it]/Users/max/git/poskanzer-uncaging-pub-prep/python/uncaging/events.py:504: RuntimeWarning: Mean of empty slice\n",
      "  val = np.nanmean( df_group_window[k] )\n",
      " 20%|██        | 61/300 [01:48<06:34,  1.65s/it]/Users/max/git/poskanzer-uncaging-pub-prep/python/uncaging/events.py:504: RuntimeWarning: Mean of empty slice\n",
      "  val = np.nanmean( df_group_window[k] )\n",
      " 21%|██        | 62/300 [01:49<06:25,  1.62s/it]/Users/max/git/poskanzer-uncaging-pub-prep/python/uncaging/events.py:504: RuntimeWarning: Mean of empty slice\n",
      "  val = np.nanmean( df_group_window[k] )\n",
      " 21%|██        | 63/300 [01:51<06:26,  1.63s/it]/Users/max/git/poskanzer-uncaging-pub-prep/python/uncaging/events.py:504: RuntimeWarning: Mean of empty slice\n",
      "  val = np.nanmean( df_group_window[k] )\n",
      " 21%|██▏       | 64/300 [01:53<06:43,  1.71s/it]/Users/max/git/poskanzer-uncaging-pub-prep/python/uncaging/events.py:504: RuntimeWarning: Mean of empty slice\n",
      "  val = np.nanmean( df_group_window[k] )\n",
      " 22%|██▏       | 66/300 [01:56<06:35,  1.69s/it]/Users/max/git/poskanzer-uncaging-pub-prep/python/uncaging/events.py:504: RuntimeWarning: Mean of empty slice\n",
      "  val = np.nanmean( df_group_window[k] )\n",
      " 22%|██▏       | 67/300 [01:58<06:24,  1.65s/it]/Users/max/git/poskanzer-uncaging-pub-prep/python/uncaging/events.py:504: RuntimeWarning: Mean of empty slice\n",
      "  val = np.nanmean( df_group_window[k] )\n",
      " 23%|██▎       | 68/300 [01:59<06:17,  1.63s/it]/Users/max/git/poskanzer-uncaging-pub-prep/python/uncaging/events.py:504: RuntimeWarning: Mean of empty slice\n",
      "  val = np.nanmean( df_group_window[k] )\n",
      " 23%|██▎       | 70/300 [02:02<06:10,  1.61s/it]/Users/max/git/poskanzer-uncaging-pub-prep/python/uncaging/events.py:504: RuntimeWarning: Mean of empty slice\n",
      "  val = np.nanmean( df_group_window[k] )\n",
      " 24%|██▍       | 72/300 [02:05<05:58,  1.57s/it]/Users/max/git/poskanzer-uncaging-pub-prep/python/uncaging/events.py:504: RuntimeWarning: Mean of empty slice\n",
      "  val = np.nanmean( df_group_window[k] )\n",
      " 24%|██▍       | 73/300 [02:07<05:52,  1.55s/it]/Users/max/git/poskanzer-uncaging-pub-prep/python/uncaging/events.py:504: RuntimeWarning: Mean of empty slice\n",
      "  val = np.nanmean( df_group_window[k] )\n",
      " 25%|██▌       | 76/300 [02:12<05:50,  1.56s/it]/Users/max/git/poskanzer-uncaging-pub-prep/python/uncaging/events.py:504: RuntimeWarning: Mean of empty slice\n",
      "  val = np.nanmean( df_group_window[k] )\n",
      " 26%|██▋       | 79/300 [02:17<05:58,  1.62s/it]/Users/max/git/poskanzer-uncaging-pub-prep/python/uncaging/events.py:504: RuntimeWarning: Mean of empty slice\n",
      "  val = np.nanmean( df_group_window[k] )\n",
      " 27%|██▋       | 80/300 [02:18<05:57,  1.62s/it]/Users/max/git/poskanzer-uncaging-pub-prep/python/uncaging/events.py:504: RuntimeWarning: Mean of empty slice\n",
      "  val = np.nanmean( df_group_window[k] )\n",
      " 28%|██▊       | 84/300 [02:24<05:41,  1.58s/it]/Users/max/git/poskanzer-uncaging-pub-prep/python/uncaging/events.py:504: RuntimeWarning: Mean of empty slice\n",
      "  val = np.nanmean( df_group_window[k] )\n",
      " 29%|██▊       | 86/300 [02:28<06:15,  1.75s/it]/Users/max/git/poskanzer-uncaging-pub-prep/python/uncaging/events.py:504: RuntimeWarning: Mean of empty slice\n",
      "  val = np.nanmean( df_group_window[k] )\n",
      " 29%|██▉       | 88/300 [02:32<06:15,  1.77s/it]/Users/max/git/poskanzer-uncaging-pub-prep/python/uncaging/events.py:504: RuntimeWarning: Mean of empty slice\n",
      "  val = np.nanmean( df_group_window[k] )\n",
      " 30%|███       | 90/300 [02:36<06:50,  1.95s/it]/Users/max/git/poskanzer-uncaging-pub-prep/python/uncaging/events.py:504: RuntimeWarning: Mean of empty slice\n",
      "  val = np.nanmean( df_group_window[k] )\n",
      " 30%|███       | 91/300 [02:38<06:27,  1.86s/it]/Users/max/git/poskanzer-uncaging-pub-prep/python/uncaging/events.py:504: RuntimeWarning: Mean of empty slice\n",
      "  val = np.nanmean( df_group_window[k] )\n",
      " 31%|███       | 92/300 [02:39<06:12,  1.79s/it]/Users/max/git/poskanzer-uncaging-pub-prep/python/uncaging/events.py:504: RuntimeWarning: Mean of empty slice\n",
      "  val = np.nanmean( df_group_window[k] )\n",
      " 31%|███▏      | 94/300 [02:43<06:04,  1.77s/it]/Users/max/git/poskanzer-uncaging-pub-prep/python/uncaging/events.py:504: RuntimeWarning: Mean of empty slice\n",
      "  val = np.nanmean( df_group_window[k] )\n",
      " 32%|███▏      | 96/300 [02:46<05:47,  1.70s/it]/Users/max/git/poskanzer-uncaging-pub-prep/python/uncaging/events.py:504: RuntimeWarning: Mean of empty slice\n",
      "  val = np.nanmean( df_group_window[k] )\n",
      " 32%|███▏      | 97/300 [02:48<05:43,  1.69s/it]/Users/max/git/poskanzer-uncaging-pub-prep/python/uncaging/events.py:504: RuntimeWarning: Mean of empty slice\n",
      "  val = np.nanmean( df_group_window[k] )\n",
      " 33%|███▎      | 98/300 [02:50<05:44,  1.71s/it]/Users/max/git/poskanzer-uncaging-pub-prep/python/uncaging/events.py:504: RuntimeWarning: Mean of empty slice\n",
      "  val = np.nanmean( df_group_window[k] )\n",
      " 33%|███▎      | 100/300 [02:53<05:25,  1.63s/it]/Users/max/git/poskanzer-uncaging-pub-prep/python/uncaging/events.py:504: RuntimeWarning: Mean of empty slice\n",
      "  val = np.nanmean( df_group_window[k] )\n",
      " 34%|███▎      | 101/300 [02:54<05:20,  1.61s/it]/Users/max/git/poskanzer-uncaging-pub-prep/python/uncaging/events.py:504: RuntimeWarning: Mean of empty slice\n",
      "  val = np.nanmean( df_group_window[k] )\n",
      " 35%|███▌      | 106/300 [03:02<05:03,  1.57s/it]/Users/max/git/poskanzer-uncaging-pub-prep/python/uncaging/events.py:504: RuntimeWarning: Mean of empty slice\n",
      "  val = np.nanmean( df_group_window[k] )\n",
      " 36%|███▌      | 108/300 [03:05<05:01,  1.57s/it]/Users/max/git/poskanzer-uncaging-pub-prep/python/uncaging/events.py:504: RuntimeWarning: Mean of empty slice\n",
      "  val = np.nanmean( df_group_window[k] )\n",
      " 36%|███▋      | 109/300 [03:07<04:58,  1.56s/it]/Users/max/git/poskanzer-uncaging-pub-prep/python/uncaging/events.py:504: RuntimeWarning: Mean of empty slice\n",
      "  val = np.nanmean( df_group_window[k] )\n",
      " 37%|███▋      | 111/300 [03:10<04:56,  1.57s/it]/Users/max/git/poskanzer-uncaging-pub-prep/python/uncaging/events.py:504: RuntimeWarning: Mean of empty slice\n",
      "  val = np.nanmean( df_group_window[k] )\n",
      " 38%|███▊      | 113/300 [03:13<04:57,  1.59s/it]/Users/max/git/poskanzer-uncaging-pub-prep/python/uncaging/events.py:504: RuntimeWarning: Mean of empty slice\n",
      "  val = np.nanmean( df_group_window[k] )\n",
      " 38%|███▊      | 114/300 [03:15<04:55,  1.59s/it]/Users/max/git/poskanzer-uncaging-pub-prep/python/uncaging/events.py:504: RuntimeWarning: Mean of empty slice\n",
      "  val = np.nanmean( df_group_window[k] )\n",
      " 38%|███▊      | 115/300 [03:16<04:54,  1.59s/it]/Users/max/git/poskanzer-uncaging-pub-prep/python/uncaging/events.py:504: RuntimeWarning: Mean of empty slice\n",
      "  val = np.nanmean( df_group_window[k] )\n",
      " 39%|███▉      | 117/300 [03:20<04:53,  1.60s/it]/Users/max/git/poskanzer-uncaging-pub-prep/python/uncaging/events.py:504: RuntimeWarning: Mean of empty slice\n",
      "  val = np.nanmean( df_group_window[k] )\n",
      " 40%|███▉      | 119/300 [03:23<04:45,  1.58s/it]/Users/max/git/poskanzer-uncaging-pub-prep/python/uncaging/events.py:504: RuntimeWarning: Mean of empty slice\n",
      "  val = np.nanmean( df_group_window[k] )\n",
      " 41%|████      | 122/300 [03:27<04:40,  1.58s/it]/Users/max/git/poskanzer-uncaging-pub-prep/python/uncaging/events.py:504: RuntimeWarning: Mean of empty slice\n",
      "  val = np.nanmean( df_group_window[k] )\n",
      " 41%|████▏     | 124/300 [03:31<04:36,  1.57s/it]/Users/max/git/poskanzer-uncaging-pub-prep/python/uncaging/events.py:504: RuntimeWarning: Mean of empty slice\n",
      "  val = np.nanmean( df_group_window[k] )\n",
      " 42%|████▏     | 125/300 [03:32<04:35,  1.57s/it]/Users/max/git/poskanzer-uncaging-pub-prep/python/uncaging/events.py:504: RuntimeWarning: Mean of empty slice\n",
      "  val = np.nanmean( df_group_window[k] )\n",
      " 42%|████▏     | 126/300 [03:34<04:34,  1.58s/it]/Users/max/git/poskanzer-uncaging-pub-prep/python/uncaging/events.py:504: RuntimeWarning: Mean of empty slice\n",
      "  val = np.nanmean( df_group_window[k] )\n",
      " 42%|████▏     | 127/300 [03:36<04:44,  1.64s/it]/Users/max/git/poskanzer-uncaging-pub-prep/python/uncaging/events.py:504: RuntimeWarning: Mean of empty slice\n",
      "  val = np.nanmean( df_group_window[k] )\n",
      " 43%|████▎     | 128/300 [03:37<04:41,  1.64s/it]/Users/max/git/poskanzer-uncaging-pub-prep/python/uncaging/events.py:504: RuntimeWarning: Mean of empty slice\n",
      "  val = np.nanmean( df_group_window[k] )\n",
      " 43%|████▎     | 129/300 [03:39<04:39,  1.63s/it]/Users/max/git/poskanzer-uncaging-pub-prep/python/uncaging/events.py:504: RuntimeWarning: Mean of empty slice\n",
      "  val = np.nanmean( df_group_window[k] )\n",
      " 43%|████▎     | 130/300 [03:40<04:34,  1.62s/it]/Users/max/git/poskanzer-uncaging-pub-prep/python/uncaging/events.py:504: RuntimeWarning: Mean of empty slice\n",
      "  val = np.nanmean( df_group_window[k] )\n",
      " 44%|████▍     | 132/300 [03:44<04:30,  1.61s/it]/Users/max/git/poskanzer-uncaging-pub-prep/python/uncaging/events.py:504: RuntimeWarning: Mean of empty slice\n",
      "  val = np.nanmean( df_group_window[k] )\n",
      " 44%|████▍     | 133/300 [03:45<04:28,  1.61s/it]/Users/max/git/poskanzer-uncaging-pub-prep/python/uncaging/events.py:504: RuntimeWarning: Mean of empty slice\n",
      "  val = np.nanmean( df_group_window[k] )\n",
      " 45%|████▌     | 136/300 [03:50<04:23,  1.61s/it]/Users/max/git/poskanzer-uncaging-pub-prep/python/uncaging/events.py:504: RuntimeWarning: Mean of empty slice\n",
      "  val = np.nanmean( df_group_window[k] )\n",
      " 46%|████▌     | 137/300 [03:52<04:22,  1.61s/it]/Users/max/git/poskanzer-uncaging-pub-prep/python/uncaging/events.py:504: RuntimeWarning: Mean of empty slice\n",
      "  val = np.nanmean( df_group_window[k] )\n",
      " 46%|████▋     | 139/300 [03:56<05:00,  1.87s/it]/Users/max/git/poskanzer-uncaging-pub-prep/python/uncaging/events.py:504: RuntimeWarning: Mean of empty slice\n",
      "  val = np.nanmean( df_group_window[k] )\n",
      " 47%|████▋     | 141/300 [04:00<05:19,  2.01s/it]/Users/max/git/poskanzer-uncaging-pub-prep/python/uncaging/events.py:504: RuntimeWarning: Mean of empty slice\n",
      "  val = np.nanmean( df_group_window[k] )\n",
      " 48%|████▊     | 143/300 [04:04<04:54,  1.87s/it]/Users/max/git/poskanzer-uncaging-pub-prep/python/uncaging/events.py:504: RuntimeWarning: Mean of empty slice\n",
      "  val = np.nanmean( df_group_window[k] )\n",
      " 48%|████▊     | 144/300 [04:05<04:43,  1.82s/it]/Users/max/git/poskanzer-uncaging-pub-prep/python/uncaging/events.py:504: RuntimeWarning: Mean of empty slice\n",
      "  val = np.nanmean( df_group_window[k] )\n",
      " 48%|████▊     | 145/300 [04:07<04:40,  1.81s/it]/Users/max/git/poskanzer-uncaging-pub-prep/python/uncaging/events.py:504: RuntimeWarning: Mean of empty slice\n",
      "  val = np.nanmean( df_group_window[k] )\n",
      " 49%|████▉     | 148/300 [04:12<04:28,  1.77s/it]/Users/max/git/poskanzer-uncaging-pub-prep/python/uncaging/events.py:504: RuntimeWarning: Mean of empty slice\n",
      "  val = np.nanmean( df_group_window[k] )\n",
      " 50%|█████     | 150/300 [04:16<04:23,  1.76s/it]/Users/max/git/poskanzer-uncaging-pub-prep/python/uncaging/events.py:504: RuntimeWarning: Mean of empty slice\n",
      "  val = np.nanmean( df_group_window[k] )\n",
      " 51%|█████     | 152/300 [04:19<04:18,  1.75s/it]/Users/max/git/poskanzer-uncaging-pub-prep/python/uncaging/events.py:504: RuntimeWarning: Mean of empty slice\n",
      "  val = np.nanmean( df_group_window[k] )\n",
      " 51%|█████     | 153/300 [04:22<04:39,  1.90s/it]/Users/max/git/poskanzer-uncaging-pub-prep/python/uncaging/events.py:504: RuntimeWarning: Mean of empty slice\n",
      "  val = np.nanmean( df_group_window[k] )\n",
      " 51%|█████▏    | 154/300 [04:24<04:35,  1.89s/it]/Users/max/git/poskanzer-uncaging-pub-prep/python/uncaging/events.py:504: RuntimeWarning: Mean of empty slice\n",
      "  val = np.nanmean( df_group_window[k] )\n",
      " 52%|█████▏    | 155/300 [04:25<04:29,  1.86s/it]/Users/max/git/poskanzer-uncaging-pub-prep/python/uncaging/events.py:504: RuntimeWarning: Mean of empty slice\n",
      "  val = np.nanmean( df_group_window[k] )\n",
      " 52%|█████▏    | 156/300 [04:27<04:38,  1.93s/it]/Users/max/git/poskanzer-uncaging-pub-prep/python/uncaging/events.py:504: RuntimeWarning: Mean of empty slice\n",
      "  val = np.nanmean( df_group_window[k] )\n",
      " 53%|█████▎    | 158/300 [04:31<04:19,  1.82s/it]/Users/max/git/poskanzer-uncaging-pub-prep/python/uncaging/events.py:504: RuntimeWarning: Mean of empty slice\n",
      "  val = np.nanmean( df_group_window[k] )\n",
      " 53%|█████▎    | 159/300 [04:33<04:14,  1.81s/it]/Users/max/git/poskanzer-uncaging-pub-prep/python/uncaging/events.py:504: RuntimeWarning: Mean of empty slice\n",
      "  val = np.nanmean( df_group_window[k] )\n",
      " 53%|█████▎    | 160/300 [04:34<04:04,  1.75s/it]/Users/max/git/poskanzer-uncaging-pub-prep/python/uncaging/events.py:504: RuntimeWarning: Mean of empty slice\n",
      "  val = np.nanmean( df_group_window[k] )\n",
      " 54%|█████▍    | 162/300 [04:38<04:13,  1.83s/it]/Users/max/git/poskanzer-uncaging-pub-prep/python/uncaging/events.py:504: RuntimeWarning: Mean of empty slice\n",
      "  val = np.nanmean( df_group_window[k] )\n",
      " 54%|█████▍    | 163/300 [04:40<04:08,  1.81s/it]/Users/max/git/poskanzer-uncaging-pub-prep/python/uncaging/events.py:504: RuntimeWarning: Mean of empty slice\n",
      "  val = np.nanmean( df_group_window[k] )\n",
      " 55%|█████▍    | 164/300 [04:42<04:13,  1.86s/it]/Users/max/git/poskanzer-uncaging-pub-prep/python/uncaging/events.py:504: RuntimeWarning: Mean of empty slice\n",
      "  val = np.nanmean( df_group_window[k] )\n",
      " 55%|█████▌    | 165/300 [04:44<04:05,  1.82s/it]/Users/max/git/poskanzer-uncaging-pub-prep/python/uncaging/events.py:504: RuntimeWarning: Mean of empty slice\n",
      "  val = np.nanmean( df_group_window[k] )\n",
      " 55%|█████▌    | 166/300 [04:45<04:04,  1.82s/it]/Users/max/git/poskanzer-uncaging-pub-prep/python/uncaging/events.py:504: RuntimeWarning: Mean of empty slice\n",
      "  val = np.nanmean( df_group_window[k] )\n",
      " 56%|█████▌    | 167/300 [04:47<03:52,  1.75s/it]/Users/max/git/poskanzer-uncaging-pub-prep/python/uncaging/events.py:504: RuntimeWarning: Mean of empty slice\n",
      "  val = np.nanmean( df_group_window[k] )\n",
      " 56%|█████▋    | 169/300 [04:50<03:47,  1.73s/it]/Users/max/git/poskanzer-uncaging-pub-prep/python/uncaging/events.py:504: RuntimeWarning: Mean of empty slice\n",
      "  val = np.nanmean( df_group_window[k] )\n",
      " 57%|█████▋    | 170/300 [04:52<03:44,  1.73s/it]/Users/max/git/poskanzer-uncaging-pub-prep/python/uncaging/events.py:504: RuntimeWarning: Mean of empty slice\n",
      "  val = np.nanmean( df_group_window[k] )\n",
      " 57%|█████▋    | 171/300 [04:54<03:53,  1.81s/it]/Users/max/git/poskanzer-uncaging-pub-prep/python/uncaging/events.py:504: RuntimeWarning: Mean of empty slice\n",
      "  val = np.nanmean( df_group_window[k] )\n",
      " 57%|█████▋    | 172/300 [04:56<03:45,  1.76s/it]/Users/max/git/poskanzer-uncaging-pub-prep/python/uncaging/events.py:504: RuntimeWarning: Mean of empty slice\n",
      "  val = np.nanmean( df_group_window[k] )\n",
      " 58%|█████▊    | 173/300 [04:57<03:40,  1.74s/it]/Users/max/git/poskanzer-uncaging-pub-prep/python/uncaging/events.py:504: RuntimeWarning: Mean of empty slice\n",
      "  val = np.nanmean( df_group_window[k] )\n",
      " 58%|█████▊    | 174/300 [04:59<03:44,  1.78s/it]/Users/max/git/poskanzer-uncaging-pub-prep/python/uncaging/events.py:504: RuntimeWarning: Mean of empty slice\n",
      "  val = np.nanmean( df_group_window[k] )\n",
      " 58%|█████▊    | 175/300 [05:01<03:42,  1.78s/it]/Users/max/git/poskanzer-uncaging-pub-prep/python/uncaging/events.py:504: RuntimeWarning: Mean of empty slice\n",
      "  val = np.nanmean( df_group_window[k] )\n",
      " 59%|█████▉    | 177/300 [05:05<03:59,  1.95s/it]/Users/max/git/poskanzer-uncaging-pub-prep/python/uncaging/events.py:504: RuntimeWarning: Mean of empty slice\n",
      "  val = np.nanmean( df_group_window[k] )\n",
      " 59%|█████▉    | 178/300 [05:07<03:52,  1.91s/it]/Users/max/git/poskanzer-uncaging-pub-prep/python/uncaging/events.py:504: RuntimeWarning: Mean of empty slice\n",
      "  val = np.nanmean( df_group_window[k] )\n",
      " 60%|█████▉    | 179/300 [05:09<03:37,  1.80s/it]/Users/max/git/poskanzer-uncaging-pub-prep/python/uncaging/events.py:504: RuntimeWarning: Mean of empty slice\n",
      "  val = np.nanmean( df_group_window[k] )\n",
      " 61%|██████    | 182/300 [05:14<03:30,  1.79s/it]/Users/max/git/poskanzer-uncaging-pub-prep/python/uncaging/events.py:504: RuntimeWarning: Mean of empty slice\n",
      "  val = np.nanmean( df_group_window[k] )\n",
      " 61%|██████    | 183/300 [05:16<03:27,  1.77s/it]/Users/max/git/poskanzer-uncaging-pub-prep/python/uncaging/events.py:504: RuntimeWarning: Mean of empty slice\n",
      "  val = np.nanmean( df_group_window[k] )\n",
      " 61%|██████▏   | 184/300 [05:17<03:21,  1.74s/it]/Users/max/git/poskanzer-uncaging-pub-prep/python/uncaging/events.py:504: RuntimeWarning: Mean of empty slice\n",
      "  val = np.nanmean( df_group_window[k] )\n",
      " 62%|██████▏   | 187/300 [05:23<03:13,  1.71s/it]/Users/max/git/poskanzer-uncaging-pub-prep/python/uncaging/events.py:504: RuntimeWarning: Mean of empty slice\n",
      "  val = np.nanmean( df_group_window[k] )\n",
      " 63%|██████▎   | 189/300 [05:26<02:59,  1.62s/it]/Users/max/git/poskanzer-uncaging-pub-prep/python/uncaging/events.py:504: RuntimeWarning: Mean of empty slice\n",
      "  val = np.nanmean( df_group_window[k] )\n",
      " 64%|██████▍   | 192/300 [05:30<02:51,  1.59s/it]/Users/max/git/poskanzer-uncaging-pub-prep/python/uncaging/events.py:504: RuntimeWarning: Mean of empty slice\n",
      "  val = np.nanmean( df_group_window[k] )\n",
      " 65%|██████▌   | 195/300 [05:36<03:03,  1.75s/it]/Users/max/git/poskanzer-uncaging-pub-prep/python/uncaging/events.py:504: RuntimeWarning: Mean of empty slice\n",
      "  val = np.nanmean( df_group_window[k] )\n",
      " 65%|██████▌   | 196/300 [05:38<03:09,  1.82s/it]/Users/max/git/poskanzer-uncaging-pub-prep/python/uncaging/events.py:504: RuntimeWarning: Mean of empty slice\n",
      "  val = np.nanmean( df_group_window[k] )\n",
      " 66%|██████▌   | 197/300 [05:39<02:59,  1.75s/it]/Users/max/git/poskanzer-uncaging-pub-prep/python/uncaging/events.py:504: RuntimeWarning: Mean of empty slice\n",
      "  val = np.nanmean( df_group_window[k] )\n",
      " 66%|██████▋   | 199/300 [05:43<02:55,  1.73s/it]/Users/max/git/poskanzer-uncaging-pub-prep/python/uncaging/events.py:504: RuntimeWarning: Mean of empty slice\n",
      "  val = np.nanmean( df_group_window[k] )\n",
      " 67%|██████▋   | 200/300 [05:44<02:50,  1.70s/it]/Users/max/git/poskanzer-uncaging-pub-prep/python/uncaging/events.py:504: RuntimeWarning: Mean of empty slice\n",
      "  val = np.nanmean( df_group_window[k] )\n",
      " 67%|██████▋   | 201/300 [05:46<02:54,  1.76s/it]/Users/max/git/poskanzer-uncaging-pub-prep/python/uncaging/events.py:504: RuntimeWarning: Mean of empty slice\n",
      "  val = np.nanmean( df_group_window[k] )\n",
      " 68%|██████▊   | 204/300 [05:52<02:46,  1.73s/it]/Users/max/git/poskanzer-uncaging-pub-prep/python/uncaging/events.py:504: RuntimeWarning: Mean of empty slice\n",
      "  val = np.nanmean( df_group_window[k] )\n",
      " 68%|██████▊   | 205/300 [05:53<02:46,  1.75s/it]/Users/max/git/poskanzer-uncaging-pub-prep/python/uncaging/events.py:504: RuntimeWarning: Mean of empty slice\n",
      "  val = np.nanmean( df_group_window[k] )\n",
      " 69%|██████▊   | 206/300 [05:55<02:45,  1.76s/it]/Users/max/git/poskanzer-uncaging-pub-prep/python/uncaging/events.py:504: RuntimeWarning: Mean of empty slice\n",
      "  val = np.nanmean( df_group_window[k] )\n",
      " 69%|██████▉   | 207/300 [05:57<02:43,  1.75s/it]/Users/max/git/poskanzer-uncaging-pub-prep/python/uncaging/events.py:504: RuntimeWarning: Mean of empty slice\n",
      "  val = np.nanmean( df_group_window[k] )\n",
      " 69%|██████▉   | 208/300 [05:59<02:41,  1.76s/it]/Users/max/git/poskanzer-uncaging-pub-prep/python/uncaging/events.py:504: RuntimeWarning: Mean of empty slice\n",
      "  val = np.nanmean( df_group_window[k] )\n",
      " 70%|██████▉   | 209/300 [06:00<02:39,  1.75s/it]/Users/max/git/poskanzer-uncaging-pub-prep/python/uncaging/events.py:504: RuntimeWarning: Mean of empty slice\n",
      "  val = np.nanmean( df_group_window[k] )\n",
      " 71%|███████   | 212/300 [06:06<02:43,  1.86s/it]/Users/max/git/poskanzer-uncaging-pub-prep/python/uncaging/events.py:504: RuntimeWarning: Mean of empty slice\n",
      "  val = np.nanmean( df_group_window[k] )\n",
      " 72%|███████▏  | 215/300 [06:11<02:25,  1.71s/it]/Users/max/git/poskanzer-uncaging-pub-prep/python/uncaging/events.py:504: RuntimeWarning: Mean of empty slice\n",
      "  val = np.nanmean( df_group_window[k] )\n",
      " 73%|███████▎  | 220/300 [06:19<02:17,  1.71s/it]/Users/max/git/poskanzer-uncaging-pub-prep/python/uncaging/events.py:504: RuntimeWarning: Mean of empty slice\n",
      "  val = np.nanmean( df_group_window[k] )\n",
      " 74%|███████▎  | 221/300 [06:22<02:34,  1.95s/it]/Users/max/git/poskanzer-uncaging-pub-prep/python/uncaging/events.py:504: RuntimeWarning: Mean of empty slice\n",
      "  val = np.nanmean( df_group_window[k] )\n",
      " 74%|███████▍  | 222/300 [06:23<02:25,  1.86s/it]/Users/max/git/poskanzer-uncaging-pub-prep/python/uncaging/events.py:504: RuntimeWarning: Mean of empty slice\n",
      "  val = np.nanmean( df_group_window[k] )\n",
      " 74%|███████▍  | 223/300 [06:25<02:18,  1.79s/it]/Users/max/git/poskanzer-uncaging-pub-prep/python/uncaging/events.py:504: RuntimeWarning: Mean of empty slice\n",
      "  val = np.nanmean( df_group_window[k] )\n",
      " 75%|███████▌  | 225/300 [06:29<02:11,  1.76s/it]/Users/max/git/poskanzer-uncaging-pub-prep/python/uncaging/events.py:504: RuntimeWarning: Mean of empty slice\n",
      "  val = np.nanmean( df_group_window[k] )\n",
      " 75%|███████▌  | 226/300 [06:30<02:11,  1.78s/it]/Users/max/git/poskanzer-uncaging-pub-prep/python/uncaging/events.py:504: RuntimeWarning: Mean of empty slice\n",
      "  val = np.nanmean( df_group_window[k] )\n",
      " 76%|███████▌  | 227/300 [06:32<02:08,  1.76s/it]/Users/max/git/poskanzer-uncaging-pub-prep/python/uncaging/events.py:504: RuntimeWarning: Mean of empty slice\n",
      "  val = np.nanmean( df_group_window[k] )\n",
      " 77%|███████▋  | 230/300 [06:37<02:01,  1.74s/it]/Users/max/git/poskanzer-uncaging-pub-prep/python/uncaging/events.py:504: RuntimeWarning: Mean of empty slice\n",
      "  val = np.nanmean( df_group_window[k] )\n",
      " 77%|███████▋  | 232/300 [06:41<01:56,  1.71s/it]/Users/max/git/poskanzer-uncaging-pub-prep/python/uncaging/events.py:504: RuntimeWarning: Mean of empty slice\n",
      "  val = np.nanmean( df_group_window[k] )\n",
      " 78%|███████▊  | 233/300 [06:42<01:53,  1.69s/it]/Users/max/git/poskanzer-uncaging-pub-prep/python/uncaging/events.py:504: RuntimeWarning: Mean of empty slice\n",
      "  val = np.nanmean( df_group_window[k] )\n",
      " 78%|███████▊  | 234/300 [06:44<01:51,  1.69s/it]/Users/max/git/poskanzer-uncaging-pub-prep/python/uncaging/events.py:504: RuntimeWarning: Mean of empty slice\n",
      "  val = np.nanmean( df_group_window[k] )\n",
      " 79%|███████▊  | 236/300 [06:47<01:43,  1.61s/it]/Users/max/git/poskanzer-uncaging-pub-prep/python/uncaging/events.py:504: RuntimeWarning: Mean of empty slice\n",
      "  val = np.nanmean( df_group_window[k] )\n",
      " 80%|███████▉  | 239/300 [06:52<01:39,  1.63s/it]/Users/max/git/poskanzer-uncaging-pub-prep/python/uncaging/events.py:504: RuntimeWarning: Mean of empty slice\n",
      "  val = np.nanmean( df_group_window[k] )\n",
      " 80%|████████  | 240/300 [06:54<01:37,  1.63s/it]/Users/max/git/poskanzer-uncaging-pub-prep/python/uncaging/events.py:504: RuntimeWarning: Mean of empty slice\n",
      "  val = np.nanmean( df_group_window[k] )\n",
      " 81%|████████  | 242/300 [06:57<01:33,  1.62s/it]/Users/max/git/poskanzer-uncaging-pub-prep/python/uncaging/events.py:504: RuntimeWarning: Mean of empty slice\n",
      "  val = np.nanmean( df_group_window[k] )\n",
      " 81%|████████  | 243/300 [06:58<01:30,  1.59s/it]/Users/max/git/poskanzer-uncaging-pub-prep/python/uncaging/events.py:504: RuntimeWarning: Mean of empty slice\n",
      "  val = np.nanmean( df_group_window[k] )\n",
      " 81%|████████▏ | 244/300 [07:00<01:30,  1.62s/it]/Users/max/git/poskanzer-uncaging-pub-prep/python/uncaging/events.py:504: RuntimeWarning: Mean of empty slice\n",
      "  val = np.nanmean( df_group_window[k] )\n",
      " 82%|████████▏ | 245/300 [07:02<01:29,  1.63s/it]/Users/max/git/poskanzer-uncaging-pub-prep/python/uncaging/events.py:504: RuntimeWarning: Mean of empty slice\n",
      "  val = np.nanmean( df_group_window[k] )\n",
      " 82%|████████▏ | 246/300 [07:03<01:26,  1.61s/it]/Users/max/git/poskanzer-uncaging-pub-prep/python/uncaging/events.py:504: RuntimeWarning: Mean of empty slice\n",
      "  val = np.nanmean( df_group_window[k] )\n",
      " 83%|████████▎ | 250/300 [07:10<01:30,  1.81s/it]/Users/max/git/poskanzer-uncaging-pub-prep/python/uncaging/events.py:504: RuntimeWarning: Mean of empty slice\n",
      "  val = np.nanmean( df_group_window[k] )\n",
      " 84%|████████▎ | 251/300 [07:12<01:31,  1.87s/it]/Users/max/git/poskanzer-uncaging-pub-prep/python/uncaging/events.py:504: RuntimeWarning: Mean of empty slice\n",
      "  val = np.nanmean( df_group_window[k] )\n",
      " 84%|████████▍ | 252/300 [07:14<01:28,  1.85s/it]/Users/max/git/poskanzer-uncaging-pub-prep/python/uncaging/events.py:504: RuntimeWarning: Mean of empty slice\n",
      "  val = np.nanmean( df_group_window[k] )\n",
      " 85%|████████▌ | 255/300 [07:19<01:16,  1.71s/it]/Users/max/git/poskanzer-uncaging-pub-prep/python/uncaging/events.py:504: RuntimeWarning: Mean of empty slice\n",
      "  val = np.nanmean( df_group_window[k] )\n",
      " 85%|████████▌ | 256/300 [07:21<01:15,  1.71s/it]/Users/max/git/poskanzer-uncaging-pub-prep/python/uncaging/events.py:504: RuntimeWarning: Mean of empty slice\n",
      "  val = np.nanmean( df_group_window[k] )\n",
      " 86%|████████▌ | 257/300 [07:22<01:13,  1.70s/it]/Users/max/git/poskanzer-uncaging-pub-prep/python/uncaging/events.py:504: RuntimeWarning: Mean of empty slice\n",
      "  val = np.nanmean( df_group_window[k] )\n",
      " 86%|████████▌ | 258/300 [07:24<01:09,  1.65s/it]/Users/max/git/poskanzer-uncaging-pub-prep/python/uncaging/events.py:504: RuntimeWarning: Mean of empty slice\n",
      "  val = np.nanmean( df_group_window[k] )\n",
      " 86%|████████▋ | 259/300 [07:26<01:07,  1.65s/it]/Users/max/git/poskanzer-uncaging-pub-prep/python/uncaging/events.py:504: RuntimeWarning: Mean of empty slice\n",
      "  val = np.nanmean( df_group_window[k] )\n",
      " 87%|████████▋ | 260/300 [07:27<01:05,  1.65s/it]/Users/max/git/poskanzer-uncaging-pub-prep/python/uncaging/events.py:504: RuntimeWarning: Mean of empty slice\n",
      "  val = np.nanmean( df_group_window[k] )\n",
      " 87%|████████▋ | 261/300 [07:29<01:03,  1.62s/it]/Users/max/git/poskanzer-uncaging-pub-prep/python/uncaging/events.py:504: RuntimeWarning: Mean of empty slice\n",
      "  val = np.nanmean( df_group_window[k] )\n",
      " 87%|████████▋ | 262/300 [07:30<01:02,  1.64s/it]/Users/max/git/poskanzer-uncaging-pub-prep/python/uncaging/events.py:504: RuntimeWarning: Mean of empty slice\n",
      "  val = np.nanmean( df_group_window[k] )\n",
      " 88%|████████▊ | 263/300 [07:32<01:01,  1.67s/it]/Users/max/git/poskanzer-uncaging-pub-prep/python/uncaging/events.py:504: RuntimeWarning: Mean of empty slice\n",
      "  val = np.nanmean( df_group_window[k] )\n",
      " 89%|████████▊ | 266/300 [07:37<00:53,  1.58s/it]/Users/max/git/poskanzer-uncaging-pub-prep/python/uncaging/events.py:504: RuntimeWarning: Mean of empty slice\n",
      "  val = np.nanmean( df_group_window[k] )\n",
      " 89%|████████▉ | 267/300 [07:38<00:51,  1.56s/it]/Users/max/git/poskanzer-uncaging-pub-prep/python/uncaging/events.py:504: RuntimeWarning: Mean of empty slice\n",
      "  val = np.nanmean( df_group_window[k] )\n",
      " 90%|█████████ | 270/300 [07:43<00:48,  1.63s/it]/Users/max/git/poskanzer-uncaging-pub-prep/python/uncaging/events.py:504: RuntimeWarning: Mean of empty slice\n",
      "  val = np.nanmean( df_group_window[k] )\n",
      " 90%|█████████ | 271/300 [07:45<00:47,  1.63s/it]/Users/max/git/poskanzer-uncaging-pub-prep/python/uncaging/events.py:504: RuntimeWarning: Mean of empty slice\n",
      "  val = np.nanmean( df_group_window[k] )\n",
      " 91%|█████████ | 272/300 [07:46<00:45,  1.61s/it]/Users/max/git/poskanzer-uncaging-pub-prep/python/uncaging/events.py:504: RuntimeWarning: Mean of empty slice\n",
      "  val = np.nanmean( df_group_window[k] )\n",
      " 92%|█████████▏| 275/300 [07:51<00:41,  1.66s/it]/Users/max/git/poskanzer-uncaging-pub-prep/python/uncaging/events.py:504: RuntimeWarning: Mean of empty slice\n",
      "  val = np.nanmean( df_group_window[k] )\n",
      " 92%|█████████▏| 276/300 [07:53<00:39,  1.63s/it]/Users/max/git/poskanzer-uncaging-pub-prep/python/uncaging/events.py:504: RuntimeWarning: Mean of empty slice\n",
      "  val = np.nanmean( df_group_window[k] )\n",
      " 93%|█████████▎| 278/300 [07:56<00:35,  1.63s/it]/Users/max/git/poskanzer-uncaging-pub-prep/python/uncaging/events.py:504: RuntimeWarning: Mean of empty slice\n",
      "  val = np.nanmean( df_group_window[k] )\n",
      " 93%|█████████▎| 279/300 [07:58<00:34,  1.63s/it]/Users/max/git/poskanzer-uncaging-pub-prep/python/uncaging/events.py:504: RuntimeWarning: Mean of empty slice\n",
      "  val = np.nanmean( df_group_window[k] )\n",
      " 94%|█████████▎| 281/300 [08:02<00:32,  1.73s/it]/Users/max/git/poskanzer-uncaging-pub-prep/python/uncaging/events.py:504: RuntimeWarning: Mean of empty slice\n",
      "  val = np.nanmean( df_group_window[k] )\n",
      " 94%|█████████▍| 282/300 [08:03<00:30,  1.70s/it]/Users/max/git/poskanzer-uncaging-pub-prep/python/uncaging/events.py:504: RuntimeWarning: Mean of empty slice\n",
      "  val = np.nanmean( df_group_window[k] )\n",
      " 94%|█████████▍| 283/300 [08:05<00:29,  1.73s/it]/Users/max/git/poskanzer-uncaging-pub-prep/python/uncaging/events.py:504: RuntimeWarning: Mean of empty slice\n",
      "  val = np.nanmean( df_group_window[k] )\n",
      " 95%|█████████▍| 284/300 [08:07<00:27,  1.73s/it]/Users/max/git/poskanzer-uncaging-pub-prep/python/uncaging/events.py:504: RuntimeWarning: Mean of empty slice\n",
      "  val = np.nanmean( df_group_window[k] )\n",
      " 95%|█████████▌| 285/300 [08:08<00:25,  1.71s/it]/Users/max/git/poskanzer-uncaging-pub-prep/python/uncaging/events.py:504: RuntimeWarning: Mean of empty slice\n",
      "  val = np.nanmean( df_group_window[k] )\n",
      " 97%|█████████▋| 290/300 [08:17<00:17,  1.76s/it]/Users/max/git/poskanzer-uncaging-pub-prep/python/uncaging/events.py:504: RuntimeWarning: Mean of empty slice\n",
      "  val = np.nanmean( df_group_window[k] )\n",
      " 97%|█████████▋| 291/300 [08:19<00:15,  1.72s/it]/Users/max/git/poskanzer-uncaging-pub-prep/python/uncaging/events.py:504: RuntimeWarning: Mean of empty slice\n",
      "  val = np.nanmean( df_group_window[k] )\n",
      " 97%|█████████▋| 292/300 [08:20<00:13,  1.67s/it]/Users/max/git/poskanzer-uncaging-pub-prep/python/uncaging/events.py:504: RuntimeWarning: Mean of empty slice\n",
      "  val = np.nanmean( df_group_window[k] )\n",
      " 98%|█████████▊| 295/300 [08:25<00:07,  1.59s/it]/Users/max/git/poskanzer-uncaging-pub-prep/python/uncaging/events.py:504: RuntimeWarning: Mean of empty slice\n",
      "  val = np.nanmean( df_group_window[k] )\n",
      " 99%|█████████▉| 297/300 [08:29<00:04,  1.65s/it]/Users/max/git/poskanzer-uncaging-pub-prep/python/uncaging/events.py:504: RuntimeWarning: Mean of empty slice\n",
      "  val = np.nanmean( df_group_window[k] )\n",
      " 99%|█████████▉| 298/300 [08:30<00:03,  1.62s/it]/Users/max/git/poskanzer-uncaging-pub-prep/python/uncaging/events.py:504: RuntimeWarning: Mean of empty slice\n",
      "  val = np.nanmean( df_group_window[k] )\n",
      "100%|█████████▉| 299/300 [08:32<00:01,  1.61s/it]/Users/max/git/poskanzer-uncaging-pub-prep/python/uncaging/events.py:504: RuntimeWarning: Mean of empty slice\n",
      "  val = np.nanmean( df_group_window[k] )\n",
      "100%|██████████| 300/300 [08:33<00:00,  1.71s/it]\n"
     ]
    }
   ],
   "source": [
    "events_analyze_import = helper.load_analysis_events(\n",
    "    analysis,\n",
    "    extra_decorators = [],\n",
    "    verbose = True\n",
    ")\n",
    "\n",
    "# This annotates the data with total propagation\n",
    "events_analyze_import, _, _ = uevents.split_events_prop(\n",
    "    events_analyze_import,\n",
    "    threshold = params['prop_threshold'],\n",
    ")\n",
    "events_analyze_import, events_prop_import, events_no_prop_import = uevents.split_events_prop(\n",
    "    events_analyze_import,\n",
    "    threshold = params['prop_threshold'],\n",
    ")\n",
    "\n",
    "# Turn off resampling for the simulation phase, it isn't necessary\n",
    "params_validation = params.copy()\n",
    "params_validation['prediction']['n_boot'] = 0\n",
    "params_validation['prediction']['n_perm'] = 0\n",
    "\n",
    "fraction_diff_sim_prop_frac = dict()\n",
    "fraction_diff_sim_prop_frac['GABA'] = []\n",
    "fraction_diff_sim_prop_frac['Glu'] = []\n",
    "\n",
    "fraction_diff_sim_overall = dict()\n",
    "fraction_diff_sim_overall['GABA'] = []\n",
    "fraction_diff_sim_overall['Glu'] = []\n",
    "\n",
    "for i_perm in tqdm( range( params_validation['n_sim_validation'] ) ):\n",
    "\n",
    "    # Generate surrogate data\n",
    "\n",
    "    events_analyze_sim, events_kinds_sim = surrogate_data_like(\n",
    "        {\n",
    "            'prop': events_prop_import,\n",
    "            'static': events_no_prop_import,\n",
    "        },\n",
    "        params_validation['group_key'],\n",
    "        keep_keys = keep_keys,\n",
    "        **params_validation['validation_sim']\n",
    "    )\n",
    "    events_prop_sim = events_kinds_sim['prop']\n",
    "\n",
    "    ## Process surrogate data as above\n",
    "\n",
    "    events_considered_features = events_analyze_sim.copy()\n",
    "    events_considered_response = events_prop_sim.copy()\n",
    "\n",
    "    filter_events_condition_features = events_considered_features['condition'].isin( conditions )\n",
    "    filter_events_neighbor_features = events_considered_features['is_uncage'] == False\n",
    "    filter_events_panel_features = filter_events_condition_features & filter_events_neighbor_features\n",
    "\n",
    "    events_panel_features = events_considered_features[filter_events_panel_features]\n",
    "\n",
    "    filter_events_condition_response = events_considered_response['condition'].isin( conditions )\n",
    "    filter_events_neighbor_response = events_considered_response['is_uncage'] == False\n",
    "    filter_events_panel_response = filter_events_condition_response & filter_events_neighbor_response\n",
    "\n",
    "    events_panel_response = events_considered_response[filter_events_panel_response]\n",
    "\n",
    "    results_responses = uevents.responders(\n",
    "        events_panel_response,\n",
    "        params_validation['group_key'],\n",
    "        **params_validation['responders'],\n",
    "    )\n",
    "    results_features = uevents.features(\n",
    "        events_panel_features,\n",
    "        params_validation['group_key'],\n",
    "        **params_validation['features'],\n",
    "    )\n",
    "\n",
    "    results_rates = uevents.rates(\n",
    "        {\n",
    "            'all': events_analyze,\n",
    "            'prop': events_prop,\n",
    "        },\n",
    "        params_validation['group_key'],\n",
    "        **params_validation['rates']\n",
    "    )\n",
    "\n",
    "    # Stratify by specified key\n",
    "\n",
    "    results_prop_frac = analyze_prediction(\n",
    "        results_responses,\n",
    "        results_features,\n",
    "        params_validation['prediction_mark'],\n",
    "        verbose = False,\n",
    "        **params_validation['prediction']\n",
    "    )\n",
    "\n",
    "    for condition, res in results_prop_frac.items():\n",
    "        fraction_diff_sim_prop_frac[condition].append( res['fraction_diff'] )\n",
    "    \n",
    "    # Stratify by overall rate\n",
    "        \n",
    "    results_overall = analyze_prediction(\n",
    "        results_responses,\n",
    "        results_rates,\n",
    "        'rate_all',\n",
    "        verbose = False,\n",
    "        **params_validation['prediction']\n",
    "    )\n",
    "\n",
    "    for condition, res in results_overall.items():\n",
    "        fraction_diff_sim_overall[condition].append( res['fraction_diff'] )"
   ]
  },
  {
   "cell_type": "markdown",
   "metadata": {},
   "source": [
    "#### Result: Null effect for stratification by propagative fraction"
   ]
  },
  {
   "cell_type": "code",
   "execution_count": 31,
   "metadata": {},
   "outputs": [
    {
     "name": "stdout",
     "output_type": "stream",
     "text": [
      "f = 0.023333333333333334\n"
     ]
    },
    {
     "data": {
      "image/png": "[encoded data removed]",
      "text/plain": [
       "<Figure size 400x250 with 1 Axes>"
      ]
     },
     "metadata": {},
     "output_type": "display_data"
    },
    {
     "name": "stdout",
     "output_type": "stream",
     "text": [
      "f = 0.07333333333333333\n"
     ]
    },
    {
     "data": {
      "image/png": "[encoded data removed]",
      "text/plain": [
       "<Figure size 400x250 with 1 Axes>"
      ]
     },
     "metadata": {},
     "output_type": "display_data"
    }
   ],
   "source": [
    "if 'response_diff_sim_prop_fraction' in params['output_names']:\n",
    "\n",
    "    for condition, perm_vals in fraction_diff_sim_prop_frac.items():\n",
    "\n",
    "        actual_val = results_actual_prop_frac[condition]['fraction_diff']\n",
    "\n",
    "        #\n",
    "\n",
    "        fig, ax = plt.subplots( figsize = (4, 2.5) )\n",
    "\n",
    "        uplot.plot_perm(\n",
    "            ax,\n",
    "            perm_vals,\n",
    "            actual_val,\n",
    "            bins = 50,\n",
    "            null = 0,\n",
    "        )\n",
    "\n",
    "        yl = plt.ylim()\n",
    "        plt.plot(\n",
    "            np.nanmean( perm_vals ) * np.array( [1, 1] ), yl,\n",
    "            'k-',\n",
    "            linewidth = 1,\n",
    "            label = 'Expected bias',\n",
    "        )\n",
    "\n",
    "        f_above_cur = np.sum( perm_vals >= actual_val ) / np.sum( ~np.isnan( perm_vals ) )\n",
    "\n",
    "        print( f'f = {f_above_cur}' )\n",
    "\n",
    "        plt.xlim( -0.2, 0.8 )\n",
    "\n",
    "        plt.title( f'{condition}' )\n",
    "\n",
    "        plt.xlabel( '$\\Delta$ fraction responders, Low $-$ High' )\n",
    "        plt.ylabel( 'Probability density' )\n",
    "        plt.legend()\n",
    "\n",
    "        save_figure( params['output_names']['response_diff_sim_prop_fraction'].format(\n",
    "            condition = condition,\n",
    "        ) )\n",
    "\n",
    "        plt.show()"
   ]
  },
  {
   "cell_type": "markdown",
   "metadata": {},
   "source": [
    "#### Result: Null effect for stratification by overall rate"
   ]
  },
  {
   "cell_type": "code",
   "execution_count": 32,
   "metadata": {},
   "outputs": [
    {
     "name": "stdout",
     "output_type": "stream",
     "text": [
      "f = 0.8733333333333333\n"
     ]
    },
    {
     "data": {
      "image/png": "[encoded data removed]",
      "text/plain": [
       "<Figure size 400x250 with 1 Axes>"
      ]
     },
     "metadata": {},
     "output_type": "display_data"
    },
    {
     "name": "stdout",
     "output_type": "stream",
     "text": [
      "f = 0.8866666666666667\n"
     ]
    },
    {
     "data": {
      "image/png": "[encoded data removed]",
      "text/plain": [
       "<Figure size 400x250 with 1 Axes>"
      ]
     },
     "metadata": {},
     "output_type": "display_data"
    }
   ],
   "source": [
    "if 'response_diff_sim_overall_rate' in params['output_names']:\n",
    "\n",
    "    for condition, perm_vals in fraction_diff_sim_overall.items():\n",
    "\n",
    "        actual_val = results_actual_overall[condition]['fraction_diff']\n",
    "\n",
    "        #\n",
    "\n",
    "        fig, ax = plt.subplots( figsize = (4, 2.5) )\n",
    "\n",
    "        uplot.plot_perm(\n",
    "            ax,\n",
    "            perm_vals,\n",
    "            actual_val,\n",
    "            bins = 50,\n",
    "            null = 0,\n",
    "        )\n",
    "\n",
    "        yl = plt.ylim()\n",
    "        plt.plot(\n",
    "            np.nanmean( perm_vals ) * np.array( [1, 1] ), yl,\n",
    "            'k-',\n",
    "            linewidth = 1,\n",
    "            label = 'Expected bias',\n",
    "        )\n",
    "\n",
    "        f_above_cur = np.sum( perm_vals >= actual_val ) / np.sum( ~np.isnan( perm_vals ) )\n",
    "\n",
    "        print( f'f = {f_above_cur}' )\n",
    "\n",
    "        plt.xlim( -0.4, 0.4 )\n",
    "\n",
    "        plt.title( f'{condition}' )\n",
    "\n",
    "        plt.xlabel( '$\\Delta$ fraction responders, Low $-$ High' )\n",
    "        plt.ylabel( 'Probability density' )\n",
    "        plt.legend()\n",
    "\n",
    "        save_figure( params['output_names']['response_diff_sim_overall_rate'].format(\n",
    "            condition = condition,\n",
    "        ) )\n",
    "\n",
    "        plt.show()"
   ]
  }
 ],
 "metadata": {
  "kernelspec": {
   "display_name": "Python 3",
   "language": "python",
   "name": "python3"
  },
  "language_info": {
   "codemirror_mode": {
    "name": "ipython",
    "version": 3
   },
   "file_extension": ".py",
   "mimetype": "text/x-python",
   "name": "python",
   "nbconvert_exporter": "python",
   "pygments_lexer": "ipython3",
   "version": "3.8.18"
  }
 },
 "nbformat": 4,
 "nbformat_minor": 2
}
