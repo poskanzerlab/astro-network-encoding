{
 "cells": [
  {
   "cell_type": "markdown",
   "metadata": {},
   "source": [
    "# Figure 4D\n",
    "## *in vivo* vs. *ex vivo* propagation\n",
    "\n",
    "For \"Network-level encoding of local neurotransmitters in cortical astrocytes\" (Cahill et al. 2024)"
   ]
  },
  {
   "cell_type": "markdown",
   "metadata": {},
   "source": [
    "---"
   ]
  },
  {
   "cell_type": "markdown",
   "metadata": {},
   "source": [
    "## Setup"
   ]
  },
  {
   "cell_type": "markdown",
   "metadata": {},
   "source": [
    "#### Imports"
   ]
  },
  {
   "cell_type": "code",
   "execution_count": 1,
   "metadata": {},
   "outputs": [],
   "source": [
    "from pathlib import Path\n",
    "\n",
    "import numpy as np\n",
    "import pandas as pd\n",
    "import scipy.stats\n",
    "import matplotlib.pyplot as plt\n",
    "\n",
    "# Internal\n",
    "\n",
    "from uncaging import (\n",
    "    Helper,\n",
    ")\n",
    "\n",
    "import uncaging.utils as uutils\n",
    "import uncaging.events as uevents\n",
    "\n",
    "import aqua.stats as astats"
   ]
  },
  {
   "cell_type": "code",
   "execution_count": 2,
   "metadata": {},
   "outputs": [],
   "source": [
    "params_dir = Path( 'config' ) / 'panels'\n",
    "\n",
    "params = uutils.load_params( params_dir / 'net_astro-4d-common.yaml' )\n",
    "\n",
    "analysis_params = dict()\n",
    "for analysis, path_spec in params['analysis_params_filenames'].items():\n",
    "    path = uutils._render_yaml_path( path_spec )\n",
    "    analysis_params[analysis] = uutils.load_params( path )"
   ]
  },
  {
   "cell_type": "code",
   "execution_count": 3,
   "metadata": {},
   "outputs": [],
   "source": [
    "helper = Helper( config_path = params['helper_configs'],\n",
    "                 hive_root = params['hive_root'],\n",
    "                 output_to = params['output_parent'] )\n",
    "\n",
    "analysis_helpers = { analysis: Helper( config_path = cur_params['helper_configs'],\n",
    "                                       hive_root = cur_params['hive_root'] )\n",
    "                     for analysis, cur_params in analysis_params.items() }\n",
    "\n",
    "# For reproducible results with randomness\n",
    "np.random.seed( params['random_seed'] )\n",
    "\n",
    "# Output saving\n",
    "notebook_stem = params['notebook_stem']\n",
    "analysis_name = '-vs-'.join( params['analyses'] )\n",
    "\n",
    "save_figure = helper.figure_saver( notebook_stem, analysis )\n",
    "save_data = helper.data_saver( notebook_stem, analysis )\n",
    "save_csv = helper.csv_saver( notebook_stem, analysis )"
   ]
  },
  {
   "cell_type": "markdown",
   "metadata": {},
   "source": [
    "---"
   ]
  },
  {
   "cell_type": "markdown",
   "metadata": {},
   "source": [
    "## Load data"
   ]
  },
  {
   "cell_type": "code",
   "execution_count": 4,
   "metadata": {},
   "outputs": [
    {
     "name": "stdout",
     "output_type": "stream",
     "text": [
      "** Loading analysis: invivo\n"
     ]
    },
    {
     "name": "stderr",
     "output_type": "stream",
     "text": [
      "Loading 20190624_MRAcytoNGi(5)_Saline_nl_2x_149um_reg_gcampwLEP_30min_Post_net-events.mat...: 100%|██████████| 30/30 [00:07<00:00,  3.84it/s]                 \n"
     ]
    },
    {
     "name": "stdout",
     "output_type": "stream",
     "text": [
      "\n",
      "** Loading analysis: wt\n"
     ]
    },
    {
     "name": "stderr",
     "output_type": "stream",
     "text": [
      "Loading 20200814_CytoGp35m_S2_RuBiGlu4_10stims-024Cycle00001_Ch1_cell-events.mat...: 100%|██████████| 56/56 [00:02<00:00, 25.38it/s] \n",
      "Loading 20200814_CytoGp35m_S2_RuBiGlu4_10stims-024Cycle00001_Ch1_cell-events.mat...: 100%|██████████| 56/56 [00:02<00:00, 24.47it/s] \n",
      "Loading 20210629_CytoGp34f_S3_NoRuBi6_10stim-036Cycle00001_Ch1_cell-events.mat...: 100%|██████████| 48/48 [00:01<00:00, 30.45it/s]\n"
     ]
    },
    {
     "name": "stdout",
     "output_type": "stream",
     "text": [
      "\n",
      "Experiment Glu\n",
      "    Excluded cells: 177\n",
      "    Included cells: 138\n",
      "\n",
      "\n",
      "Experiment GABA\n",
      "    Excluded cells: 154\n",
      "    Included cells: 164\n",
      "\n",
      "\n",
      "Experiment Control-Laser\n",
      "    Excluded cells: 716\n",
      "    Included cells: 99\n",
      "\n",
      "\n",
      "** Loading analysis: cx43\n"
     ]
    },
    {
     "name": "stderr",
     "output_type": "stream",
     "text": [
      "Loading 20210709_CytoGRFPCx43flp32f_S2_RuBiGlu3_10st-021Cycle00001_Ch1_cell-events.mat...: 100%|██████████| 124/124 [00:03<00:00, 32.34it/s]  \n",
      "Loading 20210709_CytoGRFPCx43flp32f_S2_RuBiGlu3_10st-021Cycle00001_Ch1_cell-events.mat...: 100%|██████████| 124/124 [00:03<00:00, 35.21it/s]  \n",
      "Loading 20210629_CytoGp34f_S3_NoRuBi6_10stim-036Cycle00001_Ch1_cell-events.mat...: 100%|██████████| 48/48 [00:01<00:00, 38.19it/s]\n"
     ]
    },
    {
     "name": "stdout",
     "output_type": "stream",
     "text": [
      "\n",
      "Experiment Cx43-Glu\n",
      "    Excluded cells: 563\n",
      "    Included cells: 65\n",
      "\n",
      "\n",
      "Experiment Cx43-GABA\n",
      "    Excluded cells: 578\n",
      "    Included cells: 83\n",
      "\n",
      "\n",
      "Experiment Control-Laser\n",
      "    Excluded cells: 716\n",
      "    Included cells: 99\n",
      "\n",
      "\n"
     ]
    }
   ],
   "source": [
    "analysis_events = dict()\n",
    "for analysis in params['analyses']:\n",
    "    print( f'** Loading analysis: {analysis}' )\n",
    "    analysis_events[analysis] = analysis_helpers[analysis].load_analysis_events(\n",
    "        analysis,\n",
    "        extra_decorators = [],\n",
    "        verbose = True\n",
    "    )\n",
    "    print()"
   ]
  },
  {
   "cell_type": "code",
   "execution_count": 5,
   "metadata": {},
   "outputs": [],
   "source": [
    "# TODO: This step is only needed in order to compute 'mark_propTotal'\n",
    "for cur_analysis, cur_events in analysis_events.items():\n",
    "    analysis_events[cur_analysis], _, _ = uevents.split_events_prop(\n",
    "        cur_events,\n",
    "        threshold = params['prop']['threshold']\n",
    "    )"
   ]
  },
  {
   "cell_type": "markdown",
   "metadata": {},
   "source": [
    "---"
   ]
  },
  {
   "cell_type": "markdown",
   "metadata": {},
   "source": [
    "## Analysis"
   ]
  },
  {
   "cell_type": "markdown",
   "metadata": {},
   "source": [
    "### Compare fractions of propagative events"
   ]
  },
  {
   "cell_type": "markdown",
   "metadata": {},
   "source": [
    "#### Capture correct subsets of events"
   ]
  },
  {
   "cell_type": "code",
   "execution_count": 6,
   "metadata": {},
   "outputs": [],
   "source": [
    "events_compare = dict()\n",
    "\n",
    "for cur_analysis, cur_events in analysis_events.items():\n",
    "    \n",
    "    cur_params = analysis_params[cur_analysis]\n",
    "\n",
    "    filter_cur = np.array( [ True for _ in range( cur_events.shape[0] ) ] )\n",
    "\n",
    "    if 'subset_window' in cur_params:\n",
    "        filter_cur = filter_cur & uevents.is_within( cur_events['start_time_rel'], cur_params['subset_window'] )\n",
    "\n",
    "    if 'subset_filters' in cur_params:\n",
    "        for filter_key, filter_value in cur_params['subset_filters'].items():\n",
    "            if type( filter_value ) == list:\n",
    "                filter_cur = filter_cur & cur_events[filter_key].isin( filter_value )\n",
    "                continue\n",
    "            if type( filter_value ) == str:\n",
    "                if filter_value.startswith( '$>' ):\n",
    "                    threshold_value = float( filter_value.split( '$>' )[1].strip() )\n",
    "                    filter_cur = filter_cur & (cur_events[filter_key] > threshold_value)\n",
    "                    continue\n",
    "            \n",
    "            # All other filtervalues\n",
    "            filter_cur = filter_cur & (cur_events[filter_key] == filter_value)\n",
    "    \n",
    "    events_compare[cur_analysis] = cur_events[filter_cur]"
   ]
  },
  {
   "cell_type": "markdown",
   "metadata": {},
   "source": [
    "#### Characterize $n$\n",
    "\n",
    "TODO: Use more generalized function"
   ]
  },
  {
   "cell_type": "code",
   "execution_count": 7,
   "metadata": {},
   "outputs": [
    {
     "name": "stdout",
     "output_type": "stream",
     "text": [
      "**** Analysis: \"invivo\"\n",
      "Mice:            n = 5\n",
      "Datasets:        n = 15\n",
      "Events:          n = 17414\n",
      "Datasets per mouse:\n",
      "    Low:  3\n",
      "    High: 3\n",
      "\n",
      "**** Analysis: \"wt\"\n",
      "Mice:            n = 4\n",
      "Slices:          n = 7\n",
      "Datasets:        n = 55\n",
      "Cell-recordings: n = 262\n",
      "Cells:           n = 174\n",
      "Events:          n = 3581\n",
      "Slices per mouse:\n",
      "    Low:  1\n",
      "    High: 2\n",
      "Datasets per mouse:\n",
      "    Low:  8\n",
      "    High: 16\n",
      "Datasets per slice:\n",
      "    Low:  7\n",
      "    High: 8\n",
      "Cells per dataset:\n",
      "    Low:  1\n",
      "    High: 13\n",
      "Events per cell-recording:\n",
      "    Low:  3\n",
      "    High: 65\n",
      "\n",
      "** GABA:\n",
      "Datasets:        n = 28\n",
      "Cell-recordings: n = 142\n",
      "Events:          n = 1987\n",
      "Cells per dataset:\n",
      "    Low:  2\n",
      "    High: 13\n",
      "\n",
      "** Glu:\n",
      "Datasets:        n = 27\n",
      "Cell-recordings: n = 120\n",
      "Events:          n = 1594\n",
      "Cells per dataset:\n",
      "    Low:  1\n",
      "    High: 7\n",
      "\n",
      "**** Analysis: \"cx43\"\n",
      "Mice:            n = 8\n",
      "Slices:          n = 14\n",
      "Datasets:        n = 51\n",
      "Cell-recordings: n = 107\n",
      "Cells:           n = 86\n",
      "Events:          n = 769\n",
      "Slices per mouse:\n",
      "    Low:  1\n",
      "    High: 2\n",
      "Datasets per mouse:\n",
      "    Low:  1\n",
      "    High: 14\n",
      "Datasets per slice:\n",
      "    Low:  1\n",
      "    High: 8\n",
      "Cells per dataset:\n",
      "    Low:  1\n",
      "    High: 7\n",
      "Events per cell-recording:\n",
      "    Low:  2\n",
      "    High: 37\n",
      "\n",
      "** GABA:\n",
      "Datasets:        n = 28\n",
      "Cell-recordings: n = 60\n",
      "Events:          n = 436\n",
      "Cells per dataset:\n",
      "    Low:  1\n",
      "    High: 7\n",
      "\n",
      "** Glu:\n",
      "Datasets:        n = 23\n",
      "Cell-recordings: n = 47\n",
      "Events:          n = 333\n",
      "Cells per dataset:\n",
      "    Low:  1\n",
      "    High: 7\n",
      "\n"
     ]
    }
   ],
   "source": [
    "for k, es in events_compare.items():\n",
    "    print( f'**** Analysis: \"{k}\"')\n",
    "    uevents.summarize_n( es )\n",
    "    print()"
   ]
  },
  {
   "cell_type": "code",
   "execution_count": 8,
   "metadata": {},
   "outputs": [],
   "source": [
    "prop_key = params['prop']['key']\n",
    "prop_threshold = params['prop']['threshold']\n",
    "group_key = params['stats']['prop_fraction']['group_key']\n",
    "n_boot = params['stats']['prop_fraction']['n_boot']\n",
    "\n",
    "analysis_group_stats = dict()\n",
    "analysis_stat = dict()\n",
    "analysis_stat_boot = dict()\n",
    "analysis_stat_se = dict()\n",
    "\n",
    "stat = np.nanmedian\n",
    "\n",
    "for analysis, cur_events in events_compare.items():\n",
    "    cur_results = dict()\n",
    "    cur_results['group'] = []\n",
    "    cur_results['prop_fraction'] = []\n",
    "\n",
    "    for group, df_group in cur_events.groupby( group_key ):\n",
    "        filter_prop = df_group[prop_key] >= prop_threshold\n",
    "        cur_prop_fraction = np.sum( filter_prop ) / df_group.shape[0]\n",
    "\n",
    "        cur_results['group'].append( group )\n",
    "        cur_results['prop_fraction'].append( cur_prop_fraction )\n",
    "\n",
    "    cur_df = pd.DataFrame( cur_results )\n",
    "    analysis_group_stats[analysis] = cur_df\n",
    "\n",
    "    cur_xs = np.array( cur_df['prop_fraction'] )\n",
    "\n",
    "    cur_stat = stat( cur_xs )\n",
    "    cur_stat_boot = astats.boot_stat( cur_xs, stat, n = n_boot )\n",
    "    cur_stat_se = np.std( cur_stat_boot )\n",
    "\n",
    "    analysis_stat[analysis] = cur_stat\n",
    "    analysis_stat_boot[analysis] = cur_stat_boot\n",
    "    analysis_stat_se[analysis] = cur_stat_se\n"
   ]
  },
  {
   "cell_type": "code",
   "execution_count": 9,
   "metadata": {},
   "outputs": [
    {
     "data": {
      "image/png": "[encoded data removed]",
      "text/plain": [
       "<Figure size 200x300 with 1 Axes>"
      ]
     },
     "metadata": {},
     "output_type": "display_data"
    }
   ],
   "source": [
    "plt.figure( figsize = (2, 3) )\n",
    "\n",
    "analysis_colors = params['plotting']['analysis_colors']\n",
    "analysis_names = params['plotting']['analysis_names']\n",
    "plot_params = params['plotting']['prop_fraction']\n",
    "\n",
    "xticks = []\n",
    "xticklabels = []\n",
    "for i, analysis in enumerate( params['analyses'] ):\n",
    "\n",
    "    cur_color = analysis_colors[analysis]\n",
    "    cur_group_stats = analysis_group_stats[analysis]\n",
    "    cur_stat = analysis_stat[analysis]\n",
    "    cur_stat_se = analysis_stat_se[analysis]\n",
    "    cur_stat_low = cur_stat - cur_stat_se\n",
    "    cur_stat_high = cur_stat + cur_stat_se\n",
    "\n",
    "    # Bars\n",
    "    plt.bar( i, cur_stat,\n",
    "            color = cur_color )\n",
    "    plt.bar( i, 1. - cur_stat,\n",
    "            bottom = cur_stat,\n",
    "            color = cur_color,\n",
    "            alpha = plot_params['bar_off_alpha'] )\n",
    "    \n",
    "    # Lines\n",
    "    x_cur = i + plot_params['line_offset']\n",
    "    plt.plot( [x_cur, x_cur], [cur_stat_low, cur_stat_high],\n",
    "              'k-',\n",
    "              linewidth = plot_params['line_width'] )\n",
    "\n",
    "    # Dots\n",
    "    ys_cur = np.array( cur_group_stats['prop_fraction'] )\n",
    "    xs_cur = i + plot_params['dots_offset'] + plot_params['dots_noise'] * np.random.normal( size = ys_cur.shape )\n",
    "    plt.plot( xs_cur, ys_cur,\n",
    "              'k.',\n",
    "              alpha = plot_params['dots_alpha'],\n",
    "              markersize = plot_params['dots_markersize'] )\n",
    "    \n",
    "    xticks.append( i )\n",
    "    xticklabels.append( analysis_names[analysis] )\n",
    "\n",
    "plt.xticks( xticks, xticklabels,\n",
    "            rotation = 45,\n",
    "            horizontalalignment = 'right' )\n",
    "plt.ylabel( 'Fraction of events' )\n",
    "\n",
    "plt.ylim( 0, 1 )\n",
    "\n",
    "save_figure( 'group_prop_fractions' )\n",
    "\n",
    "plt.show()"
   ]
  },
  {
   "cell_type": "code",
   "execution_count": 10,
   "metadata": {},
   "outputs": [
    {
     "name": "stdout",
     "output_type": "stream",
     "text": [
      "in vivo vs. ex vivo (WT):\n",
      "    RanksumsResult(statistic=-0.5725250135716105, pvalue=0.5669663447598846)\n",
      "ex vivo (WT) vs. ex vivo (Cx43):\n",
      "    RanksumsResult(statistic=-4.261791490673905, pvalue=2.0279461506338198e-05)\n"
     ]
    }
   ],
   "source": [
    "analysis_names = params['plotting']['analysis_names']\n",
    "\n",
    "for comparison in params['comparisons']:\n",
    "    \n",
    "    print( f'{analysis_names[comparison[0]]} vs. {analysis_names[comparison[1]]}:' )\n",
    "\n",
    "    xs_0 = np.array( analysis_group_stats[comparison[0]]['prop_fraction'] )\n",
    "    xs_1 = np.array( analysis_group_stats[comparison[1]]['prop_fraction'] )\n",
    "    result = scipy.stats.ranksums( xs_0, xs_1 )\n",
    "\n",
    "    print( f'    {result}' )"
   ]
  }
 ],
 "metadata": {
  "kernelspec": {
   "display_name": "Python 3",
   "language": "python",
   "name": "python3"
  },
  "language_info": {
   "codemirror_mode": {
    "name": "ipython",
    "version": 3
   },
   "file_extension": ".py",
   "mimetype": "text/x-python",
   "name": "python",
   "nbconvert_exporter": "python",
   "pygments_lexer": "ipython3",
   "version": "3.8.18"
  }
 },
 "nbformat": 4,
 "nbformat_minor": 2
}
