{
 "cells": [
  {
   "cell_type": "markdown",
   "metadata": {},
   "source": [
    "# Figs. 4H, 4K, 4L\n",
    "# Ext. Data Figs. 6E, 6F\n",
    "## Responder cells\n",
    "\n",
    "For \"Network-level encoding of local neurotransmitters in cortical astrocytes\" (Cahill et al. 2024)"
   ]
  },
  {
   "cell_type": "markdown",
   "metadata": {},
   "source": [
    "---"
   ]
  },
  {
   "cell_type": "markdown",
   "metadata": {},
   "source": [
    "## Setup"
   ]
  },
  {
   "cell_type": "markdown",
   "metadata": {},
   "source": [
    "#### Imports"
   ]
  },
  {
   "cell_type": "code",
   "execution_count": 1,
   "metadata": {},
   "outputs": [],
   "source": [
    "# Typing\n",
    "\n",
    "from typing import (\n",
    "    Optional,\n",
    "    Any,\n",
    ")\n",
    "from matplotlib.pyplot import (\n",
    "    Axes,\n",
    ")\n",
    "from numpy.typing import(\n",
    "    ArrayLike,\n",
    ")\n",
    "from pandas import (\n",
    "    DataFrame,\n",
    ")\n",
    "\n",
    "# Others\n",
    "\n",
    "from pathlib import Path\n",
    "from itertools import combinations\n",
    "\n",
    "import numpy as np\n",
    "import pandas as pd\n",
    "import scipy.stats\n",
    "import matplotlib.pyplot as plt\n",
    "from matplotlib.patches import (\n",
    "    Rectangle,\n",
    ")\n",
    "import matplotlib_venn as venn\n",
    "\n",
    "from tqdm import tqdm\n",
    "\n",
    "# Internal\n",
    "\n",
    "from uncaging import (\n",
    "    Helper,\n",
    ")\n",
    "\n",
    "import uncaging.utils as uutils\n",
    "import uncaging.events as uevents\n",
    "import uncaging.plot as uplot\n",
    "import uncaging.stats as ustats"
   ]
  },
  {
   "cell_type": "markdown",
   "metadata": {},
   "source": [
    "#### Parameters"
   ]
  },
  {
   "cell_type": "code",
   "execution_count": 2,
   "metadata": {},
   "outputs": [],
   "source": [
    "params_path = Path( 'config' ) / 'panels' / 'net_astro-4h_4k_4l_s6e_s6f.yaml'\n",
    "params = uutils.load_params( params_path )"
   ]
  },
  {
   "cell_type": "markdown",
   "metadata": {},
   "source": [
    "These could be put in the params `.yaml` file if you'd like, but they're the most likely to be modulated so for simplicity let's have them here:"
   ]
  },
  {
   "cell_type": "code",
   "execution_count": 3,
   "metadata": {},
   "outputs": [],
   "source": [
    "# Choices for `variant`:\n",
    "# * 'wt_prop'       - Figs. 4H, 4L\n",
    "# * 'wt_static'     - Fig. S6E\n",
    "# * 'cx43_prop'     - Fig. 4K\n",
    "# * 'cx43_static'   - Fig. S6F\n",
    "\n",
    "variant = 'wt_prop'\n",
    "params.update( params['variants'][variant] )"
   ]
  },
  {
   "cell_type": "markdown",
   "metadata": {},
   "source": [
    "#### Initial setup"
   ]
  },
  {
   "cell_type": "code",
   "execution_count": 4,
   "metadata": {},
   "outputs": [],
   "source": [
    "helper = Helper( config_path = params['helper_configs'],\n",
    "                 hive_root = params['hive_root'],\n",
    "                 output_to = params['output_parent'] )\n",
    "\n",
    "# For reproducible results with randomness\n",
    "np.random.seed( params['random_seed'] )\n",
    "\n",
    "# Output saving\n",
    "notebook_stem = params['notebook_stem']\n",
    "analysis = params['analysis']\n",
    "\n",
    "save_figure = helper.figure_saver( notebook_stem, analysis )\n",
    "save_data = helper.data_saver( notebook_stem, analysis )\n",
    "save_csv = helper.csv_saver( notebook_stem, analysis )"
   ]
  },
  {
   "cell_type": "markdown",
   "metadata": {},
   "source": [
    "---"
   ]
  },
  {
   "cell_type": "markdown",
   "metadata": {},
   "source": [
    "## Load data"
   ]
  },
  {
   "cell_type": "code",
   "execution_count": 5,
   "metadata": {},
   "outputs": [
    {
     "name": "stderr",
     "output_type": "stream",
     "text": [
      "Loading 20200814_CytoGp35m_S2_RuBiGlu4_10stims-024Cycle00001_Ch1_cell-events.mat...: 100%|██████████| 56/56 [00:02<00:00, 22.66it/s] \n",
      "Loading 20210629_CytoGp34f_S3_NoRuBi6_10stim-036Cycle00001_Ch1_cell-events.mat...: 100%|██████████| 48/48 [00:01<00:00, 30.64it/s]\n",
      "Loading 20200814_CytoGp35m_S2_RuBiGlu4_10stims-024Cycle00001_Ch1_cell-events.mat...: 100%|██████████| 56/56 [00:02<00:00, 19.14it/s] \n"
     ]
    },
    {
     "name": "stdout",
     "output_type": "stream",
     "text": [
      "\n",
      "Experiment Glu\n",
      "    Excluded cells: 177\n",
      "    Included cells: 138\n",
      "\n",
      "\n",
      "Experiment Control-Laser\n",
      "    Excluded cells: 716\n",
      "    Included cells: 99\n",
      "\n",
      "\n",
      "Experiment GABA\n",
      "    Excluded cells: 154\n",
      "    Included cells: 164\n",
      "\n"
     ]
    }
   ],
   "source": [
    "events_analyze = helper.load_analysis_events(\n",
    "    analysis,\n",
    "    extra_decorators = [],\n",
    "    verbose = True\n",
    ")"
   ]
  },
  {
   "cell_type": "code",
   "execution_count": 6,
   "metadata": {},
   "outputs": [],
   "source": [
    "events_analyze, events_prop, events_no_prop = uevents.split_events_prop(\n",
    "    events_analyze,\n",
    "    threshold = params['prop_threshold'],\n",
    ")"
   ]
  },
  {
   "cell_type": "markdown",
   "metadata": {},
   "source": [
    "---"
   ]
  },
  {
   "cell_type": "markdown",
   "metadata": {},
   "source": [
    "## Analysis"
   ]
  },
  {
   "cell_type": "markdown",
   "metadata": {},
   "source": [
    "### Setup"
   ]
  },
  {
   "cell_type": "code",
   "execution_count": 7,
   "metadata": {},
   "outputs": [],
   "source": [
    "# These are keys we might need for downstream coregistration\n",
    "params['responders']['keep_keys'] = [\n",
    "    'dataset_id',\n",
    "    'dataset_id_all',\n",
    "    'condition',\n",
    "    'mouse',\n",
    "    'fov',\n",
    "    'fov_coreg',\n",
    "    'slice_all',\n",
    "    'cell_global_all',\n",
    "    'cell_global_coreg',\n",
    "]\n",
    "\n",
    "# Save some duplication in the `responders` params\n",
    "params['responder_fractions'].update( params['responders'] )"
   ]
  },
  {
   "cell_type": "markdown",
   "metadata": {},
   "source": [
    "#### TODO: These have duplication with 4M and S7C"
   ]
  },
  {
   "cell_type": "markdown",
   "metadata": {},
   "source": [
    "#### Statistic functions"
   ]
  },
  {
   "cell_type": "code",
   "execution_count": 8,
   "metadata": {},
   "outputs": [],
   "source": [
    "def stat_ratio_active( df: DataFrame ) -> float:\n",
    "    \"\"\"\n",
    "    TODO\n",
    "    \"\"\"\n",
    "    return np.sum( df['ratio_active'] ) / df.shape[0]\n",
    "\n",
    "def stat_ratio_active_diff_paired(\n",
    "        df1: DataFrame,\n",
    "        df2: DataFrame,\n",
    "        pair_key: str = 'dataset_id'\n",
    "    ) -> float:\n",
    "    \"\"\"\n",
    "    TODO\n",
    "    \"\"\"\n",
    "\n",
    "    groups_1 = df1[pair_key].unique()\n",
    "    groups_2 = df2[pair_key].unique()\n",
    "    groups = list( set( groups_1 ) | set( groups_2 ) )\n",
    "    \n",
    "    x = []\n",
    "    y = []\n",
    "    \n",
    "    for i, group in enumerate( groups ):\n",
    "        df1_group = df1[df1[pair_key] == group]\n",
    "        df2_group = df2[df2[pair_key] == group]\n",
    "        \n",
    "        if df1_group.shape[0] == 0 or df2_group.shape[0] == 0:\n",
    "            continue\n",
    "        \n",
    "        x.append( stat_ratio_active( df1_group ) )\n",
    "        y.append( stat_ratio_active( df2_group ) )\n",
    "    \n",
    "    x = np.array( x )\n",
    "    y = np.array( y )\n",
    "    \n",
    "    return np.mean( y - x )\n",
    "\n",
    "def similarity_jaccard(\n",
    "        x: ArrayLike,\n",
    "        y: ArrayLike\n",
    "    ) -> float:\n",
    "    \"\"\"\n",
    "    TODO\n",
    "    \"\"\"\n",
    "    return np.sum( (x == 1) & (y == 1) ) / np.sum( (x == 1) | (y == 1) )"
   ]
  },
  {
   "cell_type": "markdown",
   "metadata": {},
   "source": [
    "#### Main analysis"
   ]
  },
  {
   "cell_type": "code",
   "execution_count": 9,
   "metadata": {},
   "outputs": [],
   "source": [
    "ResponderFractionsResult = 'tuple[dict, dict]'\n",
    "\n",
    "def responder_fractions(\n",
    "        df: DataFrame,\n",
    "        group_key: str,\n",
    "        groups: list,\n",
    "        unit_group_key: str = 'cell_global',\n",
    "        block_key: str = 'dataset_id',\n",
    "        pair_key: str = 'fov_coreg',\n",
    "        n_boot: int = 200,\n",
    "        n_perm: int = 200,\n",
    "        hierarchy_boot: 'list[str]' = ['dataset_id', 'cell_global'],\n",
    "        verbose: bool = True,\n",
    "        **kwargs\n",
    "    ) -> ResponderFractionsResult:\n",
    "    \n",
    "    ret = dict()\n",
    "    \n",
    "    stat = stat_ratio_active\n",
    "    \n",
    "    # Bootstrapping\n",
    "    \n",
    "    for group in groups:\n",
    "        \n",
    "        cur_row = dict()\n",
    "        \n",
    "        filter_group = df[group_key] == group\n",
    "        events_group = df[filter_group]\n",
    "        \n",
    "        if events_group.shape[0] == 0:\n",
    "            cur_row = None\n",
    "            continue\n",
    "        \n",
    "        responders_group = uevents.responders(\n",
    "            events_group,\n",
    "            unit_group_key,\n",
    "            **kwargs\n",
    "        )\n",
    "        \n",
    "        frac_active = stat( responders_group )\n",
    "        \n",
    "        frac_active_block = []\n",
    "        for block, df_block in responders_group.groupby( block_key ):\n",
    "            frac_active_block.append( stat( df_block ) )\n",
    "        frac_active_block = np.array( frac_active_block )\n",
    "        \n",
    "        frac_active_boot = ustats.bootstrap_stat_hierarchical(\n",
    "            stat,\n",
    "            responders_group,\n",
    "            hierarchy_boot,\n",
    "            n = n_boot,\n",
    "            verbose = verbose\n",
    "        )\n",
    "        \n",
    "        cur_row['responders'] = responders_group\n",
    "        cur_row['frac_active'] = frac_active\n",
    "        cur_row['frac_active_block'] = frac_active_block\n",
    "        cur_row['frac_active_boot'] = frac_active_boot\n",
    "        \n",
    "        ret[group] = cur_row\n",
    "        \n",
    "    # Permutation testing\n",
    "        \n",
    "    ret_perm = dict()\n",
    "    \n",
    "    group_comparisons = list( combinations( groups, 2 ) )\n",
    "    \n",
    "    if pair_key is None:\n",
    "        diff_stat = lambda df1, df2: stat( df2 ) - stat( df1 )\n",
    "    else:\n",
    "        diff_stat = lambda df1, df2: stat_ratio_active_diff_paired(\n",
    "            df1, df2,\n",
    "            pair_key = pair_key\n",
    "        )\n",
    "    \n",
    "    for group_a, group_b in group_comparisons:\n",
    "        \n",
    "        cur_row = dict()\n",
    "        \n",
    "        filter_a = df[group_key] == group_a\n",
    "        events_a = df[filter_a]\n",
    "        filter_b = df[group_key] == group_b\n",
    "        events_b = df[filter_b]\n",
    "        \n",
    "        responders_a = uevents.responders(\n",
    "            events_a,\n",
    "            unit_group_key,\n",
    "            **kwargs\n",
    "        )\n",
    "        responders_b = uevents.responders(\n",
    "            events_b,\n",
    "            unit_group_key,\n",
    "            **kwargs\n",
    "        )\n",
    "        \n",
    "        diff = diff_stat( responders_a, responders_b )\n",
    "        \n",
    "        responders_combined = pd.concat( [responders_a, responders_b] )\n",
    "        \n",
    "        if verbose:\n",
    "            it = tqdm( range( n_perm ) )\n",
    "        else:\n",
    "            it = range( n_perm )\n",
    "        \n",
    "        diff_perm = np.zeros( (n_perm,) )\n",
    "        for i_perm in it:\n",
    "            responders_combined_perm = responders_combined.copy()\n",
    "\n",
    "            if pair_key is None:\n",
    "                responders_combined_perm[group_key] = np.random.permutation( responders_combined_perm[group_key] )\n",
    "            \n",
    "            else:\n",
    "                for block in responders_combined_perm[block_key].unique():\n",
    "\n",
    "                    if np.random.uniform() >= 0.5:\n",
    "                        # Don't flip labels\n",
    "                        continue\n",
    "\n",
    "                    filter_a = responders_combined_perm[group_key] == group_a\n",
    "                    filter_b = responders_combined_perm[group_key] == group_b\n",
    "                    filter_block = responders_combined_perm[block_key] == block\n",
    "                    filter_block_a = filter_a & filter_block\n",
    "                    filter_block_b = filter_b & filter_block\n",
    "\n",
    "                    responders_combined_perm.loc[filter_block_a, group_key] = group_b\n",
    "                    responders_combined_perm.loc[filter_block_b, group_key] = group_a\n",
    "            \n",
    "            filter_a_perm = responders_combined_perm[group_key] == group_a\n",
    "            responders_a_perm = responders_combined_perm[filter_a_perm]\n",
    "            filter_b_perm = responders_combined_perm[group_key] == group_b\n",
    "            responders_b_perm = responders_combined_perm[filter_b_perm]\n",
    "            \n",
    "            diff_perm[i_perm] = diff_stat( responders_a_perm, responders_b_perm )\n",
    "    \n",
    "        p_perm = ustats.perm_p( np.sum( np.abs( diff_perm ) >= np.abs( diff ) ),\n",
    "                                n_perm )\n",
    "            \n",
    "        cur_row['diff'] = diff\n",
    "        cur_row['diff_perm'] = diff_perm\n",
    "        cur_row['p_perm'] = p_perm\n",
    "        \n",
    "        ret_perm[group_a, group_b] = cur_row\n",
    "    \n",
    "    return ret, ret_perm\n",
    "\n",
    "def active_comparison_stats(\n",
    "        results,\n",
    "        n_perm: int = 10000\n",
    "    ):\n",
    "    \"\"\"\n",
    "    TODO\n",
    "    \"\"\"\n",
    "    \n",
    "    ret = dict()\n",
    "    \n",
    "    comparison_keys = [k for k in results.keys()\n",
    "                       if 'ratio_active' in k]\n",
    "    \n",
    "    for comparison in list( combinations( comparison_keys, 2 ) ):\n",
    "        \n",
    "        cur_ret = dict()\n",
    "        \n",
    "        x = results[comparison[0]]\n",
    "        y = results[comparison[1]]\n",
    "        \n",
    "        print( comparison )\n",
    "        \n",
    "        cur_ret['spearman'] = scipy.stats.spearmanr( x, y )\n",
    "        cur_ret['spearman_p'] = cur_ret['spearman'].pvalue\n",
    "        print( f'    Spearman: {scipy.stats.spearmanr( x, y )}' )\n",
    "        \n",
    "        spearman_perm = np.zeros( (n_perm,) )\n",
    "        for i_perm in tqdm( range( n_perm ) ):\n",
    "            x_perm = np.random.permutation( x )\n",
    "            y_perm = np.random.permutation( y )\n",
    "            spearman_perm[i_perm] = scipy.stats.spearmanr( x_perm, y_perm )[0]\n",
    "        cur_ret['spearman_perm'] = spearman_perm\n",
    "        cur_ret['spearman_p_perm'] = ustats.perm_p( np.sum( np.abs( spearman_perm ) >= np.abs( cur_ret['spearman'][0] ) ), n_perm )\n",
    "        print( f'    Spearman p (perm): {cur_ret[\"spearman_p_perm\"]}' )\n",
    "        \n",
    "        plt.figure( figsize = (4, 3) )\n",
    "        plt.hist( spearman_perm, bins = np.arange( -0.55, 0.56, 0.1 ) )\n",
    "        yl = plt.ylim()\n",
    "        plt.plot( [cur_ret['spearman'][0], cur_ret['spearman'][0]], yl, 'k-', linewidth = 2 )\n",
    "        plt.show()\n",
    "        \n",
    "        #\n",
    "        \n",
    "        jaccard = similarity_jaccard( x, y )\n",
    "        cur_ret['jaccard'] = jaccard\n",
    "        \n",
    "        jaccard_perm = np.zeros( (n_perm,) )\n",
    "        for i_perm in tqdm( range( n_perm ) ):\n",
    "            x_perm = np.random.permutation( x )\n",
    "            y_perm = np.random.permutation( y )\n",
    "            jaccard_perm[i_perm] = similarity_jaccard( x_perm, y_perm )\n",
    "        cur_ret['jaccard_perm'] = jaccard_perm\n",
    "        cur_ret['jaccard_p_perm'] = ustats.perm_p( np.sum( jaccard_perm >= jaccard ), n_perm )\n",
    "        print( f'    Jaccard: {jaccard}' )\n",
    "        print( f'    Jaccard p (perm): {cur_ret[\"jaccard_p_perm\"]}' )\n",
    "        \n",
    "        plt.figure( figsize = (4, 3) )\n",
    "        plt.hist( jaccard_perm, bins = 10 )\n",
    "        yl = plt.ylim()\n",
    "        plt.plot( [jaccard, jaccard], yl, 'k-', linewidth = 2 )\n",
    "        plt.show()\n",
    "        \n",
    "        ret[comparison] = cur_ret\n",
    "    \n",
    "    return ret"
   ]
  },
  {
   "cell_type": "markdown",
   "metadata": {},
   "source": [
    "#### Plotting"
   ]
  },
  {
   "cell_type": "code",
   "execution_count": 10,
   "metadata": {},
   "outputs": [],
   "source": [
    "def responder_fraction_plot(\n",
    "        ax: Axes,\n",
    "        results: ResponderFractionsResult,\n",
    "        # TODO This formulation gets rid of the order information!\n",
    "        spec: 'dict[str, Any]',\n",
    "        std_block: float = 0.15,\n",
    "        block_offset: float = 0.01,\n",
    "        quantile: Optional[float] = 0.05\n",
    "    ):\n",
    "    \"\"\"\n",
    "    TODO\n",
    "    \"\"\"\n",
    "    \n",
    "    x_ticks = []\n",
    "    x_tick_labels = []\n",
    "    \n",
    "    for i_group, (group, color) in enumerate( spec.items() ):\n",
    "        \n",
    "        frac_active = results[group]['frac_active']\n",
    "        ax.bar( i_group, frac_active,\n",
    "                color = color )\n",
    "        \n",
    "        x_ticks.append( i_group )\n",
    "        x_tick_labels.append( group )\n",
    "        \n",
    "        y_block = block_offset + results[group]['frac_active_block']\n",
    "        x_block = i_group + std_block * np.random.normal( size = y_block.shape )\n",
    "        ax.plot( x_block, y_block, 'k.',\n",
    "                 markersize = 5,\n",
    "                 alpha = 0.33 )\n",
    "        \n",
    "        if quantile is None:\n",
    "            frac_active_sem = np.std( results[group]['frac_active_boot'] )\n",
    "            frac_active_low = frac_active - frac_active_sem\n",
    "            frac_active_high = frac_active + frac_active_sem\n",
    "        else:\n",
    "            frac_active_low = np.quantile( results[group]['frac_active_boot'], quantile/2. )\n",
    "            frac_active_high = np.quantile( results[group]['frac_active_boot'], 1. - (quantile/2.) )\n",
    "        \n",
    "        ax.plot( [i_group, i_group], [frac_active_low, frac_active_high],\n",
    "                 'k-',\n",
    "                 linewidth = 2 )\n",
    "    \n",
    "    ax.set_ylim( 0, 1.45 )\n",
    "    ax.set_ylabel( 'Fraction of neighbor cells responding' )\n",
    "    ax.set_yticks( np.arange( 0., 1.01, 0.2 ) )\n",
    "    \n",
    "    ax.set_xticks( x_ticks )\n",
    "    ax.set_xticklabels( x_tick_labels )\n",
    "\n",
    "def significance_plot(\n",
    "        ax: Axes,\n",
    "        p_comparison,\n",
    "        group_xs: 'dict[str, float]',\n",
    "        start = 1.,\n",
    "        spacing = 0.1\n",
    "    ):\n",
    "    \"\"\"\n",
    "    TODO\n",
    "    \"\"\"\n",
    "\n",
    "    for i_comparison, (comparison, p) in enumerate( p_comparison.items() ):\n",
    "        group_a = comparison[0]\n",
    "        group_b = comparison[1]\n",
    "        \n",
    "        # i_a = [x[0] for x in spec].index( group_a )\n",
    "        # i_b = [x[0] for x in spec].index( group_b )\n",
    "        \n",
    "        # x_a = spec[i_a][1]\n",
    "        # x_b = spec[i_b][1]\n",
    "        \n",
    "        x_a = group_xs[comparison[0]]\n",
    "        x_b = group_xs[comparison[1]]\n",
    "\n",
    "        y = start + spacing * i_comparison\n",
    "        \n",
    "        ax.plot( [x_a, x_b], [y, y], 'k-', linewidth = 2 )\n",
    "        ax.text( (x_a + x_b)/2, y + spacing * 0.2, uutils.p_text( p ),\n",
    "                 horizontalalignment = 'center',\n",
    "                 verticalalignment = 'baseline' )\n",
    "\n",
    "def active_comparison_plot(\n",
    "        ax: Axes,\n",
    "        results,\n",
    "        colors: 'dict[str, Any]' = {'Glu': 'b', 'GABA': 'm'}\n",
    "    ):\n",
    "    \"\"\"\n",
    "    TODO\n",
    "    \"\"\"\n",
    "    \n",
    "    comparison_keys = [k for k in results.keys()\n",
    "                       if 'ratio_active' in k]\n",
    "    comparisons = [k.split( '_' )[-1]\n",
    "                   for k in comparison_keys]\n",
    "    \n",
    "    data = np.array( results[comparison_keys] ).T\n",
    "    \n",
    "    for i in range( data.shape[0] ):\n",
    "        for j in range( data.shape[1] ):\n",
    "            if data[i, j] > 0:\n",
    "                rect = Rectangle(\n",
    "                    (j, i), 1, 1,\n",
    "                    linewidth = 0,\n",
    "                    facecolor = colors[comparisons[i]],\n",
    "                    alpha = 0.6\n",
    "                )\n",
    "                ax.add_patch( rect )\n",
    "                \n",
    "    ax.set_xlim( 0, data.shape[1] )\n",
    "    ax.set_ylim( 0, data.shape[0] )\n",
    "    \n",
    "    ax.set_yticks( 0.5 + np.arange( len( comparisons ) ) )\n",
    "    ax.set_yticklabels( comparisons )\n",
    "\n",
    "# TODO Somewhat not generalizeable\n",
    "def active_comparison_plot_venn( ax, results,\n",
    "                                 colors = None ):\n",
    "    \n",
    "    if colors is None:\n",
    "        colors = helper.condition_colors\n",
    "    \n",
    "    comparison_keys = [k for k in results.keys()\n",
    "                       if 'ratio_active' in k]\n",
    "    comparisons = [k.split( '_' )[-1]\n",
    "                   for k in comparison_keys]\n",
    "    \n",
    "    data_a = np.array( results[comparison_keys[0]] ).T\n",
    "    data_b = np.array( results[comparison_keys[1]] ).T\n",
    "    \n",
    "    n_total = results.shape[0]\n",
    "    n_a = np.sum( data_a )\n",
    "    n_b = np.sum( data_b )\n",
    "    n_ab = np.sum( (data_a == 1) & (data_b == 1) )\n",
    "    \n",
    "    venn_tuple = ( n_total - (n_a - n_ab) - (n_b - n_ab) - n_ab, # Abc\n",
    "                   0,          # aBc\n",
    "                   n_a - n_ab, # ABc\n",
    "                   0,          # abC\n",
    "                   n_b - n_ab, # AbC\n",
    "                   0,          # aBC\n",
    "                   n_ab,       # ABC\n",
    "                 )\n",
    "    \n",
    "    set_labels = ( 'Baseline-active neighbors',\n",
    "                   f'{comparisons[0]} responders',\n",
    "                   f'{comparisons[1]} responders',\n",
    "                 )\n",
    "    \n",
    "    venn.venn3( venn_tuple,\n",
    "                set_labels = set_labels,\n",
    "                ax = ax )"
   ]
  },
  {
   "cell_type": "markdown",
   "metadata": {},
   "source": [
    "### Run"
   ]
  },
  {
   "cell_type": "code",
   "execution_count": 11,
   "metadata": {},
   "outputs": [],
   "source": [
    "comparison_key = params['comparison_key']\n",
    "comparison_groups = params['comparison']\n",
    "\n",
    "if params['event_type'].lower().startswith( 'prop' ):\n",
    "    events_subset = events_prop.copy()\n",
    "elif params['event_type'].lower().startswith( 'static' ):\n",
    "    events_subset = events_no_prop.copy()\n",
    "elif params['event_type'].lower().startswith( 'all' ):\n",
    "    events_subset = events_analyze.copy()\n",
    "else:\n",
    "    raise ValueError( f'Unrecognized event type: {params[\"event_type\"]}' )\n",
    "\n",
    "filter_events_condition = events_subset[comparison_key].isin( comparison_groups )\n",
    "filter_events_neighbor = events_subset['is_uncage'] == False\n",
    "filter_events_panel = filter_events_condition & filter_events_neighbor\n",
    "\n",
    "events_panel = events_subset.copy()[filter_events_panel]"
   ]
  },
  {
   "cell_type": "markdown",
   "metadata": {},
   "source": [
    "#### Characterize $n$"
   ]
  },
  {
   "cell_type": "code",
   "execution_count": 12,
   "metadata": {},
   "outputs": [
    {
     "name": "stdout",
     "output_type": "stream",
     "text": [
      "Mice:            n = 4\n",
      "Slices:          n = 7\n",
      "Datasets:        n = 55\n",
      "Cell-recordings: n = 250\n",
      "Cells:           n = 167\n",
      "Events:          n = 2470\n",
      "Slices per mouse:\n",
      "    Low:  1\n",
      "    High: 2\n",
      "Datasets per mouse:\n",
      "    Low:  8\n",
      "    High: 16\n",
      "Datasets per slice:\n",
      "    Low:  7\n",
      "    High: 8\n",
      "Cells per dataset:\n",
      "    Low:  1\n",
      "    High: 13\n",
      "Events per cell-recording:\n",
      "    Low:  1\n",
      "    High: 52\n",
      "\n",
      "** GABA:\n",
      "Datasets:        n = 28\n",
      "Cell-recordings: n = 135\n",
      "Events:          n = 1358\n",
      "Cells per dataset:\n",
      "    Low:  2\n",
      "    High: 13\n",
      "\n",
      "** Glu:\n",
      "Datasets:        n = 27\n",
      "Cell-recordings: n = 115\n",
      "Events:          n = 1112\n",
      "Cells per dataset:\n",
      "    Low:  1\n",
      "    High: 7\n"
     ]
    }
   ],
   "source": [
    "uevents.summarize_n( events_panel )"
   ]
  },
  {
   "cell_type": "markdown",
   "metadata": {},
   "source": [
    "#### Responders"
   ]
  },
  {
   "cell_type": "code",
   "execution_count": 13,
   "metadata": {},
   "outputs": [
    {
     "name": "stderr",
     "output_type": "stream",
     "text": [
      "100%|██████████| 10000/10000 [10:08<00:00, 16.44it/s]\n",
      "100%|██████████| 10000/10000 [07:06<00:00, 23.42it/s]\n",
      "100%|██████████| 10000/10000 [00:06<00:00, 1512.19it/s]\n"
     ]
    }
   ],
   "source": [
    "results, results_perm = responder_fractions(\n",
    "    events_panel,\n",
    "    params['comparison_key'], params['comparison'],\n",
    "    **params['responder_fractions']\n",
    ")\n",
    "\n",
    "p_comparison = { comparison: result['p_perm']\n",
    "                 for comparison, result in results_perm.items() }"
   ]
  },
  {
   "cell_type": "markdown",
   "metadata": {},
   "source": [
    "#### Overlap"
   ]
  },
  {
   "cell_type": "code",
   "execution_count": 14,
   "metadata": {},
   "outputs": [],
   "source": [
    "events_considered = events_prop.copy()\n",
    "filter_events_neighbor = events_considered['is_uncage'] == False\n",
    "\n",
    "responders_per_condition = []\n",
    "\n",
    "for condition in params['comparison']:\n",
    "    \n",
    "    filter_events_condition = events_considered['condition'] == condition\n",
    "    filter_events_cur = filter_events_neighbor & filter_events_condition\n",
    "    \n",
    "    events_cur = events_considered[filter_events_cur]\n",
    "    \n",
    "    responders_cur = uevents.responders(\n",
    "        events_cur,\n",
    "        params['overlap_responder_key'],\n",
    "        **params['responders']\n",
    "    )\n",
    "    responders_per_condition.append( responders_cur[[\n",
    "        'mouse',\n",
    "        'slice_all',\n",
    "        'dataset_id_all',\n",
    "        'cell_global_coreg',\n",
    "        'ratio_active',\n",
    "    ]] )\n",
    "\n",
    "responders_suffixes = [ f'_{x}'\n",
    "                        for x in params['comparison'] ]\n",
    "responders_overall = pd.merge(\n",
    "    responders_per_condition[0], responders_per_condition[1],\n",
    "    on = 'cell_global_coreg',\n",
    "    how = 'inner',\n",
    "    suffixes = responders_suffixes,\n",
    ") "
   ]
  },
  {
   "cell_type": "markdown",
   "metadata": {},
   "source": [
    "#### Save results"
   ]
  },
  {
   "cell_type": "code",
   "execution_count": 15,
   "metadata": {},
   "outputs": [],
   "source": [
    "save_dict = {\n",
    "    'events_panel': events_panel,\n",
    "    'params': params,\n",
    "    'results': results,\n",
    "    'p_comparison': p_comparison,\n",
    "}\n",
    "\n",
    "save_data( 'response-fraction-prop', **save_dict )"
   ]
  },
  {
   "cell_type": "markdown",
   "metadata": {},
   "source": [
    "#### Validation: Bootstrap distributions"
   ]
  },
  {
   "cell_type": "code",
   "execution_count": 16,
   "metadata": {},
   "outputs": [
    {
     "data": {
      "image/png": "[encoded data removed]",
      "text/plain": [
       "<Figure size 400x300 with 1 Axes>"
      ]
     },
     "metadata": {},
     "output_type": "display_data"
    }
   ],
   "source": [
    "# TODO Dynamically determine bin bounds\n",
    "bins = np.arange( 0., 0.8, 0.01 )\n",
    "\n",
    "fig, ax = plt.subplots( figsize = (4, 3) )\n",
    "\n",
    "for condition in params['comparison']:\n",
    "    \n",
    "    color = helper.condition_colors[condition]\n",
    "    result = results[condition]\n",
    "    \n",
    "    uplot.plot_boot(\n",
    "        ax,\n",
    "        result['frac_active_boot'],\n",
    "        result['frac_active'],\n",
    "        color = color,\n",
    "        bins = bins,\n",
    "        label = condition\n",
    "    )\n",
    "\n",
    "plt.legend()\n",
    "plt.title( f'{params[\"event_type_label\"]} events - Hierarchical bootstrap' )\n",
    "plt.xlabel( 'Fraction of neighbor cells responding' )\n",
    "    \n",
    "plt.show()"
   ]
  },
  {
   "cell_type": "markdown",
   "metadata": {},
   "source": [
    "#### Validation: Permutation distributions"
   ]
  },
  {
   "cell_type": "code",
   "execution_count": 17,
   "metadata": {},
   "outputs": [
    {
     "data": {
      "image/png": "[encoded data removed]",
      "text/plain": [
       "<Figure size 400x300 with 1 Axes>"
      ]
     },
     "metadata": {},
     "output_type": "display_data"
    }
   ],
   "source": [
    "# TODO Dynamically determine bin bounds\n",
    "bins = np.arange( 0, 0.35, 0.02 )\n",
    "\n",
    "for comparison, result in results_perm.items():\n",
    "    \n",
    "    fig, ax = plt.subplots( figsize = (4, 3) )\n",
    "    \n",
    "    uplot.plot_perm(\n",
    "        ax,\n",
    "        np.abs( result['diff_perm'] ),\n",
    "        np.abs( result['diff'] ),\n",
    "        color = 'k',\n",
    "        bins = bins\n",
    "    )\n",
    "    \n",
    "    plt.legend()\n",
    "    plt.title( f'{params[\"event_type_label\"]} events - Permutations' )\n",
    "    plt.xlabel( 'Fraction of neighbor cells responding, $\\|GABA - Glu\\|$' )\n",
    "    \n",
    "    plt.show()"
   ]
  },
  {
   "cell_type": "markdown",
   "metadata": {},
   "source": [
    "#### Result: Responder fractions"
   ]
  },
  {
   "cell_type": "code",
   "execution_count": 18,
   "metadata": {},
   "outputs": [
    {
     "data": {
      "image/png": "[encoded data removed]",
      "text/plain": [
       "<Figure size 300x300 with 1 Axes>"
      ]
     },
     "metadata": {},
     "output_type": "display_data"
    },
    {
     "name": "stdout",
     "output_type": "stream",
     "text": [
      "GABA\n",
      "=======\n",
      "Analyzed cells:                   99\n",
      "Without baseline events:          0\n",
      "Fraction without baseline events: 0.0\n",
      "\n",
      "Glu\n",
      "=======\n",
      "Analyzed cells:                   78\n",
      "Without baseline events:          0\n",
      "Fraction without baseline events: 0.0\n",
      "\n",
      "GABA vs. Glu:\n",
      "    {('GABA', 'Glu'): 0.0491950804919508}\n"
     ]
    }
   ],
   "source": [
    "if 'responder_fraction_plot' in params['output_names'].keys():\n",
    "    \n",
    "    fig, ax = plt.subplots( figsize = ( 3, 3) )\n",
    "\n",
    "    plot_spec = { g: helper.condition_colors[g]\n",
    "                for g in params['comparison'] }\n",
    "    responder_fraction_plot(\n",
    "        ax,\n",
    "        results,\n",
    "        plot_spec,\n",
    "        **params['responder_fraction_plot']\n",
    "    )\n",
    "\n",
    "    group_xs = { g: i\n",
    "                for i, g in enumerate( params['comparison'] ) }\n",
    "    significance_plot(\n",
    "        ax,\n",
    "        p_comparison,\n",
    "        group_xs,\n",
    "        **params['significance_plot']\n",
    "    )\n",
    "\n",
    "    ax.set_title( f'{params[\"event_type_label\"]} cell responses' )\n",
    "\n",
    "    save_figure( params['output_names']['responder_fraction_plot'] )\n",
    "\n",
    "    plt.show()\n",
    "\n",
    "    for condition, results_condition in results.items():\n",
    "        print( condition )\n",
    "        print( '=======' )\n",
    "        print( f\"Analyzed cells:                   {results_condition['responders'].shape[0]}\" )\n",
    "        print( f\"Without baseline events:          {np.sum( results_condition['responders']['rate_pre'] == 0 )}\" )\n",
    "        print( f\"Fraction without baseline events: {1 - np.sum( results_condition['responders']['rate_pre'] > 0 ) / results_condition['responders'].shape[0]}\" )\n",
    "        print()\n",
    "\n",
    "    print( f\"{comparison[0]} vs. {comparison[1]}:\" )\n",
    "    print( f'    {p_comparison}' )\n",
    "\n",
    "    "
   ]
  },
  {
   "cell_type": "markdown",
   "metadata": {},
   "source": [
    "#### Result: Response overlap"
   ]
  },
  {
   "cell_type": "code",
   "execution_count": 19,
   "metadata": {},
   "outputs": [
    {
     "data": {
      "image/png": "[encoded data removed]",
      "text/plain": [
       "<Figure size 600x300 with 1 Axes>"
      ]
     },
     "metadata": {},
     "output_type": "display_data"
    }
   ],
   "source": [
    "if 'active_comparison_plot_venn' in params['output_names'].keys():\n",
    "    \n",
    "    fig, ax = plt.subplots( figsize = (6, 3) )\n",
    "\n",
    "    active_comparison_plot_venn( ax, responders_overall )\n",
    "\n",
    "    save_figure( params['output_names']['active_comparison_plot_venn'] )\n",
    "    \n",
    "    plt.show()"
   ]
  }
 ],
 "metadata": {
  "kernelspec": {
   "display_name": "Python 3",
   "language": "python",
   "name": "python3"
  },
  "language_info": {
   "codemirror_mode": {
    "name": "ipython",
    "version": 3
   },
   "file_extension": ".py",
   "mimetype": "text/x-python",
   "name": "python",
   "nbconvert_exporter": "python",
   "pygments_lexer": "ipython3",
   "version": "3.8.18"
  }
 },
 "nbformat": 4,
 "nbformat_minor": 2
}
