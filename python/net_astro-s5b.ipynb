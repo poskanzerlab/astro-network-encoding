{
 "cells": [
  {
   "cell_type": "markdown",
   "metadata": {},
   "source": [
    "# Figure S5B\n",
    "## Event rasters\n",
    "\n",
    "For \"Network-level encoding of local neurotransmitters in cortical astrocytes\" (Cahill et al. 2024)"
   ]
  },
  {
   "cell_type": "markdown",
   "metadata": {},
   "source": [
    "---"
   ]
  },
  {
   "cell_type": "markdown",
   "metadata": {},
   "source": [
    "## Setup"
   ]
  },
  {
   "cell_type": "markdown",
   "metadata": {},
   "source": [
    "#### Imports"
   ]
  },
  {
   "cell_type": "code",
   "execution_count": 52,
   "metadata": {},
   "outputs": [],
   "source": [
    "# Typing\n",
    "\n",
    "from typing import (\n",
    "    Optional,\n",
    ")\n",
    "from pandas import (\n",
    "    DataFrame,\n",
    ")\n",
    "\n",
    "# Others\n",
    "\n",
    "import os\n",
    "from pathlib import Path\n",
    "\n",
    "import numpy as np\n",
    "import pandas as pd\n",
    "import matplotlib.pyplot as plt\n",
    "\n",
    "# Internal\n",
    "\n",
    "from uncaging import (\n",
    "    Helper,\n",
    ")\n",
    "\n",
    "import uncaging.utils as uutils\n",
    "import uncaging.events as uevents"
   ]
  },
  {
   "cell_type": "markdown",
   "metadata": {},
   "source": [
    "#### Parameters"
   ]
  },
  {
   "cell_type": "code",
   "execution_count": 53,
   "metadata": {},
   "outputs": [],
   "source": [
    "params_path = Path( 'config' ) / 'panels' / 'net_astro-s5b.yaml'\n",
    "params = uutils.load_params( params_path )\n",
    "\n",
    "# Choices for `variant`:\n",
    "# * 'wt_prop'   - Fig. S5B, left\n",
    "# * 'wt_static' - Fig. S5B, right\n",
    "variant = 'wt_prop'\n",
    "\n",
    "params.update( params['variants'][variant] )"
   ]
  },
  {
   "cell_type": "markdown",
   "metadata": {},
   "source": [
    "#### Initial setup"
   ]
  },
  {
   "cell_type": "code",
   "execution_count": 54,
   "metadata": {},
   "outputs": [],
   "source": [
    "helper = Helper(\n",
    "    config_path = params['helper_configs'],\n",
    "    hive_root = params['hive_root'],\n",
    "    output_to = params['output_parent'],\n",
    ")\n",
    "\n",
    "# For reproducible results with randomness\n",
    "np.random.seed( params['random_seed'] )\n",
    "\n",
    "# Output saving\n",
    "notebook_stem = params['notebook_stem']\n",
    "\n",
    "save_figure = helper.figure_saver( notebook_stem, variant )\n",
    "save_data = helper.data_saver( notebook_stem, variant )\n",
    "save_csv = helper.csv_saver( notebook_stem, variant )"
   ]
  },
  {
   "cell_type": "markdown",
   "metadata": {},
   "source": [
    "---"
   ]
  },
  {
   "cell_type": "markdown",
   "metadata": {},
   "source": [
    "## Load data"
   ]
  },
  {
   "cell_type": "code",
   "execution_count": 55,
   "metadata": {},
   "outputs": [
    {
     "name": "stderr",
     "output_type": "stream",
     "text": [
      "Loading 20200814_CytoGp35m_S2_RuBiGlu4_10stims-024Cycle00001_Ch1_cell-events.mat...: 100%|██████████| 56/56 [00:02<00:00, 23.00it/s] \n",
      "Loading 20200814_CytoGp35m_S2_RuBiGlu4_10stims-024Cycle00001_Ch1_cell-events.mat...: 100%|██████████| 56/56 [00:02<00:00, 23.12it/s] \n",
      "Loading 20210629_CytoGp34f_S3_NoRuBi6_10stim-036Cycle00001_Ch1_cell-events.mat...: 100%|██████████| 48/48 [00:01<00:00, 32.52it/s]\n"
     ]
    },
    {
     "name": "stdout",
     "output_type": "stream",
     "text": [
      "\n",
      "Experiment GABA\n",
      "    Excluded cells: 154\n",
      "    Included cells: 164\n",
      "\n",
      "\n",
      "Experiment Glu\n",
      "    Excluded cells: 177\n",
      "    Included cells: 138\n",
      "\n",
      "\n",
      "Experiment Control-Laser\n",
      "    Excluded cells: 716\n",
      "    Included cells: 99\n",
      "\n"
     ]
    }
   ],
   "source": [
    "events_analyze = helper.load_analysis_events(\n",
    "    params['analysis'],\n",
    "    extra_decorators = [],\n",
    "    verbose = True\n",
    ")"
   ]
  },
  {
   "cell_type": "code",
   "execution_count": 56,
   "metadata": {},
   "outputs": [],
   "source": [
    "events_analyze, events_prop, events_no_prop = uevents.split_events_prop(\n",
    "    events_analyze,\n",
    "    threshold = params['prop_threshold'],\n",
    ")"
   ]
  },
  {
   "cell_type": "markdown",
   "metadata": {},
   "source": [
    "---"
   ]
  },
  {
   "cell_type": "markdown",
   "metadata": {},
   "source": [
    "## Analysis"
   ]
  },
  {
   "cell_type": "code",
   "execution_count": 57,
   "metadata": {},
   "outputs": [],
   "source": [
    "comparison_key = params['comparison_key']\n",
    "comparison_groups = params['comparison']\n",
    "\n",
    "if params['event_type'].lower().startswith( 'prop' ):\n",
    "    events_subset = events_prop.copy()\n",
    "elif params['event_type'].lower().startswith( 'static' ):\n",
    "    events_subset = events_no_prop.copy()\n",
    "elif params['event_type'].lower().startswith( 'all' ):\n",
    "    events_subset = events_analyze.copy()\n",
    "else:\n",
    "    raise ValueError( f'Unrecognized event type: {params[\"event_type\"]}' )\n",
    "\n",
    "filter_events_condition = events_subset[comparison_key].isin( comparison_groups )\n",
    "filter_events_neighbor = events_subset['is_uncage'] == False\n",
    "filter_events_panel = filter_events_condition & filter_events_neighbor\n",
    "\n",
    "events_panel = events_subset.copy()[filter_events_panel]\n",
    "\n",
    "# TODO In the paper figures, sorting was done by post-uncaging static event rate\n",
    "filter_events_condition_sort = events_no_prop[comparison_key].isin( comparison_groups )\n",
    "filter_events_neighbor_sort = events_no_prop['is_uncage'] == False\n",
    "filter_events_panel_sort = filter_events_condition_sort & filter_events_neighbor_sort\n",
    "events_sort = events_no_prop.copy()[filter_events_panel_sort]"
   ]
  },
  {
   "cell_type": "markdown",
   "metadata": {},
   "source": [
    "#### Characterize $n$"
   ]
  },
  {
   "cell_type": "code",
   "execution_count": 58,
   "metadata": {},
   "outputs": [
    {
     "name": "stdout",
     "output_type": "stream",
     "text": [
      "Mice:            n = 7\n",
      "Slices:          n = 16\n",
      "Datasets:        n = 87\n",
      "Cell-recordings: n = 333\n",
      "Cells:           n = 250\n",
      "Events:          n = 3043\n",
      "Slices per mouse:\n",
      "    Low:  1\n",
      "    High: 3\n",
      "Datasets per mouse:\n",
      "    Low:  8\n",
      "    High: 16\n",
      "Datasets per slice:\n",
      "    Low:  2\n",
      "    High: 8\n",
      "Cells per dataset:\n",
      "    Low:  1\n",
      "    High: 13\n",
      "Events per cell-recording:\n",
      "    Low:  1\n",
      "    High: 52\n",
      "\n",
      "** GABA:\n",
      "Datasets:        n = 28\n",
      "Cell-recordings: n = 135\n",
      "Events:          n = 1358\n",
      "Cells per dataset:\n",
      "    Low:  2\n",
      "    High: 13\n",
      "\n",
      "** Glu:\n",
      "Datasets:        n = 27\n",
      "Cell-recordings: n = 115\n",
      "Events:          n = 1112\n",
      "Cells per dataset:\n",
      "    Low:  1\n",
      "    High: 7\n"
     ]
    }
   ],
   "source": [
    "uevents.summarize_n( events_panel )"
   ]
  },
  {
   "cell_type": "markdown",
   "metadata": {},
   "source": [
    "#### Result: Event raster"
   ]
  },
  {
   "cell_type": "markdown",
   "metadata": {},
   "source": [
    "#### TODO\n",
    "Functionalize these"
   ]
  },
  {
   "cell_type": "code",
   "execution_count": 59,
   "metadata": {},
   "outputs": [
    {
     "data": {
      "image/png": "[encoded data removed]",
      "text/plain": [
       "<Figure size 800x1600 with 1 Axes>"
      ]
     },
     "metadata": {},
     "output_type": "display_data"
    }
   ],
   "source": [
    "experiments_plot = params['comparison']\n",
    "experiment_colors = [ helper.condition_colors[e]\n",
    "                      for e in experiments_plot ]\n",
    "\n",
    "# window_pre = params['window_pre']\n",
    "# window_post = params['window_post']\n",
    "\n",
    "# ratio_threshold = params['ratio_threshold']\n",
    "\n",
    "group_key = params['group_key']\n",
    "coreg_key = params['coreg_key']\n",
    "\n",
    "window_plot = params['window_plot']\n",
    "window_sort = params['window_sort']\n",
    "\n",
    "#\n",
    "\n",
    "plt.figure( figsize = (8, 16) )\n",
    "\n",
    "cur_row = 0\n",
    "experiment_start = None\n",
    "experiment_groups_sorted = dict()\n",
    "\n",
    "for experiment, color in zip( experiments_plot, experiment_colors ):\n",
    "    \n",
    "    filter_events_experiment = events_panel['condition'] == experiment\n",
    "    events_cur = events_panel[filter_events_experiment]\n",
    "\n",
    "    filter_events_experiment_sort = events_sort['condition'] == experiment\n",
    "    events_cur_sort = events_sort[filter_events_experiment_sort]\n",
    "\n",
    "    #\n",
    "    \n",
    "    experiment_start = cur_row - 0.5\n",
    "    \n",
    "    # Determine sort order\n",
    "    group_sum = dict()\n",
    "    for group, df_group in events_cur_sort.groupby( group_key ):\n",
    "        filter_window = uevents.is_within(\n",
    "            df_group['start_time_rel'],\n",
    "            window_sort\n",
    "        )\n",
    "        group_sum[group] = np.sum( filter_window )\n",
    "    groups_sorted = list( map( lambda x: x[0],\n",
    "                               sorted( group_sum.items(),\n",
    "                                       key = lambda y: y[1] ) ) )\n",
    "    experiment_groups_sorted[experiment] = groups_sorted\n",
    "\n",
    "    for group in groups_sorted:\n",
    "    \n",
    "        filter_group = events_cur[group_key] == group\n",
    "        df_group = events_cur[filter_group]\n",
    "\n",
    "        filter_window = uevents.is_within(\n",
    "            df_group['start_time_rel'],\n",
    "            window_plot\n",
    "        )\n",
    "        df_group_window = df_group[filter_window]\n",
    "    \n",
    "        ts = df_group_window['start_time_rel']\n",
    "        \n",
    "        for t in ts:\n",
    "            plt.plot(\n",
    "                [t, t], [cur_row - 0.4, cur_row + 0.4],\n",
    "                'k-',\n",
    "                linewidth = 1\n",
    "            )\n",
    "        \n",
    "        cur_row = cur_row + 1\n",
    "        \n",
    "    experiment_end = cur_row - 0.5\n",
    "    \n",
    "    plt.fill_between(\n",
    "        [-60, 120], [experiment_start, experiment_start], [experiment_end, experiment_end],\n",
    "        color = color,\n",
    "        alpha = 0.2\n",
    "    )\n",
    "\n",
    "yl = [-2, cur_row + 1]\n",
    "plt.ylim( yl )\n",
    "plt.plot( [0, 0], yl, 'g-', linewidth = 2 )\n",
    "    \n",
    "plt.xlim( -60, 120 )\n",
    "\n",
    "plt.title( f'{params[\"event_type_description\"]} events' )\n",
    "\n",
    "plt.ylabel( 'Cell' )\n",
    "plt.xlabel( 'Time relative to uncaging start (s)' )\n",
    "\n",
    "save_figure( 'raster', 'svg' )\n",
    "\n",
    "plt.show()"
   ]
  },
  {
   "cell_type": "code",
   "execution_count": null,
   "metadata": {},
   "outputs": [],
   "source": []
  }
 ],
 "metadata": {
  "kernelspec": {
   "display_name": "Python 3",
   "language": "python",
   "name": "python3"
  },
  "language_info": {
   "codemirror_mode": {
    "name": "ipython",
    "version": 3
   },
   "file_extension": ".py",
   "mimetype": "text/x-python",
   "name": "python",
   "nbconvert_exporter": "python",
   "pygments_lexer": "ipython3",
   "version": "3.8.18"
  }
 },
 "nbformat": 4,
 "nbformat_minor": 2
}
