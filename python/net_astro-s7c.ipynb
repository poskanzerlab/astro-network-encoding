{
 "cells": [
  {
   "cell_type": "markdown",
   "metadata": {},
   "source": [
    "# Extended Data Fig. 7C\n",
    "## Multi-round response overlap\n",
    "\n",
    "For \"Network-level encoding of local neurotransmitters in cortical astrocytes\" (Cahill et al. 2024)"
   ]
  },
  {
   "cell_type": "markdown",
   "metadata": {},
   "source": [
    "---"
   ]
  },
  {
   "cell_type": "markdown",
   "metadata": {},
   "source": [
    "## Setup"
   ]
  },
  {
   "cell_type": "markdown",
   "metadata": {},
   "source": [
    "#### Imports"
   ]
  },
  {
   "cell_type": "code",
   "execution_count": 1,
   "metadata": {},
   "outputs": [],
   "source": [
    "# Typing\n",
    "\n",
    "from numpy.typing import(\n",
    "    ArrayLike,\n",
    ")\n",
    "\n",
    "# Others\n",
    "\n",
    "from pathlib import Path\n",
    "from itertools import combinations\n",
    "\n",
    "import numpy as np\n",
    "import pandas as pd\n",
    "import scipy.stats\n",
    "import matplotlib.pyplot as plt\n",
    "\n",
    "from tqdm import tqdm\n",
    "\n",
    "# Internal\n",
    "\n",
    "from uncaging import (\n",
    "    Helper,\n",
    ")\n",
    "\n",
    "import uncaging.utils as uutils\n",
    "import uncaging.events as uevents\n",
    "import uncaging.stats as ustats\n"
   ]
  },
  {
   "cell_type": "markdown",
   "metadata": {},
   "source": [
    "#### Parameters"
   ]
  },
  {
   "cell_type": "code",
   "execution_count": 2,
   "metadata": {},
   "outputs": [],
   "source": [
    "params_path = Path( 'config' ) / 'panels' / 'net_astro-s7c.yaml'\n",
    "params = uutils.load_params( params_path )"
   ]
  },
  {
   "cell_type": "markdown",
   "metadata": {},
   "source": [
    "#### Initial setup"
   ]
  },
  {
   "cell_type": "code",
   "execution_count": 3,
   "metadata": {},
   "outputs": [],
   "source": [
    "helper = Helper(\n",
    "    config_path = params['helper_configs'],\n",
    "    hive_root = params['hive_root'],\n",
    "    output_to = params['output_parent'],\n",
    ")\n",
    "\n",
    "# For reproducible results with randomness\n",
    "np.random.seed( params['random_seed'] )\n",
    "\n",
    "# Output saving\n",
    "notebook_stem = params['notebook_stem']\n",
    "analysis = params['analysis']\n",
    "\n",
    "save_figure = helper.figure_saver( notebook_stem, analysis )\n",
    "save_data = helper.data_saver( notebook_stem, analysis )\n",
    "save_csv = helper.csv_saver( notebook_stem, analysis )"
   ]
  },
  {
   "cell_type": "markdown",
   "metadata": {},
   "source": [
    "---"
   ]
  },
  {
   "cell_type": "markdown",
   "metadata": {},
   "source": [
    "## Load data"
   ]
  },
  {
   "cell_type": "code",
   "execution_count": 4,
   "metadata": {},
   "outputs": [
    {
     "name": "stderr",
     "output_type": "stream",
     "text": [
      "Loading 20230720_CytoGp36f_S2_R3_RuBiGlu3_024_Ch0_moco_cell-events.mat...: 100%|██████████| 146/146 [00:08<00:00, 16.30it/s]             \n",
      "Loading 20230720_CytoGp36f_S2_R3_RuBiGlu3_024_Ch0_moco_cell-events.mat...: 100%|██████████| 146/146 [00:08<00:00, 17.94it/s]             \n"
     ]
    },
    {
     "name": "stdout",
     "output_type": "stream",
     "text": [
      "\n",
      "Experiment GABA-repeat-70\n",
      "    Excluded cells: 869\n",
      "    Included cells: 371\n",
      "\n",
      "\n",
      "Experiment Glu-repeat-70\n",
      "    Excluded cells: 991\n",
      "    Included cells: 343\n",
      "\n"
     ]
    }
   ],
   "source": [
    "events_analyze = helper.load_analysis_events(\n",
    "    analysis,\n",
    "    extra_decorators = [],\n",
    "    verbose = True\n",
    ")"
   ]
  },
  {
   "cell_type": "code",
   "execution_count": 5,
   "metadata": {},
   "outputs": [],
   "source": [
    "events_analyze, events_prop, events_no_prop = uevents.split_events_prop(\n",
    "    events_analyze,\n",
    "    threshold = params['prop_threshold'],\n",
    ")"
   ]
  },
  {
   "cell_type": "markdown",
   "metadata": {},
   "source": [
    "---"
   ]
  },
  {
   "cell_type": "markdown",
   "metadata": {},
   "source": [
    "## Analysis"
   ]
  },
  {
   "cell_type": "markdown",
   "metadata": {},
   "source": [
    "#### TODO: These have duplication with 4M and S7C"
   ]
  },
  {
   "cell_type": "markdown",
   "metadata": {},
   "source": [
    "### Helpers"
   ]
  },
  {
   "cell_type": "code",
   "execution_count": 6,
   "metadata": {},
   "outputs": [],
   "source": [
    "def similarity_jaccard(\n",
    "        x: ArrayLike,\n",
    "        y: ArrayLike\n",
    "    ) -> float:\n",
    "    \"\"\"\n",
    "    TODO\n",
    "    \"\"\"\n",
    "    return np.sum( (x == 1) & (y == 1) ) / np.sum( (x == 1) | (y == 1) )\n",
    "\n",
    "def active_comparison_stats(\n",
    "        results,\n",
    "        n_perm: int = 10000\n",
    "    ):\n",
    "    \"\"\"\n",
    "    TODO\n",
    "    \"\"\"\n",
    "    \n",
    "    ret = dict()\n",
    "    \n",
    "    comparison_keys = [k for k in results.keys()\n",
    "                       if 'ratio_active' in k]\n",
    "    \n",
    "    for comparison in list( combinations( comparison_keys, 2 ) ):\n",
    "        \n",
    "        cur_ret = dict()\n",
    "        \n",
    "        x = results[comparison[0]]\n",
    "        y = results[comparison[1]]\n",
    "        \n",
    "        print( comparison )\n",
    "        \n",
    "        cur_ret['spearman'] = scipy.stats.spearmanr( x, y )\n",
    "        cur_ret['spearman_p'] = cur_ret['spearman'].pvalue\n",
    "        print( f'    Spearman: {scipy.stats.spearmanr( x, y )}' )\n",
    "        \n",
    "        spearman_perm = np.zeros( (n_perm,) )\n",
    "        for i_perm in tqdm( range( n_perm ) ):\n",
    "            x_perm = np.random.permutation( x )\n",
    "            y_perm = np.random.permutation( y )\n",
    "            spearman_perm[i_perm] = scipy.stats.spearmanr( x_perm, y_perm )[0]\n",
    "        cur_ret['spearman_perm'] = spearman_perm\n",
    "        cur_ret['spearman_p_perm'] = ustats.perm_p( np.sum( np.abs( spearman_perm ) >= np.abs( cur_ret['spearman'][0] ) ), n_perm )\n",
    "        print( f'    Spearman p (perm): {cur_ret[\"spearman_p_perm\"]}' )\n",
    "        \n",
    "        plt.figure( figsize = (4, 3) )\n",
    "        plt.hist( spearman_perm, bins = np.arange( -0.55, 0.56, 0.1 ) )\n",
    "        yl = plt.ylim()\n",
    "        plt.plot( [cur_ret['spearman'][0], cur_ret['spearman'][0]], yl, 'k-', linewidth = 2 )\n",
    "        plt.show()\n",
    "        \n",
    "        #\n",
    "        \n",
    "        jaccard = similarity_jaccard( x, y )\n",
    "        cur_ret['jaccard'] = jaccard\n",
    "        \n",
    "        jaccard_perm = np.zeros( (n_perm,) )\n",
    "        for i_perm in tqdm( range( n_perm ) ):\n",
    "            x_perm = np.random.permutation( x )\n",
    "            y_perm = np.random.permutation( y )\n",
    "            jaccard_perm[i_perm] = similarity_jaccard( x_perm, y_perm )\n",
    "        cur_ret['jaccard_perm'] = jaccard_perm\n",
    "        cur_ret['jaccard_p_perm'] = ustats.perm_p( np.sum( jaccard_perm >= jaccard ), n_perm )\n",
    "        print( f'    Jaccard: {jaccard}' )\n",
    "        print( f'    Jaccard p (perm): {cur_ret[\"jaccard_p_perm\"]}' )\n",
    "        \n",
    "        plt.figure( figsize = (4, 3) )\n",
    "        plt.hist( jaccard_perm, bins = 10 )\n",
    "        yl = plt.ylim()\n",
    "        plt.plot( [jaccard, jaccard], yl, 'k-', linewidth = 2 )\n",
    "        plt.show()\n",
    "        \n",
    "        ret[comparison] = cur_ret\n",
    "    \n",
    "    return ret"
   ]
  },
  {
   "cell_type": "markdown",
   "metadata": {},
   "source": [
    "### Setup"
   ]
  },
  {
   "cell_type": "code",
   "execution_count": 7,
   "metadata": {},
   "outputs": [],
   "source": [
    "# These are keys we might need for downstream coregistration\n",
    "params['responders']['keep_keys'] = [\n",
    "    'dataset_id',\n",
    "    'dataset_id_all',\n",
    "    'condition',\n",
    "    'mouse',\n",
    "    'fov',\n",
    "    'repeat',\n",
    "    'fov_coreg',\n",
    "    'slice_all',\n",
    "    'cell_global_all',\n",
    "    'cell_global_coreg',\n",
    "]\n",
    "\n",
    "# Save some duplication in the `responders` params\n",
    "params['responder_fractions'].update( params['responders'] )\n",
    "\n",
    "responder_cache_keys = [\n",
    "    'mouse',\n",
    "    'slice_all',\n",
    "    'dataset_id_all',\n",
    "    'cell_global_coreg',\n",
    "    'ratio_active',\n",
    "]"
   ]
  },
  {
   "cell_type": "markdown",
   "metadata": {},
   "source": [
    "***\n",
    "\n",
    "### Result: Neighbor cells, pattern overlap"
   ]
  },
  {
   "cell_type": "code",
   "execution_count": 8,
   "metadata": {},
   "outputs": [],
   "source": [
    "condition_key = params['condition_key']\n",
    "condition = params['condition']\n",
    "\n",
    "if params['event_type'].lower().startswith( 'prop' ):\n",
    "    events_subset = events_prop.copy()\n",
    "elif params['event_type'].lower().startswith( 'static' ):\n",
    "    events_subset = events_no_prop.copy()\n",
    "elif params['event_type'].lower().startswith( 'all' ):\n",
    "    events_subset = events_analyze.copy()\n",
    "else:\n",
    "    raise ValueError( f'Unrecognized event type: {params[\"event_type\"]}' )\n",
    "\n",
    "filter_events_condition = (events_subset[condition_key] == condition)\n",
    "filter_events_neighbor = events_subset['is_uncage'] == False\n",
    "filter_events_panel = filter_events_condition & filter_events_neighbor\n",
    "\n",
    "events_panel = events_subset.copy()[filter_events_panel]"
   ]
  },
  {
   "cell_type": "code",
   "execution_count": 9,
   "metadata": {},
   "outputs": [
    {
     "name": "stdout",
     "output_type": "stream",
     "text": [
      "Mice:            n = 5\n",
      "Slices per NT:   n = 8\n",
      "Datasets per NT: n = 15\n",
      "Cells:           n = 32\n",
      "('ratio_active_1', 'ratio_active_2')\n",
      "    Spearman: SignificanceResult(statistic=-0.040128617695256406, pvalue=0.8273839994961122)\n"
     ]
    },
    {
     "name": "stderr",
     "output_type": "stream",
     "text": [
      "100%|██████████| 10000/10000 [00:02<00:00, 4461.78it/s]\n"
     ]
    },
    {
     "name": "stdout",
     "output_type": "stream",
     "text": [
      "    Spearman p (perm): 1.0\n"
     ]
    },
    {
     "data": {
      "image/png": "[encoded data removed]",
      "text/plain": [
       "<Figure size 400x300 with 1 Axes>"
      ]
     },
     "metadata": {},
     "output_type": "display_data"
    },
    {
     "name": "stderr",
     "output_type": "stream",
     "text": [
      "100%|██████████| 10000/10000 [00:00<00:00, 30890.69it/s]"
     ]
    },
    {
     "name": "stdout",
     "output_type": "stream",
     "text": [
      "    Jaccard: 0.13333333333333333\n",
      "    Jaccard p (perm): 0.7423257674232576\n"
     ]
    },
    {
     "name": "stderr",
     "output_type": "stream",
     "text": [
      "\n"
     ]
    },
    {
     "data": {
      "image/png": "[encoded data removed]",
      "text/plain": [
       "<Figure size 400x300 with 1 Axes>"
      ]
     },
     "metadata": {},
     "output_type": "display_data"
    },
    {
     "name": "stdout",
     "output_type": "stream",
     "text": [
      "Mice:            n = 5\n",
      "Slices per NT:   n = 7\n",
      "Datasets per NT: n = 16\n",
      "Cells:           n = 30\n",
      "('ratio_active_1', 'ratio_active_3')\n",
      "    Spearman: SignificanceResult(statistic=0.13875598086124405, pvalue=0.46462462293241136)\n"
     ]
    },
    {
     "name": "stderr",
     "output_type": "stream",
     "text": [
      "100%|██████████| 10000/10000 [00:02<00:00, 4401.75it/s]"
     ]
    },
    {
     "name": "stdout",
     "output_type": "stream",
     "text": [
      "    Spearman p (perm): 0.6957304269573042\n"
     ]
    },
    {
     "name": "stderr",
     "output_type": "stream",
     "text": [
      "\n"
     ]
    },
    {
     "data": {
      "image/png": "[encoded data removed]",
      "text/plain": [
       "<Figure size 400x300 with 1 Axes>"
      ]
     },
     "metadata": {},
     "output_type": "display_data"
    },
    {
     "name": "stderr",
     "output_type": "stream",
     "text": [
      "100%|██████████| 10000/10000 [00:00<00:00, 31759.63it/s]"
     ]
    },
    {
     "name": "stdout",
     "output_type": "stream",
     "text": [
      "    Jaccard: 0.29411764705882354\n",
      "    Jaccard p (perm): 0.34496550344965504\n"
     ]
    },
    {
     "name": "stderr",
     "output_type": "stream",
     "text": [
      "\n"
     ]
    },
    {
     "data": {
      "image/png": "[encoded data removed]",
      "text/plain": [
       "<Figure size 400x300 with 1 Axes>"
      ]
     },
     "metadata": {},
     "output_type": "display_data"
    },
    {
     "name": "stdout",
     "output_type": "stream",
     "text": [
      "Mice:            n = 5\n",
      "Slices per NT:   n = 8\n",
      "Datasets per NT: n = 17\n",
      "Cells:           n = 38\n",
      "('ratio_active_2', 'ratio_active_3')\n",
      "    Spearman: SignificanceResult(statistic=0.05913123959890826, pvalue=0.724357013192179)\n"
     ]
    },
    {
     "name": "stderr",
     "output_type": "stream",
     "text": [
      "100%|██████████| 10000/10000 [00:02<00:00, 4498.78it/s]\n"
     ]
    },
    {
     "name": "stdout",
     "output_type": "stream",
     "text": [
      "    Spearman p (perm): 0.7354264573542646\n"
     ]
    },
    {
     "data": {
      "image/png": "[encoded data removed]",
      "text/plain": [
       "<Figure size 400x300 with 1 Axes>"
      ]
     },
     "metadata": {},
     "output_type": "display_data"
    },
    {
     "name": "stderr",
     "output_type": "stream",
     "text": [
      "100%|██████████| 10000/10000 [00:00<00:00, 30396.88it/s]\n"
     ]
    },
    {
     "name": "stdout",
     "output_type": "stream",
     "text": [
      "    Jaccard: 0.2608695652173913\n",
      "    Jaccard p (perm): 0.49735026497350265\n"
     ]
    },
    {
     "data": {
      "image/png": "[encoded data removed]",
      "text/plain": [
       "<Figure size 400x300 with 1 Axes>"
      ]
     },
     "metadata": {},
     "output_type": "display_data"
    }
   ],
   "source": [
    "results_active_comparison_overall = dict()\n",
    "\n",
    "for repeat_pair in params['repeats_compare']:\n",
    "\n",
    "    # Normalization\n",
    "    repeat_pair = tuple( repeat_pair )\n",
    "\n",
    "    responders_per_condition = []\n",
    "\n",
    "    for repeat in repeat_pair:\n",
    "\n",
    "        filter_events_repeat = (events_panel['repeat'] == repeat)\n",
    "        events_cur = events_panel[filter_events_repeat]\n",
    "\n",
    "        responders_cur = uevents.responders(\n",
    "            events_cur,\n",
    "            params['coreg_key'],\n",
    "            **params['responders']\n",
    "        )\n",
    "        responders_per_condition.append( responders_cur[responder_cache_keys] )\n",
    "\n",
    "    responders_overall = pd.merge(\n",
    "        responders_per_condition[0], responders_per_condition[1],\n",
    "        on = params['coreg_key'],\n",
    "        how = 'inner',\n",
    "        suffixes = [f'_{x}' for x in repeat_pair],\n",
    "    )\n",
    "    \n",
    "    print( f\"Mice:            n = {len( responders_overall[f'mouse_{repeat_pair[0]}'].unique() )}\" )\n",
    "    print( f\"Slices per NT:   n = {len( responders_overall[f'slice_all_{repeat_pair[0]}'].unique() )}\" )\n",
    "    print( f\"Datasets per NT: n = {len( responders_overall[f'dataset_id_all_{repeat_pair[0]}'].unique() )}\" )\n",
    "    print( f\"Cells:           n = {len( responders_overall['cell_global_coreg'].unique() )}\" )\n",
    "    \n",
    "    results_active_comparison = active_comparison_stats( responders_overall )\n",
    "    results_active_comparison_overall[repeat_pair] = results_active_comparison"
   ]
  },
  {
   "cell_type": "code",
   "execution_count": 10,
   "metadata": {},
   "outputs": [],
   "source": [
    "spearman_disp = np.zeros( (3, 3) )\n",
    "spearman_disp[:, :] = np.nan\n",
    "\n",
    "for repeats_compare, results_active_comparison in results_active_comparison_overall.items():\n",
    "    cur_key = (f'ratio_active_{repeats_compare[0]}', f'ratio_active_{repeats_compare[1]}')\n",
    "    cur_spearman = results_active_comparison[cur_key]['spearman'].statistic\n",
    "    spearman_disp[repeats_compare[0] - 1, repeats_compare[1] - 1] = cur_spearman"
   ]
  },
  {
   "cell_type": "code",
   "execution_count": 11,
   "metadata": {},
   "outputs": [
    {
     "data": {
      "image/png": "[encoded data removed]",
      "text/plain": [
       "<Figure size 300x300 with 2 Axes>"
      ]
     },
     "metadata": {},
     "output_type": "display_data"
    }
   ],
   "source": [
    "plt.figure( figsize = (3, 3))\n",
    "plt.imshow( spearman_disp,\n",
    "            clim = (0, 0.5) )\n",
    "plt.colorbar()\n",
    "\n",
    "plt.yticks( [0, 1, 2], [1, 2, 3] )\n",
    "plt.xticks( [0, 1, 2], [1, 2, 3] )\n",
    "\n",
    "save_figure( f'{condition}-rounds-spearman' )\n",
    "\n",
    "plt.show()"
   ]
  }
 ],
 "metadata": {
  "kernelspec": {
   "display_name": "Python 3",
   "language": "python",
   "name": "python3"
  },
  "language_info": {
   "codemirror_mode": {
    "name": "ipython",
    "version": 3
   },
   "file_extension": ".py",
   "mimetype": "text/x-python",
   "name": "python",
   "nbconvert_exporter": "python",
   "pygments_lexer": "ipython3",
   "version": "3.8.18"
  }
 },
 "nbformat": 4,
 "nbformat_minor": 2
}
